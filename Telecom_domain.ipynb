{
 "cells": [
  {
   "cell_type": "code",
   "execution_count": 92,
   "id": "800e7574-43cb-448a-a8fa-066a37caeaa1",
   "metadata": {},
   "outputs": [],
   "source": [
    "import os , sys\n",
    "import pandas as pd \n",
    "import numpy as np\n",
    "import os\n",
    "import seaborn as sns\n",
    "sns.set()\n",
    "import matplotlib.pyplot as plt\n",
    "%matplotlib inline\n",
    "import warnings\n",
    "warnings.filterwarnings(\"ignore\")"
   ]
  },
  {
   "cell_type": "code",
   "execution_count": 93,
   "id": "9f6c2191-06ee-4886-a0fb-1eb3dafa1f4d",
   "metadata": {},
   "outputs": [
    {
     "data": {
      "text/html": [
       "<div>\n",
       "<style scoped>\n",
       "    .dataframe tbody tr th:only-of-type {\n",
       "        vertical-align: middle;\n",
       "    }\n",
       "\n",
       "    .dataframe tbody tr th {\n",
       "        vertical-align: top;\n",
       "    }\n",
       "\n",
       "    .dataframe thead th {\n",
       "        text-align: right;\n",
       "    }\n",
       "</style>\n",
       "<table border=\"1\" class=\"dataframe\">\n",
       "  <thead>\n",
       "    <tr style=\"text-align: right;\">\n",
       "      <th></th>\n",
       "      <th>customerID</th>\n",
       "      <th>gender</th>\n",
       "      <th>SeniorCitizen</th>\n",
       "      <th>Partner</th>\n",
       "      <th>Dependents</th>\n",
       "      <th>tenure</th>\n",
       "      <th>PhoneService</th>\n",
       "      <th>MultipleLines</th>\n",
       "      <th>InternetService</th>\n",
       "      <th>OnlineSecurity</th>\n",
       "      <th>...</th>\n",
       "      <th>DeviceProtection</th>\n",
       "      <th>TechSupport</th>\n",
       "      <th>StreamingTV</th>\n",
       "      <th>StreamingMovies</th>\n",
       "      <th>Contract</th>\n",
       "      <th>PaperlessBilling</th>\n",
       "      <th>PaymentMethod</th>\n",
       "      <th>MonthlyCharges</th>\n",
       "      <th>TotalCharges</th>\n",
       "      <th>Churn</th>\n",
       "    </tr>\n",
       "  </thead>\n",
       "  <tbody>\n",
       "    <tr>\n",
       "      <th>0</th>\n",
       "      <td>7590-VHVEG</td>\n",
       "      <td>Female</td>\n",
       "      <td>0</td>\n",
       "      <td>Yes</td>\n",
       "      <td>No</td>\n",
       "      <td>1</td>\n",
       "      <td>No</td>\n",
       "      <td>No phone service</td>\n",
       "      <td>DSL</td>\n",
       "      <td>No</td>\n",
       "      <td>...</td>\n",
       "      <td>No</td>\n",
       "      <td>No</td>\n",
       "      <td>No</td>\n",
       "      <td>No</td>\n",
       "      <td>Month-to-month</td>\n",
       "      <td>Yes</td>\n",
       "      <td>Electronic check</td>\n",
       "      <td>29.85</td>\n",
       "      <td>29.85</td>\n",
       "      <td>No</td>\n",
       "    </tr>\n",
       "    <tr>\n",
       "      <th>1</th>\n",
       "      <td>5575-GNVDE</td>\n",
       "      <td>Male</td>\n",
       "      <td>0</td>\n",
       "      <td>No</td>\n",
       "      <td>No</td>\n",
       "      <td>34</td>\n",
       "      <td>Yes</td>\n",
       "      <td>No</td>\n",
       "      <td>DSL</td>\n",
       "      <td>Yes</td>\n",
       "      <td>...</td>\n",
       "      <td>Yes</td>\n",
       "      <td>No</td>\n",
       "      <td>No</td>\n",
       "      <td>No</td>\n",
       "      <td>One year</td>\n",
       "      <td>No</td>\n",
       "      <td>Mailed check</td>\n",
       "      <td>56.95</td>\n",
       "      <td>1889.5</td>\n",
       "      <td>No</td>\n",
       "    </tr>\n",
       "    <tr>\n",
       "      <th>2</th>\n",
       "      <td>3668-QPYBK</td>\n",
       "      <td>Male</td>\n",
       "      <td>0</td>\n",
       "      <td>No</td>\n",
       "      <td>No</td>\n",
       "      <td>2</td>\n",
       "      <td>Yes</td>\n",
       "      <td>No</td>\n",
       "      <td>DSL</td>\n",
       "      <td>Yes</td>\n",
       "      <td>...</td>\n",
       "      <td>No</td>\n",
       "      <td>No</td>\n",
       "      <td>No</td>\n",
       "      <td>No</td>\n",
       "      <td>Month-to-month</td>\n",
       "      <td>Yes</td>\n",
       "      <td>Mailed check</td>\n",
       "      <td>53.85</td>\n",
       "      <td>108.15</td>\n",
       "      <td>Yes</td>\n",
       "    </tr>\n",
       "    <tr>\n",
       "      <th>3</th>\n",
       "      <td>7795-CFOCW</td>\n",
       "      <td>Male</td>\n",
       "      <td>0</td>\n",
       "      <td>No</td>\n",
       "      <td>No</td>\n",
       "      <td>45</td>\n",
       "      <td>No</td>\n",
       "      <td>No phone service</td>\n",
       "      <td>DSL</td>\n",
       "      <td>Yes</td>\n",
       "      <td>...</td>\n",
       "      <td>Yes</td>\n",
       "      <td>Yes</td>\n",
       "      <td>No</td>\n",
       "      <td>No</td>\n",
       "      <td>One year</td>\n",
       "      <td>No</td>\n",
       "      <td>Bank transfer (automatic)</td>\n",
       "      <td>42.30</td>\n",
       "      <td>1840.75</td>\n",
       "      <td>No</td>\n",
       "    </tr>\n",
       "    <tr>\n",
       "      <th>4</th>\n",
       "      <td>9237-HQITU</td>\n",
       "      <td>Female</td>\n",
       "      <td>0</td>\n",
       "      <td>No</td>\n",
       "      <td>No</td>\n",
       "      <td>2</td>\n",
       "      <td>Yes</td>\n",
       "      <td>No</td>\n",
       "      <td>Fiber optic</td>\n",
       "      <td>No</td>\n",
       "      <td>...</td>\n",
       "      <td>No</td>\n",
       "      <td>No</td>\n",
       "      <td>No</td>\n",
       "      <td>No</td>\n",
       "      <td>Month-to-month</td>\n",
       "      <td>Yes</td>\n",
       "      <td>Electronic check</td>\n",
       "      <td>70.70</td>\n",
       "      <td>151.65</td>\n",
       "      <td>Yes</td>\n",
       "    </tr>\n",
       "  </tbody>\n",
       "</table>\n",
       "<p>5 rows × 21 columns</p>\n",
       "</div>"
      ],
      "text/plain": [
       "   customerID  gender  SeniorCitizen Partner Dependents  tenure PhoneService  \\\n",
       "0  7590-VHVEG  Female              0     Yes         No       1           No   \n",
       "1  5575-GNVDE    Male              0      No         No      34          Yes   \n",
       "2  3668-QPYBK    Male              0      No         No       2          Yes   \n",
       "3  7795-CFOCW    Male              0      No         No      45           No   \n",
       "4  9237-HQITU  Female              0      No         No       2          Yes   \n",
       "\n",
       "      MultipleLines InternetService OnlineSecurity  ... DeviceProtection  \\\n",
       "0  No phone service             DSL             No  ...               No   \n",
       "1                No             DSL            Yes  ...              Yes   \n",
       "2                No             DSL            Yes  ...               No   \n",
       "3  No phone service             DSL            Yes  ...              Yes   \n",
       "4                No     Fiber optic             No  ...               No   \n",
       "\n",
       "  TechSupport StreamingTV StreamingMovies        Contract PaperlessBilling  \\\n",
       "0          No          No              No  Month-to-month              Yes   \n",
       "1          No          No              No        One year               No   \n",
       "2          No          No              No  Month-to-month              Yes   \n",
       "3         Yes          No              No        One year               No   \n",
       "4          No          No              No  Month-to-month              Yes   \n",
       "\n",
       "               PaymentMethod MonthlyCharges  TotalCharges Churn  \n",
       "0           Electronic check          29.85         29.85    No  \n",
       "1               Mailed check          56.95        1889.5    No  \n",
       "2               Mailed check          53.85        108.15   Yes  \n",
       "3  Bank transfer (automatic)          42.30       1840.75    No  \n",
       "4           Electronic check          70.70        151.65   Yes  \n",
       "\n",
       "[5 rows x 21 columns]"
      ]
     },
     "execution_count": 93,
     "metadata": {},
     "output_type": "execute_result"
    }
   ],
   "source": [
    "cust_churn=pd.read_csv('Telcom Data.csv')\n",
    "cust_churn.head()"
   ]
  },
  {
   "cell_type": "raw",
   "id": "dec6cbdc-2bc2-4f82-98f3-0dfc01420d55",
   "metadata": {},
   "source": [
    "cust_churn.info()"
   ]
  },
  {
   "cell_type": "code",
   "execution_count": 94,
   "id": "b9252439-6342-4ab9-84f3-a5b2a034dae0",
   "metadata": {},
   "outputs": [
    {
     "data": {
      "text/plain": [
       "0"
      ]
     },
     "execution_count": 94,
     "metadata": {},
     "output_type": "execute_result"
    }
   ],
   "source": [
    "# Data cleaning - check duplicated data\n",
    "cust_churn.duplicated().sum()"
   ]
  },
  {
   "cell_type": "code",
   "execution_count": 95,
   "id": "ae3b2d1e-0441-4c05-b988-4203a4150ac5",
   "metadata": {},
   "outputs": [
    {
     "data": {
      "text/plain": [
       "Churn\n",
       "No     0.73463\n",
       "Yes    0.26537\n",
       "Name: proportion, dtype: float64"
      ]
     },
     "execution_count": 95,
     "metadata": {},
     "output_type": "execute_result"
    }
   ],
   "source": [
    "cust_churn['Churn'].value_counts(normalize=True)"
   ]
  },
  {
   "cell_type": "code",
   "execution_count": 96,
   "id": "634c9e8f-935d-44fb-a2c6-f8685c8270f6",
   "metadata": {},
   "outputs": [],
   "source": [
    "# Imbalanced Dataset\n",
    "# 26% churn rate hence the company's reputation is not that good, till 5% is okay"
   ]
  },
  {
   "cell_type": "code",
   "execution_count": 97,
   "id": "72089bab-6e3a-45b0-b1ef-d4340ea6dd03",
   "metadata": {},
   "outputs": [],
   "source": [
    "cust_churn['Churn']=cust_churn['Churn'].replace({'Yes':1,'No':0})\n",
    "# never use ohe for dependent variable"
   ]
  },
  {
   "cell_type": "code",
   "execution_count": 98,
   "id": "fca69c9b-597c-41da-842f-4c6bf3e3c8e9",
   "metadata": {},
   "outputs": [
    {
     "data": {
      "text/plain": [
       "Churn\n",
       "0    5174\n",
       "1    1869\n",
       "Name: count, dtype: int64"
      ]
     },
     "execution_count": 98,
     "metadata": {},
     "output_type": "execute_result"
    }
   ],
   "source": [
    "cust_churn['Churn'].value_counts()"
   ]
  },
  {
   "cell_type": "code",
   "execution_count": 99,
   "id": "4dfa2289-d169-4f29-8561-eea8abba60d9",
   "metadata": {},
   "outputs": [
    {
     "data": {
      "text/plain": [
       "Index(['customerID', 'gender', 'SeniorCitizen', 'Partner', 'Dependents',\n",
       "       'tenure', 'PhoneService', 'MultipleLines', 'InternetService',\n",
       "       'OnlineSecurity', 'OnlineBackup', 'DeviceProtection', 'TechSupport',\n",
       "       'StreamingTV', 'StreamingMovies', 'Contract', 'PaperlessBilling',\n",
       "       'PaymentMethod', 'MonthlyCharges', 'TotalCharges', 'Churn'],\n",
       "      dtype='object')"
      ]
     },
     "execution_count": 99,
     "metadata": {},
     "output_type": "execute_result"
    }
   ],
   "source": [
    "cust_churn.columns"
   ]
  },
  {
   "cell_type": "code",
   "execution_count": 100,
   "id": "5d14b311-3a65-48bc-9213-4eea382a810d",
   "metadata": {},
   "outputs": [
    {
     "data": {
      "text/plain": [
       "gender\n",
       "Male      3555\n",
       "Female    3488\n",
       "Name: count, dtype: int64"
      ]
     },
     "execution_count": 100,
     "metadata": {},
     "output_type": "execute_result"
    }
   ],
   "source": [
    "cust_churn.gender.value_counts()"
   ]
  },
  {
   "cell_type": "code",
   "execution_count": 101,
   "id": "db1c8064-e27b-4ff9-a9bf-9d67cd7ae2d1",
   "metadata": {},
   "outputs": [
    {
     "data": {
      "text/plain": [
       "SeniorCitizen\n",
       "0    5901\n",
       "1    1142\n",
       "Name: count, dtype: int64"
      ]
     },
     "execution_count": 101,
     "metadata": {},
     "output_type": "execute_result"
    }
   ],
   "source": [
    "cust_churn.SeniorCitizen.value_counts()"
   ]
  },
  {
   "cell_type": "code",
   "execution_count": 102,
   "id": "364372f9-c359-426f-97ed-e1f498cd3334",
   "metadata": {},
   "outputs": [
    {
     "data": {
      "text/plain": [
       "tenure\n",
       "1     613\n",
       "72    362\n",
       "2     238\n",
       "3     200\n",
       "4     176\n",
       "     ... \n",
       "28     57\n",
       "39     56\n",
       "44     51\n",
       "36     50\n",
       "0      11\n",
       "Name: count, Length: 73, dtype: int64"
      ]
     },
     "execution_count": 102,
     "metadata": {},
     "output_type": "execute_result"
    }
   ],
   "source": [
    "cust_churn['tenure'].value_counts()"
   ]
  },
  {
   "cell_type": "code",
   "execution_count": 103,
   "id": "710870db-4e50-4681-bab6-c3405f355de5",
   "metadata": {},
   "outputs": [
    {
     "data": {
      "text/plain": [
       "MultipleLines\n",
       "No                  3390\n",
       "Yes                 2971\n",
       "No phone service     682\n",
       "Name: count, dtype: int64"
      ]
     },
     "execution_count": 103,
     "metadata": {},
     "output_type": "execute_result"
    }
   ],
   "source": [
    "cust_churn['MultipleLines'].value_counts()"
   ]
  },
  {
   "cell_type": "code",
   "execution_count": 104,
   "id": "c77f22bc-865a-4c33-82e1-d2f1679d32db",
   "metadata": {},
   "outputs": [
    {
     "data": {
      "text/plain": [
       "InternetService\n",
       "Fiber optic    3096\n",
       "DSL            2421\n",
       "No             1526\n",
       "Name: count, dtype: int64"
      ]
     },
     "execution_count": 104,
     "metadata": {},
     "output_type": "execute_result"
    }
   ],
   "source": [
    "cust_churn['InternetService'].value_counts()"
   ]
  },
  {
   "cell_type": "code",
   "execution_count": 105,
   "id": "660aa529-3832-4c3f-9aee-f3a99722db26",
   "metadata": {},
   "outputs": [],
   "source": [
    "# You can target the customers and give offers to them who have not taken any services"
   ]
  },
  {
   "cell_type": "code",
   "execution_count": 106,
   "id": "b0b04b32-1cbc-4877-95d4-be15b08115c1",
   "metadata": {},
   "outputs": [
    {
     "data": {
      "text/plain": [
       "OnlineSecurity\n",
       "No                     3498\n",
       "Yes                    2019\n",
       "No internet service    1526\n",
       "Name: count, dtype: int64"
      ]
     },
     "execution_count": 106,
     "metadata": {},
     "output_type": "execute_result"
    }
   ],
   "source": [
    "cust_churn['OnlineSecurity'].value_counts()"
   ]
  },
  {
   "cell_type": "code",
   "execution_count": 107,
   "id": "0abd296b-56b8-4e5d-8e76-4e311a0b7ab7",
   "metadata": {},
   "outputs": [
    {
     "data": {
      "text/plain": [
       "OnlineBackup\n",
       "No                     3088\n",
       "Yes                    2429\n",
       "No internet service    1526\n",
       "Name: count, dtype: int64"
      ]
     },
     "execution_count": 107,
     "metadata": {},
     "output_type": "execute_result"
    }
   ],
   "source": [
    "cust_churn['OnlineBackup'].value_counts()"
   ]
  },
  {
   "cell_type": "code",
   "execution_count": 108,
   "id": "81a3d59d-223d-4ff1-814e-f4203b7a8eeb",
   "metadata": {},
   "outputs": [
    {
     "data": {
      "text/plain": [
       "DeviceProtection\n",
       "No                     3095\n",
       "Yes                    2422\n",
       "No internet service    1526\n",
       "Name: count, dtype: int64"
      ]
     },
     "execution_count": 108,
     "metadata": {},
     "output_type": "execute_result"
    }
   ],
   "source": [
    "cust_churn.DeviceProtection.value_counts()"
   ]
  },
  {
   "cell_type": "code",
   "execution_count": 109,
   "id": "dcf3e33e-b47b-4b6a-963c-9b3f47764464",
   "metadata": {},
   "outputs": [
    {
     "data": {
      "text/plain": [
       "TechSupport\n",
       "No                     3473\n",
       "Yes                    2044\n",
       "No internet service    1526\n",
       "Name: count, dtype: int64"
      ]
     },
     "execution_count": 109,
     "metadata": {},
     "output_type": "execute_result"
    }
   ],
   "source": [
    "cust_churn.TechSupport.value_counts()"
   ]
  },
  {
   "cell_type": "code",
   "execution_count": 110,
   "id": "2db55364-7b32-419b-be3d-11426898e300",
   "metadata": {},
   "outputs": [
    {
     "data": {
      "text/plain": [
       "StreamingTV\n",
       "No                     2810\n",
       "Yes                    2707\n",
       "No internet service    1526\n",
       "Name: count, dtype: int64"
      ]
     },
     "execution_count": 110,
     "metadata": {},
     "output_type": "execute_result"
    }
   ],
   "source": [
    "cust_churn.StreamingTV.value_counts()"
   ]
  },
  {
   "cell_type": "code",
   "execution_count": 111,
   "id": "b8e10a96-6624-431c-b775-fc54cb3539ba",
   "metadata": {},
   "outputs": [
    {
     "data": {
      "text/plain": [
       "Contract\n",
       "Month-to-month    3875\n",
       "Two year          1695\n",
       "One year          1473\n",
       "Name: count, dtype: int64"
      ]
     },
     "execution_count": 111,
     "metadata": {},
     "output_type": "execute_result"
    }
   ],
   "source": [
    "cust_churn.Contract.value_counts()"
   ]
  },
  {
   "cell_type": "code",
   "execution_count": 112,
   "id": "8964dfc2-f58f-424c-9279-707dcf1f852b",
   "metadata": {},
   "outputs": [
    {
     "data": {
      "text/plain": [
       "PaperlessBilling\n",
       "Yes    4171\n",
       "No     2872\n",
       "Name: count, dtype: int64"
      ]
     },
     "execution_count": 112,
     "metadata": {},
     "output_type": "execute_result"
    }
   ],
   "source": [
    "cust_churn.PaperlessBilling.value_counts()"
   ]
  },
  {
   "cell_type": "code",
   "execution_count": 113,
   "id": "aa58d8a9-54a7-40a8-9d53-1235bedcb0bc",
   "metadata": {},
   "outputs": [
    {
     "data": {
      "text/plain": [
       "PaymentMethod\n",
       "Electronic check             2365\n",
       "Mailed check                 1612\n",
       "Bank transfer (automatic)    1544\n",
       "Credit card (automatic)      1522\n",
       "Name: count, dtype: int64"
      ]
     },
     "execution_count": 113,
     "metadata": {},
     "output_type": "execute_result"
    }
   ],
   "source": [
    "cust_churn.PaymentMethod.value_counts()"
   ]
  },
  {
   "cell_type": "code",
   "execution_count": 114,
   "id": "cb0126ee-db76-4cc1-a04f-006bcc450a21",
   "metadata": {},
   "outputs": [
    {
     "data": {
      "text/plain": [
       "MonthlyCharges\n",
       "20.05     61\n",
       "19.85     45\n",
       "19.95     44\n",
       "19.90     44\n",
       "20.00     43\n",
       "          ..\n",
       "23.65      1\n",
       "114.70     1\n",
       "43.65      1\n",
       "87.80      1\n",
       "78.70      1\n",
       "Name: count, Length: 1585, dtype: int64"
      ]
     },
     "execution_count": 114,
     "metadata": {},
     "output_type": "execute_result"
    }
   ],
   "source": [
    "cust_churn.MonthlyCharges.value_counts()"
   ]
  },
  {
   "cell_type": "code",
   "execution_count": 115,
   "id": "a7f135ba-fd41-438c-80ba-7e7f870a994f",
   "metadata": {},
   "outputs": [
    {
     "data": {
      "text/plain": [
       "TotalCharges\n",
       "          11\n",
       "20.2      11\n",
       "19.75      9\n",
       "20.05      8\n",
       "19.9       8\n",
       "          ..\n",
       "6849.4     1\n",
       "692.35     1\n",
       "130.15     1\n",
       "3211.9     1\n",
       "6844.5     1\n",
       "Name: count, Length: 6531, dtype: int64"
      ]
     },
     "execution_count": 115,
     "metadata": {},
     "output_type": "execute_result"
    }
   ],
   "source": [
    "cust_churn.TotalCharges.value_counts()"
   ]
  },
  {
   "cell_type": "code",
   "execution_count": 116,
   "id": "0293c11c-3c8e-4694-8084-d5a8b4c2d18c",
   "metadata": {},
   "outputs": [
    {
     "name": "stdout",
     "output_type": "stream",
     "text": [
      "************************ customerID ************************\n",
      "\n",
      "{'7649-PHJVR', '8436-BJUMM', '6323-AYBRX', '8624-GIOUT', '8628-MFKAX', '2637-FKFSY', '7825-ECJRF', '2782-LFZVW', '0725-CXOTM', '6386-SZZKH', '9500-IWPXQ', '0265-EDXBD', '2219-MVUSO', '1087-GRUYI', '6092-QZVPP', '2045-BMBTJ', '4488-KQFDT', '8982-NHAVY', '6502-HCJTI', '0754-EEBDC', '6538-POCHL', '3392-EHMNK', '2528-HFYZX', '2139-FQHLM', '6916-HIJSE', '4538-WNTMJ', '6910-HADCM', '2754-VDLTR', '6288-CHQJB', '4450-MDZFX', '2568-OIADY', '2987-BJXIK', '8564-LDKFL', '2202-OUTMO', '0899-WZRSD', '0661-KBKPA', '1894-IGFSG', '7516-GMHUV', '4808-YNLEU', '2361-FJWNO', '7665-NKLAV', '0847-HGRML', '9079-LWTFD', '9978-HYCIN', '4119-ZYPZY', '2892-GESUL', '1862-SKORY', '6439-LAJXL', '8634-MPHTR', '7881-INRLC', '3055-MJDSB', '7312-XSBAT', '2968-SSGAA', '3999-QGRJH', '5089-IFSDP', '7047-YXDMZ', '6407-GSJNL', '0270-THENM', '5081-NWSUP', '4390-KYULV', '2873-ZLIWT', '1752-OZXFY', '7398-SKNQZ', '1134-YWTYF', '1251-KRREG', '6905-NIQIN', '7134-MJPDY', '9593-CVZKR', '2253-KPMNB', '8791-GFXLZ', '0730-BGQGF', '8961-QDZZJ', '4030-VPZBD', '2576-HXMPA', '5022-JNQEQ', '7140-ADSMJ', '3583-EKAPL', '4778-IZARL', '7164-BPTUT', '1559-DTODC', '6733-LRIZX', '9174-FKWZE', '6726-WEXXK', '0320-DWVTU', '1370-GGAWX', '0607-MVMGC', '2138-VFAPZ', '2905-KFQUV', '1573-LGXBA', '4091-TVOCN', '8189-HBVRW', '8058-JMEQO', '9776-OJUZI', '1465-WCZVT', '2933-XEUJM', '6705-LXORM', '4353-HYOJD', '4201-JMNGR', '3144-AUDBS', '4683-WYDOU', '4546-FOKWR', '9862-KJTYK', '7321-PKUYW', '5915-DGNVC', '9732-KPKBW', '9112-WSNPU', '6400-BWQKW', '6954-OOYZZ', '9227-YBAXE', '7607-QKKTJ', '3097-FQTVJ', '4706-DGAHW', '9553-DLCLU', '4750-ZRXIU', '4432-ADRLB', '5804-HYIEZ', '7130-YXBRO', '6963-EZQEE', '4945-RVMTE', '4277-UDIEF', '2229-DPMBI', '3398-FSHON', '8266-VBFQL', '3207-OYBWH', '8942-DBMHZ', '5129-HHMZC', '2055-PDADH', '0708-SJDIS', '1009-IRMNA', '5759-RCVCB', '7278-CKDNC', '7379-FNIUJ', '8532-UEFWH', '0701-RFGFI', '2834-JRTUA', '3957-SQXML', '8189-XRIKE', '5206-HPJKM', '3597-MVHJT', '8970-ANWXO', '9804-ICWBG', '7814-LEEVE', '7590-VHVEG', '1899-VXWXM', '3348-CFRNX', '5198-EFNBM', '7209-JCUDS', '7916-VCCPB', '2446-BEGGB', '7926-IJOOU', '5215-LNLDJ', '9114-VEPUF', '8663-UPDGF', '0325-XBFAC', '1051-EQPZR', '8735-IJJEG', '2122-YWVYA', '3981-QSVQI', '9087-EYCPR', '2674-MLXMN', '5093-FEGLU', '7107-UBYKY', '8861-HGGKB', '7739-LAXOG', '2108-XWMPY', '6627-CFOSN', '0943-ZQPXH', '2672-DZUOY', '9470-RTWDV', '6408-OTUBZ', '8627-ZYGSZ', '5804-LEPIM', '3280-MRDOF', '9065-ZCPQX', '4900-MSOMT', '8837-VVWLQ', '5893-PYOLZ', '4115-NZRKS', '0822-GAVAP', '3023-GFLBR', '3785-NRHYR', '0071-NDAFP', '1062-LHZOD', '9039-ZVJDC', '9711-FJTBX', '2294-SALNE', '7593-XFKDI', '5208-HFSBT', '9554-DFKIC', '9359-UGBTK', '0004-TLHLJ', '2856-NNASM', '2799-TSLAG', '7233-DRTRF', '1226-JZNKR', '2830-LEWOA', '5032-MIYKT', '6080-TCMYC', '4821-SJHJV', '6980-IMXXE', '8015-IHCGW', '5186-PEIZU', '4813-HQMGZ', '1732-FEKLD', '5481-NTDOH', '9971-ZWPBF', '9095-HFAFX', '2640-PMGFL', '9833-TGFHX', '5802-ADBRC', '5884-FBCTL', '9066-QRSDU', '6776-TLWOI', '6116-RFVHN', '8120-JDCAM', '5652-MSDEY', '3055-VTCGS', '0820-FNRNX', '6904-JLBGY', '0259-GBZSH', '0623-GDISB', '3898-GUYTS', '2056-EVGZL', '5736-YEJAX', '3992-YWPKO', '5627-TVBPP', '3247-ZVOUO', '2474-LCNUE', '1728-BQDMA', '2885-HIJDH', '4817-VYYWS', '8069-RHUXK', '9728-FTTVZ', '0523-VNGTF', '7963-GQRMY', '9386-LDCZR', '7449-HVPIV', '8780-YRMTT', '4526-ZJJTM', '5478-JJVZK', '4450-YOOHP', '8650-RHRKE', '6304-IJFSQ', '3320-VEOYC', '1724-BQUHA', '0379-DJQHR', '2911-UREFD', '8992-VONJD', '6469-QJKZW', '2079-FBMZK', '8337-UPOAQ', '1248-DYXUB', '9139-WQQDY', '2465-BLLEU', '6635-CPNUN', '7010-ZMVBF', '8652-YHIYU', '3221-CJMSG', '3482-ABPKK', '1661-CZBAU', '6772-KSATR', '9770-LXDBK', '4213-HKBJO', '2592-HODOV', '6286-ZHAOK', '7872-RDDLZ', '1666-JXLKU', '7055-VKGDA', '8155-IBNHG', '7162-WPHPM', '4737-AQCPU', '7534-BFESC', '8331-ZXFOE', '7311-MQJCH', '3384-CTMSF', '9513-DXHDA', '0772-GYEQQ', '6145-NNPNO', '5231-FIQPA', '3589-PPVKW', '2342-CKIAO', '4397-FRLTA', '7740-KKCXF', '0666-UXTJO', '6207-WIOLX', '9626-WEQRM', '9633-DENPU', '7138-GIRSH', '7996-MHXLW', '5494-HECPR', '5439-WIKXB', '7471-MQPOS', '3701-SFMUH', '6719-FGEDO', '0224-NIJLP', '7026-YMSBE', '4910-GMJOT', '8286-AFUYI', '9620-ENEJV', '8309-IEYJD', '3164-YAXFY', '9495-SKLKD', '5364-XYIRR', '2960-NKRSO', '9692-TUSXH', '0156-FVPTA', '5678-VFNEQ', '3948-FVVRP', '0516-WJVXC', '4912-PIGUY', '1265-ZFOSD', '4884-LEVMQ', '9258-CNWAC', '2685-SREOM', '4290-BSXUX', '5442-BXVND', '3500-NSDOA', '7409-JURKQ', '8327-LZKAS', '1157-BQCUW', '3235-ETOOB', '0106-GHRQR', '4717-GHADL', '9250-WYPLL', '8873-TMKGR', '1895-QTKDO', '2777-PHDEI', '4667-OHGKG', '6284-AHOOQ', '6556-DBKZF', '1697-LYYYX', '9396-ZSFLL', '7639-SUPCW', '9674-EHPPG', '6067-NGCEU', '5150-ITWWB', '1078-TDCRN', '4123-FCVCB', '6719-OXYBR', '6439-GTPCA', '9359-JANWS', '7503-EPSZW', '2651-ZCBXV', '3351-NQLDI', '8800-JOOCF', '4883-QICIH', '1098-TDVUQ', '2165-VOEGB', '0334-ZFJSR', '2786-GCDPI', '0848-ZGQIJ', '8329-IBCTI', '8514-VZHEB', '1794-SWWKL', '0374-IOEGQ', '2506-CLAKW', '2842-BCQGE', '7089-RKVSZ', '7054-ENNGU', '0114-PEGZZ', '2108-GLPQB', '3957-HHLMR', '0786-IVLAW', '8058-DMYRU', '7854-EKTJL', '5124-EOGYE', '7771-ZONAT', '7893-IXHRQ', '4685-TFLLS', '0958-YHXGP', '6704-UTUKK', '5663-QBGIS', '1389-WNUIB', '6946-LMSQS', '7239-HZZCX', '6259-WJQLC', '9823-EALYC', '0582-AVCLN', '6952-OMNWB', '4283-FUTGF', '0442-ZXKVS', '8513-OLYGY', '0207-MDKNV', '4049-ZPALD', '1552-AAGRX', '1622-HSHSF', '9648-BCHKM', '6416-JNVRK', '8745-PVESG', '2193-SFWQW', '8332-OSJDW', '7163-OCEQI', '2796-NNUFI', '9845-QOMAD', '3956-CJUST', '3391-JSQEW', '5857-XRECV', '4713-ZBURT', '4464-JCOLN', '1379-FRVEB', '6258-NGCNG', '7137-NAXML', '3766-EJLFL', '7469-LKBCI', '0397-GZBBC', '9780-FKVVF', '0048-PIHNL', '4989-LIXVT', '1833-VGRUM', '8577-QSOCG', '3836-FZSDJ', '1575-KRZZE', '1757-TCATG', '7973-DZRKH', '0946-CLJTI', '0898-XCGTF', '0781-LKXBR', '3148-BLQJT', '4220-TINQT', '2911-WDXMV', '3948-KXDUF', '7876-BEUTG', '0485-ZBSLN', '2817-NTQDO', '3282-ZISZV', '3254-YRILK', '6483-OATDN', '4500-HKANN', '1862-QRWPE', '8383-SGHJU', '9388-ZEYVT', '6230-BSUXY', '3428-MMGUB', '9375-MHRRS', '9839-ETQOE', '0519-XUZJU', '9453-PATOS', '1698-XFZCI', '7691-KGKGP', '8785-CJSHH', '8474-UMLNT', '2357-COQEK', '7634-HLQJR', '2919-HBCJO', '3278-FSIXX', '3329-WDIOK', '8740-XLHDR', '5003-OKNNK', '1950-KSVVJ', '5760-WRAHC', '5296-PSYVW', '9546-KDTRB', '7613-LLQFO', '2582-FFFZR', '5071-FBJFS', '3003-CMDUU', '5296-BFCYD', '7599-FKVXZ', '4134-BSXLX', '0256-LTHVJ', '6647-ZEDXT', '8901-HJXTF', '2920-RNCEZ', '9435-JMLSX', '1150-WFARN', '7730-IUTDZ', '4378-BZYFP', '0415-MOSGF', '9029-FEGVJ', '7554-NEWDD', '2599-CIPQE', '7133-VBDCG', '3717-LNXKW', '5529-GIBVH', '0318-ZOPWS', '2661-GKBTK', '1170-SASML', '6711-VTNRE', '2684-EIWEO', '4760-THGOT', '9229-RQABD', '3594-BDSOA', '7718-RXDGG', '6661-HBGWL', '7853-GVUDZ', '3373-DIUUN', '5883-GTGVD', '3259-KNMRR', '3808-HFKDE', '3550-SAHFP', '4881-JVQOD', '3932-IJWDZ', '9107-UKCKY', '4132-POCZS', '2251-PYLPB', '0913-XWSCN', '0835-JKADZ', '8676-OOQEJ', '0562-KBDVM', '3099-OONVS', '3097-NNSPB', '9578-FOMUK', '9278-VZKCD', '9822-WMWVG', '2157-MXBJS', '5781-RFZRP', '2207-QPJED', '9909-DFRJA', '2371-JQHZZ', '4626-GYCZP', '8875-AKBYH', '8570-KLJYJ', '5501-TVMGM', '3689-MOZGR', '7463-IFMQU', '0581-MDMPW', '3423-HHXAO', '4673-KKSLS', '8865-TNMNX', '9782-LGXMC', '9405-GPBBG', '0786-VSSUD', '5288-AHOUP', '1525-LNLOJ', '8644-XYTSV', '7253-UVNDW', '5414-OFQCB', '2034-GDRCN', '3865-QBWSJ', '0412-UCCNP', '1897-OKVMW', '3597-YASZG', '9391-TTOYH', '2436-QBZFP', '4104-PVRPS', '3638-DIMPH', '2812-SFXMJ', '3318-OSATS', '5389-FFVKB', '5524-KHNJP', '9172-JITSM', '4750-UKWJK', '7581-EBBOU', '3315-TOTBP', '6131-IUNXN', '0835-DUUIQ', '0603-OLQDC', '0723-VSOBE', '0330-IVZHA', '1297-VQDRP', '9426-SXNHE', '2982-VPSGI', '6229-LSCKB', '1349-WXNGG', '9050-IKDZA', '5204-HMGYF', '9402-ROUMJ', '3810-PJUHR', '8976-OQHGT', '7551-DACSP', '5569-IDSEY', '1320-GVNHT', '2916-BQZLN', '1488-SYSFC', '8328-SKJNO', '1216-JWVUX', '6838-YAUVY', '3717-OFRTN', '8661-BOYNW', '0619-OLYUR', '1360-RCYRT', '5044-XDPYX', '8878-RYUKI', '0142-GVYSN', '0696-UKTOX', '6248-TKCQV', '9385-NXKDA', '4250-WAROZ', '8974-OVACP', '9964-WBQDJ', '2208-MPXIO', '9432-RUVSL', '9889-TMAHG', '3621-CHYVB', '8932-CZHRQ', '9334-GWGOW', '2410-CIYFZ', '8812-ZRHFP', '9717-IOAAF', '9924-JPRMC', '5726-CVNYA', '6972-SNKKW', '5294-CDGWY', '8041-TMEID', '0020-JDNXP', '4910-AQFFX', '8739-WWKDU', '4304-TSPVK', '3251-YMVWZ', '2632-IVXVF', '7267-FRMJW', '1898-JSNDC', '7660-HDPJV', '7549-MYGPK', '2984-TBYKU', '8630-FJLIB', '5546-QUERU', '6360-SVNWV', '2041-JIJCI', '2194-IIQOF', '6502-KUGLL', '3198-VELRD', '2346-DJQTB', '8597-CWYHH', '6266-QHOJZ', '3005-NFMTA', '0439-IFYUN', '2257-BOVXD', '4803-AXVYP', '8938-UMKPI', '5318-IXUZF', '4825-XJGDM', '8450-JOVAH', '6695-FRVEC', '1579-KLYDT', '3970-XGJDU', '5569-KGJHX', '5442-BHQNG', '2172-EJXVF', '5136-RGMZO', '4080-IIARD', '3746-EUBYR', '2688-BHGOG', '8752-STIVR', '6652-YFFJO', '8519-IMDHU', '0769-MURVM', '3062-ICYZQ', '7009-PCARS', '9600-NAXZN', '8606-CIQUL', '0292-WEGCH', '3503-TYDAY', '3779-OSWCF', '3442-ZHHCC', '9136-ALYBR', '0731-EBJQB', '7136-IHZJA', '4710-FDUIZ', '6502-MJQAE', '4274-OWWYO', '9317-WZPGV', '0654-HMSHN', '8823-RLPWL', '1506-YJTYT', '5067-XJQFU', '0691-JVSYA', '2038-LLMLM', '4424-TKOPW', '6986-IJDHX', '0214-JHPFW', '3646-ITDGM', '6827-IEAUQ', '7492-TAFJD', '4833-QTJNO', '0578-SKVMF', '7175-NTIXE', '3716-LRGXK', '3258-ZKPAI', '0824-VWDPO', '8104-OSKWT', '7996-BPXHY', '5014-WUQMG', '8245-UMPYT', '4374-YMUSQ', '1945-XISKS', '9880-TDQAC', '8246-SHFGA', '9467-ROOLM', '0679-IDSTG', '1964-SVLEA', '3750-CKVKH', '4132-KALRO', '1374-DMZUI', '1580-BMCMR', '2223-KAGMX', '8272-ONJLV', '7245-NIIWQ', '5482-PLVPE', '9985-MWVIX', '8713-IGZSO', '1187-WILMM', '8993-PHFWD', '5027-QPKTE', '8382-SHQEH', '5148-ORICT', '9069-LGEUL', '6285-FTQBF', '0564-JJHGS', '9473-CBZOP', '8404-GFGCZ', '7000-WCEVQ', '3082-WQRVY', '6034-ZRYCV', '0218-QNVAS', '6308-CQRBU', '9053-JZFKV', '6621-YOBKI', '0094-OIFMO', '9143-CANJF', '6922-NCEDI', '1723-HKXJQ', '2988-QRAJY', '2834-SPCJV', '8993-IZEUX', '9529-OFXHY', '9861-PDSZP', '7294-TMAOP', '4184-VODJZ', '8603-IJWDN', '0230-UBYPQ', '7515-LODFU', '9337-SRRNI', '4329-YPDDQ', '1839-FBNFR', '5172-RKOCB', '9442-JTWDL', '3892-NXAZG', '1685-BQULA', '4817-QRJSX', '5232-NXPAY', '0508-OOLTO', '3096-JRDSO', '4366-CTOUZ', '0665-XHDJU', '2068-WWXQZ', '3896-ZVNET', '4973-RLZVI', '1066-JKSGK', '9330-DHBFL', '9769-TSBZE', '9603-OAIHC', '5158-RIVOP', '7338-ERIVA', '0219-QAERP', '9730-DRTMJ', '9058-CBREO', '6625-FLENO', '9500-LTVBP', '4881-GQJTW', '9548-LIGTA', '6510-UPNKS', '0816-TSPHQ', '6702-OHFWR', '6140-QNRQQ', '6701-DHKWQ', '7020-OZKXZ', '3349-ANQNH', '6614-YOLAC', '3494-JCHRQ', '8757-TFHHJ', '3050-RLLXC', '2187-PKZAY', '7551-JOHTI', '2839-RFSQE', '0746-JTRFU', '7696-CFTAT', '3197-NNYNB', '2026-TGDHM', '0516-VRYBW', '2419-FSORS', '2882-DDZPG', '4177-JPDFU', '2580-ATZSQ', '2931-FSOHN', '0347-UBKUZ', '1428-GTBJJ', '9374-YOLBJ', '4981-FLTMF', '9929-PLVPA', '4514-GFCFI', '0277-BKSQP', '9565-DJPIB', '2550-AEVRU', '6380-ARCEH', '0301-FIDRB', '5322-ZSMZY', '5419-CONWX', '1047-RNXZV', '9962-BFPDU', '0925-VYDLG', '2043-WVTQJ', '8201-AAXCB', '2545-LXYVJ', '7108-DGVUU', '9137-NOQKA', '4712-UYOOI', '5302-BDJNT', '9788-YTFGE', '0670-ANMUU', '6023-YEBUP', '7669-LCRSD', '7225-IILWY', '3298-QEICA', '8034-RYTVV', '0374-FIUCA', '4727-MCYZG', '1215-EXRMO', '4361-BKAXE', '3196-NVXLZ', '7766-CLTIC', '6457-GIRWB', '5696-CEIQJ', '1140-UKVZG', '9470-YFUYI', '3214-IYUUQ', '7633-MVPUY', '9300-AGZNL', '3445-HXXGF', '6581-NQCBA', '1930-BZLHI', '6892-BOGQE', '8409-WQJUX', '4817-KEQSP', '1447-PJGGA', '8433-WPJTV', '5394-SVGJV', '2877-VDUER', '2862-PFNIK', '9061-TIHDA', '7560-QJAVJ', '9114-AAFQH', '5510-BOIUJ', '1952-DVVSW', '5392-AKEMH', '1555-DJEQW', '2111-DWYHN', '3663-MITLP', '0285-INHLN', '1550-EENBN', '6650-BWFRT', '3785-KTYSH', '6769-DYBQN', '2265-CYWIV', '6769-DCQLI', '1399-UBQIU', '8080-POTJR', '8910-LEDAG', '7064-FRRSW', '6029-CSMJE', '1628-BIZYP', '7198-GLXTC', '8213-TAZPM', '2325-ZUSFD', '6176-YJWAS', '9124-LHCJQ', '0979-MOZQI', '6351-SCJKT', '0329-GTIAJ', '7088-FBAWU', '1022-RKXDR', '8443-WVPSS', '5168-MSWXT', '0277-ORXQS', '4827-LTQRJ', '0562-HKHML', '3420-ZDBMA', '6855-VLGOS', '4893-GYUJU', '4018-PPNDW', '9199-PWQVC', '2075-RMJIK', '6166-ILMNY', '6088-BXMRG', '4951-UKAAQ', '9986-BONCE', '1041-RXHRA', '3733-LSYCE', '0917-EZOLA', '4674-HGNUA', '9430-NKQLY', '1583-IHQZE', '5696-EXCYS', '4074-SJFFA', '6198-ZFIOJ', '7115-IRDHS', '0224-HJAPT', '3181-VTHOE', '6211-WHMYA', '7568-PODML', '3125-RAHBV', '6567-HOOPW', '0491-KAPQG', '1587-FKLZB', '6646-QVXLR', '1251-STYSZ', '1842-EZJMK', '4980-URKXC', '3372-KWFBM', '2055-BFOCC', '1935-IMVBB', '6968-URWQU', '2808-CHTDM', '8946-BFWSG', '9995-HOTOH', '0877-SDMBN', '9398-MMQTO', '7359-SSBJK', '9053-EJUNL', '5666-MBJPT', '3113-IWHLC', '7923-IYJWY', '4010-YLMVT', '4831-EOBFE', '0565-IYCGT', '1080-BWSYE', '7284-ZZLOH', '9965-YOKZB', '1131-SUEKT', '0419-YAAPX', '3190-FZATL', '5649-VUKMC', '2272-JKMSI', '7558-IMLMT', '3030-ZKIWL', '8773-HHUOZ', '3887-PBQAO', '9822-OAOVB', '3130-ICDUP', '9552-TGUZV', '6064-ZATLR', '5766-XQXMQ', '3669-WHAFY', '7442-YGZFK', '7206-GZCDC', '4929-ROART', '5985-BEHZK', '2958-NHPPS', '9801-GDWGV', '8746-OQQRW', '8380-PEFPE', '2014-MKGMH', '0895-LNKRC', '2144-ESWKO', '4629-NRXKX', '5192-EBGOV', '6022-UGGSO', '6152-ONASV', '1205-WNWPJ', '3018-TFTSU', '8250-ZNGGW', '8465-SBRXP', '2480-SQIOB', '3966-HRMZA', '3729-OWRVL', '4680-KUTAJ', '6818-DJXAA', '0440-EKDCF', '0178-CIIKR', '5301-GAUUY', '6475-VHUIZ', '3452-SRFEG', '1452-VOQCH', '3002-WQZWT', '6738-ISCBM', '2181-TIDSV', '6445-TNRXS', '1136-XGEQU', '1872-EBWSC', '2369-UAPKZ', '6467-CHFZW', '2040-XBAVJ', '7096-UCLNH', '2931-VUVJN', '6038-GCYEC', '3703-VAVCL', '5144-TVGLP', '7665-VIGUD', '1918-ZBFQJ', '9094-AZPHK', '3976-HXHCE', '8357-EQXFO', '6408-WHTEF', '5954-BDFSG', '4958-XCBDQ', '3943-KDREE', '5766-FTRTS', '5832-TRLPB', '4039-HEUNW', '6319-QSUSR', '5249-QYHEX', '1472-TNCWL', '0076-LVEPS', '6624-JDRDS', '2364-UFROM', '7295-JOMMD', '9734-YWGEX', '4488-PSYCG', '1057-FOGLZ', '1228-FZFRV', '0220-EBGCE', '4859-ZSRDZ', '4312-GVYNH', '0383-CLDDA', '8510-AWCXC', '7903-CMPEY', '3441-CGZJH', '1013-QCWAM', '7873-CVMAW', '5028-HTLJB', '6617-WLBQC', '4007-NHVHI', '4558-FANTW', '2718-YSKCS', '7103-ZGVNT', '0564-MUUQK', '8217-QYOHV', '7157-SMCFK', '6180-YBIQI', '8981-FJGLA', '0177-PXBAT', '4884-TVUQF', '1641-RQDAY', '1167-OYZJF', '7673-BQGKU', '8999-YPYBV', '8393-DLHGA', '9253-VIFJQ', '9805-FILKB', '4998-IKFSE', '8760-ZRHKE', '8909-BOLNL', '4950-BDEUX', '9347-AERRL', '8540-ZQGEA', '1821-BUCWY', '5960-MVTUK', '8690-ZVLCL', '8218-FFJDS', '4811-JBUVU', '7340-KEFQE', '7730-CLDSV', '1345-GKDZZ', '6578-KRMAW', '0734-OXWBT', '4315-MURBD', '3863-IUBJR', '2240-HSJQD', '5248-KWLAR', '4229-CZMLL', '5312-TSZVC', '6603-QWSPR', '1301-LOPVR', '1930-QPBVZ', '8819-ZBYNA', '9873-MNDKV', '9447-YPTBX', '4855-SNKMY', '5996-NRVXR', '7696-AMHOD', '8257-RZAHR', '5533-NHFRF', '9714-EDSUC', '9281-PKKZE', '3794-NFNCH', '5324-KTGCG', '8231-BSWXX', '3866-MDTUB', '5791-KAJFD', '1987-AUELQ', '3551-HUAZH', '3791-LGQCY', '0774-RMNUW', '2984-RGEYA', '1069-QJOEE', '4815-YOSUK', '6519-ZHPXP', '3963-RYFNS', '5153-RTHKF', '3569-EDBPQ', '3259-QMXUN', '5597-GLBUC', '4872-VXRIL', '4822-NGOCH', '2123-AGEEN', '2057-ZBLPD', '2279-AXJJK', '1936-CZAKF', '4588-YBNIB', '0856-NAOES', '1020-JPQOW', '7268-WNTCP', '5293-WXJAK', '3134-DSHVC', '3621-CEOVK', '6231-WFGFH', '6211-WWLTF', '3508-VLHCZ', '5572-ZDXHY', '8972-HJWNV', '4791-QRGMF', '7520-HQWJU', '0397-ZXWQF', '7868-TMWMZ', '9451-WLYRI', '4024-CSNBY', '7940-UQQUG', '7377-DMMRI', '9830-ECLEN', '1548-FEHVL', '2235-DWLJU', '1386-ZIKUV', '5429-LWCMV', '2003-CKLOR', '6347-DCUIK', '5803-NQJZO', '2405-LBMUW', '4140-MUHUG', '7909-FIOIY', '5146-YYFRZ', '8439-LTUGF', '2284-VFLKH', '2654-VBVPB', '8626-XHBIE', '7684-XSZIY', '9507-EXLTT', '2030-BTZRO', '8118-LSUEL', '2858-EIMXH', '0707-HOVVN', '8317-BVKSO', '8548-AWOFC', '4759-PXTAN', '0228-MAUWC', '9894-EZEWG', '5855-EIBDE', '0130-SXOUN', '1098-KFQEC', '9031-ZVQPT', '4023-RTIQM', '2608-BHKFN', '9546-CQJSU', '3091-FYHKI', '1589-AGTLK', '1307-TVUFB', '1790-NESIO', '1121-QSIVB', '5256-SKJGO', '7134-HBPBS', '5049-MUBWG', '0940-OUQEC', '3638-WEABW', '4531-AUZNK', '0057-QBUQH', '3508-CFVZL', '7639-LIAYI', '5966-EMAZU', '2057-BOYKM', '7564-GHCVB', '0422-UXFAP', '3108-PCCGG', '0952-KMEEH', '1403-GYAFU', '8701-DGLVH', '0015-UOCOJ', '2207-RYYRL', '3672-YITQD', '6549-NNDYT', '0168-XZKBB', '8679-JOEVF', '4670-TABXH', '3696-DFHHB', '8722-NGNBH', '6771-XWBDM', '0508-SQWPL', '4664-NJCMS', '6137-MFAJN', '8963-JLGJT', '4369-HTUIF', '6198-RTPMF', '8404-VLQFB', '1110-KYLGQ', '3378-AJRAO', '5077-DXTCG', '9402-ORRAH', '9753-OYLBX', '9795-NREXC', '4174-LPGTI', '1678-FYZOW', '9974-JFBHQ', '2126-GSEGL', '9283-LZQOH', '0378-CJKPV', '0107-WESLM', '8261-GWDBQ', '8845-LWKGE', '2171-UDMFD', '5871-DGTXZ', '5980-NOPLP', '1904-WAJAA', '7901-TBKJX', '3904-UKFRE', '4441-NIHPT', '2947-DOMLJ', '8040-MNRTF', '7083-MIOPC', '9584-EXCDZ', '1343-EHPYB', '0303-UNCIP', '9254-RBFON', '6283-GITPX', '0017-DINOC', '5160-UXJED', '8647-SDTWQ', '4735-ASGMA', '4609-KNNWG', '5480-HPRRX', '1629-DQQVB', '7632-YUTXB', '5681-LLOEI', '6447-EGDIV', '5583-EJXRD', '9799-CAYJJ', '8612-GXIDD', '1063-DHQJF', '7675-OZCZG', '2672-HUYVI', '2189-WWOEW', '2863-IMQDR', '0195-IESCP', '1600-DILPE', '2691-NZETQ', '8152-UOBNY', '1045-LTCYT', '5013-SBUIH', '2081-KJSQF', '9488-FYQAU', '6656-GULJQ', '5816-SCGFC', '6115-ZTBFQ', '8181-YHCMF', '9668-PUGNU', '3642-GKTCT', '0817-HSUSE', '4747-LCAQL', '5243-SAOTC', '2325-WINES', '7774-OJSXI', '4854-SSLTN', '4501-VCPFK', '7169-YWAMK', '5233-GEEAX', '4541-RMRLG', '5469-CTCWN', '1866-ZSLJM', '5365-LLFYV', '7326-RIGQZ', '3318-NMQXL', '2324-EFHVG', '3292-PBZEJ', '9779-DPNEJ', '0278-YXOOG', '4486-EFAEB', '6181-AXXYF', '6008-NAIXK', '8378-LKJAF', '9624-EGDEQ', '8042-RNLKO', '4819-HJPIW', '8124-NZVGJ', '5134-IKDAY', '5298-GSTLM', '6937-GCDGQ', '8387-UGUSU', '7379-POKDZ', '3677-TNKIO', '4018-KJYUY', '8401-EMUWF', '0487-RPVUM', '5038-ETMLM', '1169-WCVAK', '5756-JYOJT', '6128-DAFVY', '7956-XQWGU', '5360-LJCNJ', '1452-KIOVK', '7797-EJMDP', '1877-HKBQX', '7136-RVDTZ', '8824-RWFXJ', '5136-KCKGI', '1353-GHZOS', '7799-LGRDP', '2826-DXLQO', '7064-JHXCE', '4090-KPJIP', '7895-VONWT', '8182-PNAGI', '7823-JSOAG', '3795-CAWEX', '5130-IEKQT', '2180-DXNEG', '8605-ITULD', '0196-JTUQI', '5868-YWPDW', '0375-HVGXO', '2270-CHBFN', '2972-YDYUW', '5092-STPKP', '3973-SKMLN', '0235-KGSLC', '3941-XTSKM', '2667-WYLWJ', '0219-YTZUE', '9490-DFPMD', '0082-OQIQY', '5197-LQXXH', '1925-TIBLE', '5161-XEUVX', '4652-ODEVH', '4518-FZBSX', '7952-OBOYL', '4078-SAYYN', '0320-JDNQG', '1550-LOAHA', '2013-SGDXK', '4608-LCIMN', '2868-SNELZ', '9526-BIHHD', '6713-OKOMC', '5914-XRFQB', '4785-QRJHC', '0613-WUXUM', '1171-TYKUR', '4611-ANLQC', '5546-BYZSM', '6646-VRFOL', '1396-QWFBJ', '1015-JPFYW', '8679-LZBMD', '4501-UYKBC', '4776-XSKYQ', '1855-CFULU', '1459-QNFQT', '3498-LZGQZ', '4223-BKEOR', '5628-RKIFK', '8178-EYZUO', '9617-INGJY', '8748-HFWBO', '5016-LIPDW', '6229-UOLQL', '8639-NHQEI', '8107-RZLNV', '3413-DHLPB', '8992-OBVDG', '4526-RMTLL', '7596-LDUXP', '9802-CAQUT', '5505-OVWQW', '2806-MLNTI', '0927-CNGRH', '3707-LRWZD', '7511-YMXVQ', '9314-IJWSQ', '7740-BTPUX', '2907-ILJBN', '6469-MRVET', '1346-UFHAX', '4231-LZUYM', '8510-BBWMU', '1455-ESIQH', '8480-PPONV', '9185-TQCVP', '1452-UZOSF', '8821-XNHVZ', '0567-GGCAC', '7563-BIUPC', '5299-SJCZT', '9251-AWQGT', '5879-SESNB', '4188-PCPIG', '2446-ZKVAF', '5845-BZZIB', '4702-IOQDC', '7503-QQRVF', '6885-PKOAM', '4029-HPFVY', '0380-ZCSBI', '2469-DTSGX', '2541-YGPKE', '0516-QREYC', '3752-CQSJI', '3757-NJYBX', '2074-GUHPQ', '0191-EQUUH', '6124-ACRHJ', '3519-ZKXGG', '9138-EFSMO', '5473-KHBPS', '5846-ABOBJ', '1866-DIOQZ', '1663-MHLHE', '6461-PPAXN', '3771-PZOBW', '3374-TTZTK', '6458-CYIDZ', '7241-AJHFS', '8089-UZWLX', '6518-PPLMZ', '7250-EQKIY', '6032-IGALN', '3797-VTIDR', '2292-XQWSV', '9507-HSMMZ', '2657-VPXTA', '2984-AFWNC', '0409-WTMPL', '3165-HDOEW', '3754-DXMRT', '3793-MMFUH', '6869-FGJJC', '7975-JMZNT', '3540-RZJYU', '7707-PYBBH', '8755-IWJHN', '3190-ITQXP', '8541-QVFKM', '1591-MQJTP', '3583-KRKMD', '4826-TZEVA', '1088-CNNKB', '0459-SPZHJ', '7181-OQCUT', '7554-AKDQF', '6876-ADESB', '2176-LVPNX', '2323-ARSVR', '1820-DJFPH', '7997-EASSD', '9494-MRNYX', '1436-ZMJAN', '4080-OGPJL', '2514-GINMM', '3874-EQOEP', '3525-DVKFN', '4837-PZTIC', '6372-RFVNS', '2587-EKXTS', '2153-MREFK', '8499-BRXTD', '5649-TJHOV', '3404-JNXAX', '1627-AFWVJ', '7109-CQYUZ', '4847-TAJYI', '9741-YLNTD', '3955-JBZZM', '8063-RJYNF', '1705-GUHPV', '4554-YGZIH', '3012-VFFMN', '2263-SFSQZ', '3908-MKIMJ', '7758-XKCBS', '6349-JDHQP', '3571-DPYUH', '8685-WHQPW', '1319-YLZJG', '8727-XDPUD', '6173-GOLSU', '5061-PBXFW', '3644-QXEHN', '7401-JIXNM', '6994-FGRHH', '8402-OOOHJ', '0839-JTCUD', '7963-SHNDT', '8642-GVWRF', '2087-QAREY', '7570-WELNY', '7410-KTVFV', '3452-FLHYD', '7048-GXDAY', '5777-KJIRB', '0516-UXRMT', '7363-QTBIW', '2606-PKWJB', '6579-JPICP', '1428-IEDPR', '6286-SUUWT', '9738-QLWTP', '7255-SSFBC', '6688-UZPWD', '3137-LUPIX', '8799-OXZMD', '0354-VXMJC', '6345-FZOQH', '4143-OOBWZ', '6906-MPARY', '6752-APNJL', '4193-ORFCL', '3450-WXOAT', '6582-PLFUU', '3675-EQOZA', '1902-XBTFB', '3648-GZPHF', '7021-XSNYE', '5748-RNCJT', '0365-GXEZS', '4013-TLDHQ', '1320-HTRDR', '5196-WPYOW', '2234-XADUH', '2208-UGTGR', '6036-TTFYU', '3473-XIIIT', '6108-OQZDQ', '0533-BNWKF', '3726-TBHQT', '6050-IJRHS', '1699-TLDLZ', '0577-WHMEV', '5914-GXMDA', '6837-BJYDQ', '1853-ARAAQ', '0386-CWRGM', '1184-PJVDB', '0366-NQSHS', '3090-LETTY', '6260-XLACS', '5837-LXSDN', '0618-XWMSS', '4658-HCOHW', '6383-ZTSIW', '1635-FJFCC', '2696-ECXKC', '7596-ZYWBB', '6060-DRTNL', '8735-DCXNF', '0829-DDVLK', '5762-TJXGK', '1544-JJMYL', '1051-GEJLJ', '1657-DYMBM', '6870-ZWMNX', '0617-FHSGK', '6338-AVWCY', '7813-ZGGAW', '6134-KWTBV', '1475-VWVDO', '3069-SSVSN', '3239-TPHPZ', '1850-AKQEP', '9758-MFWGD', '8873-GLDMH', '9944-AEXBM', '5150-LJNSR', '6368-TZZDT', '8722-PRFDV', '7272-QDCKA', '6497-TILVL', '2672-TGEFF', '5863-OOKCL', '7176-WRTNX', '7245-JMTTQ', '2133-TSRRM', '0248-PGHBZ', '4634-JLRJT', '4098-NAUKP', '4480-QQRHC', '7964-ZRKKG', '4359-INNWN', '4355-CVPVS', '4316-XCSLJ', '2862-JVEOY', '0201-OAMXR', '5317-FLPJF', '6368-NWMCE', '7982-VCELR', '3987-KQDDU', '8399-YNDCH', '2176-OSJUV', '1955-IBMMB', '8672-OAUPW', '1395-WSWXR', '4565-NLZBV', '2305-MRGLV', '1697-BCSHV', '4396-KLSEH', '8039-ACLPL', '7576-JMYWV', '4077-CROMM', '8316-BBQAY', '1087-UDSIH', '1460-UZPRJ', '5647-URDKA', '9661-JALZV', '0115-TFERT', '2187-LZGPL', '5175-AOBHI', '5825-XJOCM', '6892-EZDTG', '8345-MVDYC', '3716-BDVDB', '2754-XBHTB', '5846-QFDFI', '3722-WPXTK', '2668-TZSPS', '5893-KCLGT', '5018-GWURO', '9489-JMTTN', '6177-PEVRA', '6994-KERXL', '7861-UVUFT', '3284-SVCRO', '3714-NTNFO', '9239-ZBZZV', '9227-UAQFT', '3873-WOSBC', '2789-HQBOU', '1024-KPRBB', '7783-YKGDV', '6265-SXWBU', '6950-TWMYB', '7274-CGTOD', '5456-ITGIC', '4786-UKSNZ', '1796-JANOW', '5016-ETTFF', '7251-XFOIL', '7816-VGHTO', '0748-RDGGM', '9412-GHEEC', '0541-FITGH', '8565-CLBZW', '5577-OTWWW', '4807-IZYOZ', '4054-CUMIA', '4385-GZQXV', '5118-MUEYH', '3920-HIHMQ', '8267-ZNYVZ', '1612-EOHDH', '0691-IFBQW', '0480-KYJVA', '0089-IIQKO', '2208-NKVVH', '1919-RTPQD', '5600-KTXFM', '0997-YTLNY', '3727-RJMEO', '8949-JTMAY', '8481-YYXWG', '8008-HAWED', '7306-YDSOI', '6551-ZCOTS', '0916-KNFAJ', '3656-TKRVZ', '5895-QSXOD', '9480-BQJEI', '2673-ZALNP', '8402-EIVQS', '3261-CQXOL', '9233-PSYHO', '9259-PACGQ', '4584-LBNMK', '1302-TPUBN', '1984-FCOWB', '3935-TBRZZ', '8080-DDEMJ', '8221-HVAYI', '8671-KKKOS', '8361-LBRDI', '9474-PHLYD', '1052-QJIBV', '3043-SUDUA', '6479-OAUSD', '2546-KZAAT', '3096-WPXBT', '0280-XJGEX', '8071-SBTRN', '8111-RKSPX', '4429-WYGFR', '7537-CBQUZ', '8792-AOROI', '3988-RQIXO', '2207-NHRJK', '8138-EALND', '9448-REEVD', '8205-MQUGY', '2929-ERCFZ', '3211-ILJTT', '6030-REHUX', '8780-IHCRN', '5055-MGMGF', '1951-IEYXM', '4952-YSOGZ', '6281-FKEWS', '5356-CSVSQ', '6461-SZMCV', '8582-KRHPJ', '4572-DVCGN', '7089-IVVAZ', '0377-JBKKT', '6917-YACBP', '0533-UCAAU', '8249-THVEC', '1406-PUQVY', '3665-JATSN', '8073-IJDCM', '2860-RANUS', '8390-FESFV', '6804-GDMOI', '8295-KMENE', '7279-NMVJC', '5174-ITUMV', '5240-CAOYT', '9558-IHEZX', '9412-ARGBX', '2452-KDRRH', '4301-VVZKA', '5397-NSKQG', '6671-NGWON', '9469-WEJBT', '0394-YONDK', '8648-PFRMP', '0016-QLJIS', '7878-JGDKK', '8212-DJRCH', '6661-EIPZC', '8859-AXJZP', '3703-TTEPD', '2619-WFQWU', '4723-BEGSG', '1771-OADNZ', '7629-WFGLW', '5248-YGIJN', '9208-OLGAQ', '9919-KNPOO', '0440-MOGPM', '0315-LVCRK', '9194-GFVOI', '8165-CBKXO', '5656-JAMLX', '3283-WCWXT', '5687-DKDTV', '5012-YSPJJ', '9305-CDSKC', '7858-GTZSP', '1218-VKFPE', '7921-BEPCI', '1696-MZVAU', '6923-EFPNL', '0330-BGYZE', '6925-BAYGL', '8580-AECUZ', '4114-QMKVN', '8020-BWHYL', '5887-IKKYO', '3639-XJHKQ', '1456-TWCGB', '6896-SRVYQ', '3721-CNEYS', '8200-KLNYW', '6734-FQAJX', '8984-EYLLL', '0625-AFOHS', '8314-DPQHL', '5274-XHAKY', '9504-YAZWB', '7694-VLBWQ', '2625-TRCZQ', '2277-VWCNI', '3521-SYVOR', '0519-DRGTI', '7244-QWYHG', '8033-ATFAS', '5181-OABFK', '8189-DUKMV', '6112-KTHFQ', '1154-HYWWO', '5575-GNVDE', '9921-ZVRHG', '1555-HAPSU', '8158-WPEZG', '2235-EZAIK', '9026-LHEVG', '2560-PPCHE', '5075-JSDKI', '7402-EYFXX', '7124-UGSUR', '4745-LSPLO', '3488-PGMQJ', '5419-KLXBN', '6097-EQISJ', '1337-BOZWO', '6762-NSODU', '1122-JWTJW', '6298-QDFNH', '0384-LPITE', '8967-SZQAS', '1963-VAUKV', '2946-KIQSP', '9801-NOSHQ', '4957-TREIR', '5311-IHLEI', '7542-CYDDM', '3533-UVMOM', '3649-JPUGY', '2320-SLKMB', '0380-NEAVX', '9754-CLVZW', '5734-EJKXG', '1848-LBZHY', '6979-TNDEU', '9560-BBZXK', '4334-HOWRP', '2978-XXSOG', '2347-WKKAE', '1226-IENZN', '8207-VVMYB', '8849-AYPTR', '8784-CGILN', '6877-LGWXO', '4522-AKYLR', '4622-YNKIJ', '6743-HHQPF', '4335-UPJSI', '8405-IGQFX', '4615-PIVVU', '8204-TIFGJ', '0804-XBFBV', '0862-PRCBS', '9796-BPKIW', '2924-KHUVI', '2823-LKABH', '9518-XXBXE', '4770-UEZOX', '9619-GSATL', '1043-YCUTE', '8705-WZCYL', '3569-VLDHH', '6728-DKUCO', '0327-WFZSY', '2359-KMGLI', '0793-TWELN', '6289-CPNLD', '9381-NDKME', '7328-OWMOM', '6851-WEFYX', '6087-YPWHO', '6022-KOUQO', '5440-FLBQG', '0431-APWVY', '4879-GZLFH', '3118-UHVVQ', '6861-OKBCE', '3933-DQPWX', '7036-ZZKBD', '4550-EVXNY', '2408-WITXK', '9847-HNVGP', '0311-QYWSS', '8606-OEGQZ', '3865-ZFZIB', '4971-PUYQO', '0822-QGCXA', '0269-XFESX', '4139-JPIAM', '7279-BUYWN', '0924-BJCRC', '2690-DVRVK', '9030-QGZNL', '0687-ZVTHB', '3717-OEAUQ', '0307-BCOPK', '6339-TBELP', '4816-JBHOV', '9058-HRZSV', '3750-RNQKR', '8109-YUOHE', '8668-KNZTI', '4580-TMHJU', '2091-RFFBA', '3365-SAIGS', '7207-RMRDB', '6616-AALSR', '9214-EKVXR', '2475-MROZF', '5233-AOZUF', '3247-MHJKM', '7587-AOVVU', '3967-VQOGC', '4644-OBGFZ', '0962-CQPWQ', '4503-BDXBD', '9207-ZPANB', '4567-AKPIA', '9269-CQOOL', '4361-FEBGN', '4393-OBCRR', '2038-OEQZH', '0295-QVKPB', '4439-JMPMT', '0602-DDUML', '2832-KJCRD', '2000-MPKCA', '3786-WOVKF', '3106-ULWFW', '9139-TWBAS', '2433-KMEAS', '1415-YFWLT', '1608-GMEWB', '3936-QQFLL', '4628-CTTLA', '3420-YJLQT', '9680-NIAUV', '7989-VCQOH', '6481-ESCNL', '4927-WWOOZ', '1767-CJKBA', '1618-CFHME', '0810-BDHAW', '5701-GUXDC', '2430-RRYUW', '5602-BVFMK', '2450-ZKEED', '6169-PGNCD', '5404-GGUKR', '6439-PKTRR', '2040-VZIKE', '1469-LBJQJ', '6770-XUAGN', '4957-TIALW', '2229-VWQJH', '0196-VULGZ', '3389-KTRXV', '2753-JMMCV', '8620-RJPZN', '0002-ORFBO', '7049-GKVZY', '0093-EXYQL', '3606-SBKRY', '1597-FZREH', '4636-OLWOE', '0479-HMSWA', '7218-HKQFK', '1270-XKUCC', '5331-RGMTT', '2250-IVBWA', '7975-TZMLR', '5651-CPDND', '5919-VCZYM', '8216-AZUUZ', '8885-QSQBX', '1834-ABKHQ', '9746-MDMBK', '2504-DSHIH', '2332-EFBJY', '4138-NAXED', '6625-UTXEW', '8563-OYMQY', '2462-XIIJB', '3537-RYBHH', '7018-FPXHH', '1272-ILHFG', '8788-DOXSU', '5795-BKOYE', '5795-KTGUD', '4654-DLAMQ', '0093-XWZFY', '9638-JIQYA', '5590-ZSKRV', '2509-TFPJU', '9938-PRCVK', '1016-DJTSV', '6075-QMNRR', '7519-JTWQH', '4419-UJMUS', '1508-DFXCU', '7216-EWTRS', '5046-NUHWD', '6173-ITPWD', '4376-KFVRS', '5177-RVZNU', '9481-IEBZY', '2387-KDZQY', '3982-DQLUS', '6416-TVAIH', '1265-XTECC', '0756-MPZRL', '8374-UULRV', '7802-EFKNY', '5493-SDRDQ', '4597-NUCQV', '5598-IKHQQ', '5522-NYKPB', '8384-FZBJK', '8024-XNAFQ', '6143-JQKEA', '2868-LLSKM', '3737-XBQDD', '7951-QKZPL', '6985-HAYWX', '5998-DZLYR', '3224-DFQNQ', '2799-ARNLO', '3137-NYQQI', '8887-IPQNC', '6696-YDAYZ', '6927-WTFIV', '7137-RYLPP', '7398-LXGYX', '0794-YVSGE', '1623-NLDOT', '3745-HRPHI', '7636-PEPNS', '0778-NELLA', '4415-IJZTP', '6243-OZGFH', '0872-NXJYS', '4236-UJPWO', '3034-ZBEQN', '5244-IRFIH', '2956-GGUCQ', '8457-XIGKN', '6050-FFXES', '5451-YHYPW', '4627-MIHJH', '8098-LLAZX', '4676-MQUEA', '5562-BETPV', '6435-VWCCY', '5671-RQRLP', '9163-GHAYE', '8290-YWKHZ', '6575-SUVOI', '8752-GHJFU', '3552-CTCYF', '4110-PFEUZ', '4686-GEFRM', '5879-HMFFH', '6473-ULUHT', '1298-PHBTI', '6988-CJEYV', '7196-LIWRH', '8417-GSODA', '8095-WANWK', '3675-YDUPJ', '7921-LMDFQ', '8992-CEUEN', '6693-DJWTY', '3014-WJKSM', '5312-IRCFR', '3720-DBRWL', '5122-CYFXA', '4947-DSMXK', '5375-XLDOF', '9445-SZLCH', '2967-MXRAV', '5555-RNPGT', '8270-RKSAP', '2928-HLDBA', '5569-OUICF', '9385-EHGDO', '3200-MNQTF', '8617-ENBDS', '5872-OEQNH', '0197-PNKNK', '7217-JYHOQ', '5424-RLQLC', '6893-ODYYE', '3590-TCXTB', '2054-PJOCK', '5126-RCXYW', '1784-BXEFA', '2266-SJNAT', '0684-AOSIH', '9688-YGXVR', '6997-UVGOX', '6825-UYPFK', '0221-NAUXK', '4198-VFOEA', '5248-RPYWW', '3071-VBYPO', '6681-ZSEXG', '1429-UYJSV', '2501-XWWTZ', '7928-VJYAB', '8050-WYBND', '0036-IHMOT', '4908-XAXAY', '9364-YKUVW', '5906-CVLHP', '6333-YDVLT', '9063-ZGTUY', '2308-STERM', '0859-YGKFW', '1285-OKIPP', '0422-OHQHQ', '4671-VJLCL', '7101-HRBLJ', '2479-BRAMR', '7302-ZHMHP', '4849-PYRLQ', '5446-DKWYW', '1792-UXAFY', '0019-EFAEP', '2017-CCBLH', '3266-FTKHB', '8221-EQDGL', '2379-GYFLQ', '5318-YKDPV', '5913-INRQV', '9708-KFDBY', '3524-WQDSG', '9360-AHGNL', '7706-YLMQA', '7998-WNZEM', '9052-VKDUW', '0428-IKYCP', '3082-YVEKW', '4537-DKTAL', '0723-DRCLG', '0224-RLWWD', '4124-MMETB', '5884-GCYMI', '0621-CXBKL', '8621-MNIHH', '8008-ESFLK', '7030-NJVDP', '9957-YODKZ', '5536-RTPWK', '2931-SVLTV', '9912-GVSEQ', '6447-GORXK', '6746-WAUWT', '0795-GMVQO', '1228-ZLNBX', '2604-XVDAM', '1455-HFBXA', '1635-NZATJ', '5297-MDOIR', '5628-FCGYG', '0401-WDBXM', '2545-EBUPK', '2840-XANRC', '1196-AMORA', '5229-PRWKT', '9408-HRXRK', '5940-AHUHD', '4067-HLYQI', '7247-XOZPB', '2794-XIMMO', '4550-VBOFE', '2929-QNSRW', '6705-LNMDD', '3884-HCSWG', '6817-WTYHE', '6734-JDTTV', '2824-DXNKN', '3842-IYKUE', '8468-EHYJA', '5057-RKGLH', '7321-ZNSLA', '6651-AZVTJ', '7188-CBBBA', '9249-FXSCK', '5832-XKAES', '6413-XKKPU', '7148-XZPHA', '0369-ZGOVK', '6857-TKDJV', '6599-RCLCJ', '6507-DTJZV', '2884-GBPFB', '0014-BMAQU', '6242-MBHPK', '2120-SMPEX', '6476-EPYZR', '0689-NKYLF', '6872-HXFNF', '2521-NPUZR', '7576-ASEJU', '6888-SBYAI', '7251-LJBQN', '7641-EUYET', '8079-XRJRS', '4565-EVZMJ', '6754-LZUKA', '6867-ACCZI', '4800-CZMPC', '7394-LWLYN', '2430-USGXP', '8966-SNIZF', '7890-VYYWG', '2398-YPMUR', '1166-PQLGG', '4075-JFPGR', '0031-PVLZI', '0361-HJRDX', '8091-TTVAX', '2372-HWUHI', '5811-IWXYM', '8739-QOTTN', '1536-HBSWP', '2890-WFBHU', '0839-QNXME', '3389-YGYAI', '4373-MAVJG', '4186-ZBUEW', '4145-UQXUQ', '2607-FBDFF', '9894-QMIMJ', '3174-RKMOW', '8943-URTMR', '7452-FOLON', '2749-CTKAJ', '2703-AMTUL', '1178-PZGAB', '6878-GGDWG', '1217-VASWC', '6680-WKXRZ', '1447-GIQMR', '2662-NNTDK', '9570-KYEUA', '3723-BFBGR', '1907-UBQFC', '2586-CWXVV', '7349-ALMUX', '1910-FMXJM', '0147-ESWWR', '1395-OFUWC', '8033-VCZGH', '4026-SKKHW', '2058-DCJBE', '5201-FRKKS', '5606-AMZBO', '8224-IVVPA', '6463-HHXJR', '2220-IAHLS', '2239-JALAW', '2952-QAYZF', '9907-SWKKF', '7208-PSIHR', '4835-YSJMR', '9313-QOLTZ', '1325-USMEC', '0230-WEQUW', '2720-FVBQP', '0396-UKGAI', '6161-UUUTA', '4644-PIZRT', '2203-GHNWN', '0626-QXNGV', '3685-YLCMQ', '9763-PDTKK', '6897-RWMUB', '1257-SXUXQ', '7130-CTCUS', '8631-XVRZL', '9308-ANMVE', '9150-HEPMB', '5173-ZXXXL', '6806-YDEUL', '3468-DRVQJ', '5226-NOZFC', '7346-MEDWM', '8751-EDEKA', '2234-EOFPT', '9526-JAWYF', '1162-ECVII', '8769-KKTPH', '8319-QBEHW', '4195-NZGTA', '4660-IRIBM', '3911-RSNHI', '3162-ZJZFU', '6891-JPYFF', '8128-YVJRG', '1658-XUHBX', '4694-PHWFW', '7439-DKZTW', '5138-WVKYJ', '7771-CFQRQ', '8882-TLVRW', '4445-KWOKW', '8182-BJDSI', '0689-DSXGL', '7617-EYGLW', '2481-SBOYW', '2135-DQWAQ', '8066-POXGX', '5419-JPRRN', '7126-RBHSD', '8849-GYOKR', '6814-ZPWFQ', '5260-UMPWX', '7128-GGCNO', '2468-SJFLM', '5630-IXDXV', '0505-SPOOW', '0641-EVBOJ', '8706-HRADD', '9092-GDZKO', '0993-OSGPT', '3422-LYEPQ', '1200-TUZHR', '3976-NLDEZ', '0487-CRLZF', '6303-KFWSL', '5666-CYCYZ', '0704-VCUMB', '7912-SYRQT', '9411-TPQQV', '7395-XWZOY', '7562-GSUHK', '2088-IEBAU', '8740-CRYFY', '4654-ULTTN', '7083-YNSKY', '7501-VTYLJ', '8809-RIHDD', '3566-HJGPK', '2154-KVJFF', '0042-RLHYP', '4187-CINZD', '1299-AURJA', '6860-YRJZP', '6250-CGGUN', '4070-OKWVH', '2077-MPJQO', '7384-GHBPI', '6476-YHMGA', '0496-AHOOK', '2573-GYRUU', '2676-OXPPQ', '4365-MSDYN', '2692-BUCFV', '9524-EGPJC', '3677-IYRBF', '2796-UUZZO', '8413-VONUO', '5480-XTFFL', '1656-DRSMG', '2511-MORQY', '0788-DXBFY', '7880-XSOJX', '3212-KXOCR', '2592-YKDIF', '6551-GNYDG', '0208-BPQEJ', '1866-OBPNR', '5931-FLJJF', '8495-PRWFH', '1215-VFYVK', '2474-BRUCM', '4016-BJKTZ', '7243-LCGGZ', '6371-NZYEG', '3850-OKINF', '1834-WULEG', '2262-SLNVK', '5120-ZBLAI', '1264-FUHCX', '4806-HIPDW', '5327-XOKKY', '1830-GGFNM', '0489-WMEMG', '4760-XOHVN', '1174-FGIFN', '1346-PJWTK', '0078-XZMHT', '0487-VVUVK', '0744-BIKKF', '1133-KXCGE', '6900-PXRMS', '2460-NGXBJ', '8098-TDCBU', '2200-DSAAL', '7517-LDMPS', '5995-SNNEW', '6485-QXWWE', '8059-UDZFY', '8707-RMEZH', '0365-TRTPY', '2338-BQEZT', '0148-DCDOS', '3285-UCQVC', '2988-PLAHS', '4139-SUGLD', '2137-DQMEV', '3315-IKYZQ', '8434-VGEQQ', '0963-ZBDRN', '3990-QYKBE', '1602-IJQQE', '5997-OPVFA', '6838-HVLXG', '6854-EXGSF', '4742-TXUEX', '9378-FXTIZ', '0266-GMEAO', '6834-NXDCA', '0930-EHUZA', '2959-EEXWB', '9591-YVTEB', '4199-QHJNM', '0594-UFTUL', '0447-BEMNG', '2845-AFFTX', '1986-PHGZF', '0229-LFJAF', '4001-TSBTV', '0840-DCNZE', '2320-YKQBO', '1265-BCFEO', '5461-QKNTN', '7677-SJJJK', '6907-NZZIJ', '6664-FPDAC', '1843-TLSGD', '8220-OCUFY', '2359-KLTEK', '9818-XQCUV', '0407-BDJKB', '1833-TCXKK', '7470-DYNOE', '9708-HPXWZ', '3870-MQAMG', '4987-GQWPO', '2632-TACXW', '1371-OJCEK', '5195-KPUNQ', '5043-TRZWM', '9845-PEEKO', '6227-FBDXH', '7978-DKUQH', '4922-CVPDX', '4553-DVPZG', '8012-SOUDQ', '3070-BDOQC', '0697-ZMSWS', '0376-YMCJC', '3262-EIDHV', '1334-PDUKM', '1112-CUNAO', '6599-SFQVE', '2925-MXLSX', '9110-HSGTV', '4289-DTDKW', '5917-RYRMG', '0455-ENTCR', '4877-TSOFF', '4072-IPYLT', '3472-QPRCH', '6848-YLDFR', '8166-ZZTFS', '6572-ADKRS', '3896-RCYYE', '8670-ERCJH', '3230-JCNZS', '9084-OAYKL', '4431-EDMIQ', '7795-CFOCW', '9762-YAQAA', '1852-QSWCD', '7811-JIVPF', '3765-JXVKY', '7688-AWMDX', '4285-GYRQC', '2391-SOORI', '1591-XWLGB', '7471-WNSUF', '8800-ZKRFW', '6048-UWKAL', '2979-SXESE', '8966-KZXXA', '6457-USBER', '3470-BTGQO', '5373-SFODM', '4135-FRWKJ', '8879-ZKJOF', '2277-AXSDC', '7994-XIRTR', '4299-OPXEJ', '5349-IECLD', '7750-EYXWZ', '3572-UOLYZ', '6980-CDGFC', '7634-WSWDB', '8660-BUETV', '1480-BKXGA', '8232-CTLKO', '3506-OVLKD', '9838-BFCQT', '2746-DIJLO', '6856-RAURS', '0628-CNQRM', '1552-CZCLL', '7661-CPURM', '5186-EJEGL', '7595-EHCDL', '7483-IQWIB', '8075-GXIUB', '7459-RRWQZ', '8265-HKSOW', '1159-WFSGR', '4566-NECEV', '0585-EGDDA', '3115-JPJDD', '9972-VAFJJ', '5609-CEBID', '6698-OXETB', '9018-PCIOK', '3606-TWKGI', '6035-BXTTY', '3707-GNWHM', '0411-EZJZE', '7629-WIXZF', '2162-FRZAA', '3712-PKXZA', '9609-BENEA', '5533-RJFTJ', '3884-UEBXB', '4940-KHCWD', '0136-IFMYD', '2428-ZMCTB', '4816-OKWNX', '5630-AHZIL', '7799-DSEWS', '5380-AFSSK', '3090-HAWSU', '0975-VOOVL', '4194-FJARJ', '5989-PGKJB', '7359-WWYJV', '4616-ULAOA', '3679-XASPY', '8915-NNTRC', '6094-ZIVKX', '2402-TAIRZ', '2239-CFOUJ', '6770-UAYGJ', '1360-JYXKQ', '9702-AIUJO', '5115-GZDEL', '1240-KNSEZ', '7197-VOJMM', '7434-SHXLS', '1776-SPBWV', '6734-CKRSM', '3280-NMUVX', '3038-PQIUY', '8707-HOEDG', '0511-JTEOY', '9237-HQITU', '7579-KKLOE', '5168-MQQCA', '2212-LYASK', '8763-KIAFH', '2676-SSLTO', '2018-PZKMU', '3761-FLYZI', '3376-BMGFE', '6745-JEFZB', '9135-HSWOC', '5747-PMBSQ', '1402-PTHGN', '3824-RHKVR', '5848-FHRFC', '5130-YPIRV', '8879-XUAHX', '8404-FYDIB', '1751-NCDLI', '2373-NTKOD', '0526-SXDJP', '8952-WCVCD', '9169-BSVIN', '8203-XJZRC', '8597-CTXVJ', '9695-IDRZR', '1194-HVAIF', '4422-QVIJA', '5599-HVLTW', '3208-YPIOE', '2623-DRYAM', '5698-BQJOH', '0675-NCDYU', '8592-PLTMQ', '9279-CJEOJ', '9953-ZMKSM', '3086-RUCRN', '0238-WHBIQ', '6212-ATMLK', '4800-VHZKI', '0970-QXPXW', '8580-QVLOC', '1179-INLAT', '9540-JYROE', '3022-BEXHZ', '5465-BUBFA', '4476-OSWTN', '7517-SAWMO', '3199-NPKCN', '0730-KOAVE', '0328-GRPMV', '6990-YNRIO', '6849-WLEYG', '6655-LHBYW', '6818-WOBHJ', '4011-ARPHK', '9153-BTBVV', '7868-BGSZA', '3466-WAESX', '0961-ZWLVI', '8375-DKEBR', '4860-IJUDE', '1095-JUDTC', '4377-VDHYI', '5970-GHJAW', '4293-ETKAP', '9574-BOSMD', '6474-FVJLC', '3143-ILDAL', '5859-HZYLF', '3351-NGXYI', '1194-BHJYC', '8622-ZLFKO', '7560-QRBXH', '7817-OMJNA', '3908-BLSYF', '7488-MXJIV', '5799-JRCZO', '1891-UAWWU', '4697-LUPSU', '5968-HYJRZ', '3768-NLUBH', '7998-ZLXWN', '8844-TONUD', '5732-IKGQH', '0188-GWFLE', '6350-XFYGW', '5074-FBGHB', '6629-CZTTH', '9732-EQMWY', '0902-RFHOF', '8619-IJNDK', '2683-BPJSO', '4806-KEXQR', '6203-HBZPA', '3486-HOOGQ', '2995-YWTCD', '2656-FMOKZ', '9058-MJLZC', '4332-MUOEZ', '7638-QVMVY', '4282-YMKNA', '8752-IMQOS', '9115-YQHGA', '6919-ELBGL', '9670-BPNXF', '2535-PBCGC', '2190-BCXEC', '2252-NKNSI', '3799-ISUZQ', '3643-AHCFP', '0365-BZUWY', '4702-HDRKD', '0463-WZZKO', '2927-QRRQV', '1226-UDFZR', '5198-HQAEN', '0572-ZJKLT', '0310-MVLET', '0186-CAERR', '3077-RSNTJ', '1599-EAHXY', '6425-YQLLO', '3977-QCRSL', '7018-WBJNK', '4732-RRJZC', '6357-JJPQT', '2731-GJRDG', '5228-EXCET', '2386-OWURY', '4718-DHSMV', '0225-ZORZP', '6061-PQHMK', '2639-UGMAZ', '7941-RCJOW', '4659-NZRUF', '2189-UXTKY', '9959-WOFKT', '1027-LKKQQ', '1728-CXQBE', '9867-NNXLC', '8782-LKFPK', '5032-USPKF', '3769-MHZNV', '9685-WKZGT', '5552-ZNFSJ', '3253-HKOKL', '0052-YNYOT', '1394-SUIUH', '0616-ATFGB', '6967-PEJLL', '1453-RZFON', '8644-XLFBW', '1156-ZFYDO', '0402-OAMEN', '6712-OAWRH', '6749-UTDVX', '9696-RMYBA', '4237-CLSMM', '7153-OANIO', '9938-ZREHM', '6513-EECDB', '4703-MQYKT', '6023-GSSXW', '5797-APWZC', '8821-KVZKQ', '2718-GAXQD', '4291-YZODP', '2983-ZANRP', '2282-YGNOR', '5271-YNWVR', '6131-JLWZM', '9661-MHUMO', '5480-TBGPH', '6319-IEJWJ', '3521-HTQTV', '3269-ATYWD', '2249-YPRNG', '6551-VLJMV', '6682-QJDGB', '1100-DDVRV', '8634-CILSZ', '5564-NEMQO', '2921-XWDJH', '5320-BRKGK', '7110-BDTWG', '8197-BFWVU', '1530-ZTDOZ', '8595-SIZNC', '2959-FENLU', '8194-PEEBY', '8883-GRDWQ', '3296-SILRA', '2748-MYRVK', '6169-PPETC', '1670-SVOWZ', '0939-YAPAF', '8430-TWCBX', '7787-BNTZM', '1571-SAVHK', '3454-JFUBC', '1095-WGNGG', '3719-TDVQB', '1839-UMACK', '9033-EOXWV', '7852-LECYP', '1258-YMZNM', '1644-IRKSF', '8017-UVSZU', '1481-ZUWZA', '2565-JSLRY', '5018-LXQQG', '3312-ZWLGF', '9617-UDPEU', '4570-QHXHL', '1163-ONYEY', '5696-JVVQY', '4560-WQAQW', '7079-QRCBC', '3084-DOWLE', '3536-IQCTX', '2209-XADXF', '0201-MIBOL', '1282-IHQAC', '7025-IWFHT', '0897-FEGMU', '6859-QNXIQ', '8646-JCOMS', '4195-PNGZS', '4936-YPJNK', '3815-SLMEF', '6543-CPZMK', '6823-SIDFQ', '8945-GRKHX', '5338-YHWYT', '8775-LHDJH', '5998-VVEJY', '6741-QRLUP', '5854-KSRBJ', '6599-GZWCM', '2378-YIZKA', '9351-HXDMR', '9444-JTXHZ', '5175-WLYXL', '9103-TCIHJ', '6122-LJADA', '8242-SOQUO', '6508-NJYRO', '3340-QBBFM', '8717-VCTXJ', '9391-LMANN', '9606-PBKBQ', '4959-JOSRX', '3744-ZBHON', '6921-OZMFH', '0655-RBDUG', '1866-NXPSP', '1468-DEFNC', '3440-JPSCL', '8468-FZTOE', '4915-BFSXL', '8957-THMOA', '7833-PKIHD', '5924-IFQTT', '9134-WYRVP', '9846-GKXAS', '2167-FQSTQ', '2675-IJRGJ', '2607-DHDAK', '5495-GPSRW', '1427-VERSM', '3682-YEUWS', '8878-HMWBV', '3094-JOJAI', '7432-FFVAR', '0870-VEMYL', '6196-HBOBZ', '4468-YDOVK', '3948-XHGNA', '2878-DHMIN', '6599-CEBNN', '7748-UMTRK', '4623-ZKHLY', '9039-RBEEE', '4433-JCGCG', '1574-DYCWE', '9281-CEDRU', '5445-PZWGX', '5519-YLDGW', '6227-HWPWX', '9497-QCMMS', '7615-ESMYF', '8051-HJRLT', '9932-WBWIK', '1035-IPQPU', '1830-IPXVJ', '3566-CAAYU', '5261-QSHQM', '3244-CQPHU', '3323-CPBWR', '4672-FOTSD', '5345-BMKWB', '7156-MHUGY', '1357-MVDOZ', '0637-UBJRP', '9950-MTGYX', '4685-ERGHK', '6465-GSRCL', '2466-FCCPT', '6583-QGCSI', '7105-BENQF', '8067-NIOYM', '8747-UDCOI', '3744-ZRRDZ', '7969-AULMZ', '3429-IFLEM', '5003-XZWWO', '2259-OUUSZ', '3877-JRJIP', '9221-OTIVJ', '1092-GANHU', '4973-MGTON', '4430-UZIPO', '9436-ZBZCT', '1089-XZWHH', '2581-VKIRT', '6253-WRFHY', '3612-YVGSJ', '8884-MRNSU', '9992-RRAMN', '0953-LGOVU', '4625-EWPTF', '7746-QYVCO', '1518-VOWAV', '2955-PSXOE', '8985-OOPOS', '0310-SUCIN', '4628-WQCQQ', '1816-FLZDK', '9537-VHDTA', '5396-IZEPB', '1000-AJSLD', '7142-HVGBG', '2007-QVGAW', '0363-SVHYR', '9389-ACWBI', '4568-KNYWR', '1131-QQZEB', '2897-DOVND', '7931-PXHFC', '5896-NPFWW', '8050-DVOJX', '6158-HDPXZ', '9773-PEQBZ', '7446-KQISO', '0019-GFNTW', '8945-MUQUF', '6402-EJMWF', '1335-NTIUC', '1400-WIVLL', '7299-GNVPL', '4343-EJVQB', '8344-WFMFH', '9752-ZNQUT', '8859-DZTGQ', '0486-HECZI', '2809-ILCYT', '3363-EWLGO', '2853-CWQFQ', '4320-QMLLA', '1564-NTYXF', '5593-SUAOO', '4282-MSACW', '0112-QWPNC', '9227-LUNBG', '3460-TJBWI', '0455-XFASS', '2237-ZFSMY', '6221-AVQYL', '0139-IVFJG', '9798-DRYDS', '5820-PTRYM', '0461-CVKMU', '2363-BJLSL', '6585-WCEWR', '2959-MJHIC', '7114-AEOZE', '9170-ARBTB', '2267-WTPYD', '6370-ZVHDV', '3858-VOBET', '3398-GCPMU', '2669-QVCRG', '4484-GLZOU', '7521-YXVZY', '4106-HADHQ', '3594-IVHJZ', '4521-WFJAI', '3115-CZMZD', '3166-PNEOF', '8884-FEEWR', '4282-ACRXS', '6374-NTQLP', '9878-TNQGW', '8050-XGRVL', '8123-QBNAZ', '6348-SNFUS', '7905-TVXTA', '8573-CGOCC', '3173-NVMPX', '9921-QFQUL', '6142-VSJQO', '9633-XQABV', '0988-AADSA', '6048-NJXHX', '0023-UYUPN', '5827-MWCZK', '3914-FDRHP', '4280-DLSHD', '1291-CUOCY', '5216-WASFJ', '8749-TZYEC', '7666-WKRON', '7969-FFOWG', '2640-LYMOV', '9814-AOUDH', '4636-JGAAI', '9093-FPDLG', '1518-OMDIK', '4465-VDKIQ', '8710-YGLWG', '1261-FWTTE', '1626-ERCMM', '2578-JQPHZ', '5144-PQCDZ', '8510-TMWYB', '3804-RVTGV', '9544-PYPSJ', '0550-DCXLH', '3995-WFCSM', '4616-EWBNJ', '9274-CNFMO', '3796-ENZGF', '5982-PSMKW', '3174-AKMAS', '8822-KNBHV', '2484-DGXPZ', '2969-QWUBZ', '6574-MCOEH', '8807-OPMBM', '6194-HBGQN', '6789-HJBWG', '1470-PSXNM', '0021-IKXGC', '8347-GDTMP', '3721-CNZHX', '7976-CICYS', '3612-YUNGG', '5060-TQUQN', '9916-AYHTC', '6993-OHLXR', '3528-HFRIQ', '8241-JUIQO', '5140-FOMCQ', '9086-YJYXS', '9323-HGFWY', '5115-SQAAU', '8084-OIVBS', '7493-GVFIO', '9863-JZAIC', '2300-RQGOI', '4079-WWQQQ', '8285-ABVLB', '4919-IKATY', '2874-YXVVA', '8361-LTMKD', '5669-SRAIP', '3978-YNKDD', '3138-BKYAV', '8065-QBYTO', '9637-CDTKZ', '6179-GJPSO', '6765-MBQNU', '4695-VADHF', '6096-EGVTU', '5512-IDZEI', '7233-PAHHL', '7977-HXJKU', '5981-ZVXOT', '4884-ZTHVF', '2612-RANWT', '4530-NDRKU', '5445-GLVOT', '2616-UUTFK', '5650-YLIBA', '9840-DVNDC', '7078-NVFAM', '9391-DXGGG', '2360-RDGRO', '3841-NFECX', '6645-MXQJT', '5882-CMAZQ', '0301-KOBTQ', '0810-DHDBD', '1271-SJBGZ', '4719-UMSIY', '7180-PISOG', '3234-VKACU', '2520-SGTTA', '6252-DFGTK', '3927-NLNRY', '5445-UTODQ', '5578-NKCXI', '4367-NHWMM', '1096-ADRUX', '6532-YLWSI', '2516-XSJKX', '0125-LZQXK', '5151-HQRDG', '1088-AUUZZ', '7305-ZWMAJ', '8922-NPKBJ', '7030-FZTFM', '3801-HMYNL', '9979-RGMZT', '7479-NITWS', '8311-UEUAB', '9851-QXEEQ', '8904-OPDCK', '7567-ECMCM', '2275-RBYQS', '5329-KRDTM', '6516-NKQBO', '7269-JISCY', '4291-HYEBC', '0842-IWYCP', '5183-KLYEM', '3399-BMLVW', '7167-PCEYD', '5973-EJGDP', '6061-GWWAV', '3276-HDUEG', '5220-AGAAX', '6358-LYNGM', '2019-HDCZY', '0345-HKJVM', '3144-KMTWZ', '7927-AUXBZ', '4443-EMBNA', '1846-XWOQN', '7954-MLBUN', '4223-WOZCM', '5934-TSSAU', '5141-ZUVBH', '6161-ERDGD', '2616-FLVQC', '3301-VKTGC', '7398-HPYZQ', '4785-NKHCX', '7938-OUHIO', '2322-VCZHZ', '8164-OCKUJ', '5574-NXZIU', '4840-ORQXB', '7552-KEYGT', '6630-UJZMY', '3753-TSEMP', '6618-RYATB', '8099-MZPUJ', '7389-KBFIT', '8234-GSZYK', '5419-JKZNQ', '9170-GYZJC', '5914-DVBWJ', '7029-RPUAV', '1934-SJVJK', '2223-GDSHL', '5842-POCOP', '7394-FKDNK', '4094-NSEDU', '9565-AXSMR', '3584-WKTTW', '4302-ZYFEL', '3812-LRZIR', '7817-BOQPW', '1131-ALZWV', '1576-PFZIW', '9917-KWRBE', '0670-KDOMA', '6668-CNMFP', '7682-AZNDK', '6923-JHPMP', '0003-MKNFE', '6332-FBZRI', '4837-QUSFT', '6584-VQMYT', '7716-YTYHG', '6894-LFHLY', '8327-WKMIE', '1432-FPAXX', '5712-PTIWW', '6427-FEFIG', '4063-EIKNQ', '3587-PMCOY', '2824-MYYBN', '8756-RDDLT', '2346-LOCWC', '2391-IPLOP', '3007-FDPEA', '6715-OFDBP', '2977-CEBSX', '5804-JMYIO', '2887-JPYLU', '7010-BRBUU', '7883-ROJOC', '0257-KXZGU', '1488-PBLJN', '8434-PNQZX', '3946-MHCZW', '0661-WCQNQ', '1867-TJHTS', '3647-GMGDH', '9101-BWFSS', '0956-ACVZC', '8200-LGKSR', '2866-IKBTM', '3873-NFTGI', '7033-CLAMM', '5961-VUSRV', '4088-YLDSU', '8064-RAVOH', '4484-CGXFK', '4923-ADWXJ', '5269-NRGDP', '1764-VUUMT', '5027-XWQHA', '0709-TVGUR', '6175-IRFIT', '9637-EIHEQ', '4933-BSAIP', '1689-YQBYY', '1241-FPMOF', '9926-PJHDQ', '9152-AMKAK', '4367-NUYAO', '0607-DAAHE', '6331-EWIEB', '0282-NVSJS', '0506-LVNGN', '0851-DFJKB', '4350-ZTLPI', '3132-TVFDZ', '7089-XXAYG', '6821-BUXUX', '4510-PYUSH', '5934-RMPOV', '4988-IQIGL', '8048-DSDFQ', '1465-VINDH', '5378-IKEEG', '3946-JEWRQ', '2788-CJQAQ', '9625-RZFUK', '3452-GWUIN', '8610-ZIKJJ', '7321-KKSDU', '0719-SYFRB', '4636-TVXVG', '9430-FRQOC', '4061-UKJWL', '6242-FEGFD', '3523-BRGUW', '3256-EZDBI', '2081-VEYEH', '5073-WXOYN', '5915-ANOEI', '4815-GBTCD', '2428-HYUNX', '4111-BNXIF', '7273-TEFQD', '3714-JTVOV', '1206-EHBDD', '6217-KDYWC', '0946-FKYTX', '6267-DCFFZ', '9871-ELEYA', '2792-LSHWX', '4451-RWASJ', '4918-FYJNT', '5170-PTRKA', '6629-LADHQ', '2195-VVRJF', '5522-JBWMO', '5982-XMDEX', '6141-OOXUQ', '1746-TGTWV', '6379-RXJRQ', '0141-YEAYS', '2273-QCKXA', '5539-HIVAK', '3104-OWCGK', '1389-CXMLU', '7571-YXDAD', '7526-IVLYU', '3951-NJCVI', '4547-KQRTM', '5087-SUURX', '6171-ZTVYB', '4587-NUKOX', '0635-WKOLD', '6326-MTTXK', '8242-PDSGJ', '2737-WFVYW', '2429-AYKKO', '2388-LAESQ', '6365-HITVU', '0980-PVMRC', '6614-FHDBO', '1371-DWPAZ', '7876-AEHIG', '2697-NQBPF', '8348-HFYIV', '3457-PQBYH', '9167-APMXZ', '7824-PANSQ', '8152-VETUR', '6500-JVEGC', '7767-UXAGJ', '5135-RDDQL', '8144-DGHXP', '1410-RSCMR', '2974-GGUXS', '0013-EXCHZ', '1229-RCALF', '2791-SFVEW', '4236-XPXAV', '7017-VFULY', '2642-MAWLJ', '0727-BMPLR', '7017-VFHAY', '5167-GBFRE', '8645-KOMJQ', '0667-NSRGI', '6959-UWKHF', '9189-JWSHV', '8728-SKJLR', '5351-QESIO', '1423-BMPBQ', '1354-YZFNB', '1069-XAIEM', '9327-QSDED', '2809-ZMYOQ', '0442-TDYUO', '9286-BHDQG', '0378-XSZPU', '5583-SXDAG', '6390-DSAZX', '4203-QGNZA', '1265-HVPZB', '8896-RAZCR', '7781-EWARA', '9313-CDOGY', '1767-TGTKO', '1998-VHJHK', '5542-TBBWB', '7375-WMVMT', '2804-ETQDK', '7094-MSZAO', '8464-EETCQ', '6240-EURKS', '3097-NQYSN', '4661-NJEUX', '7989-AWGEH', '1393-IMKZG', '3658-QQJYD', '7619-ODSGN', '4918-QLLIW', '0504-HHAPI', '6924-TDGMT', '8720-RQSBJ', '0096-FCPUF', '0887-HJGAR', '0655-YDGFJ', '0281-CNTZX', '4701-AHWMW', '0056-EPFBG', '1567-DSCIC', '3092-IGHWF', '5498-TXHLF', '7074-STDCN', '4310-KEDTB', '2805-AUFQN', '3916-NRPAP', '7901-HXJVA', '8410-BGQXN', '3090-QFUVD', '5609-IMCGG', '3472-OAOOR', '0601-WZHJF', '0215-BQKGS', '5968-VXZLG', '1356-MKYSK', '3522-CDKHF', '1273-MTETI', '1641-BYBTK', '6481-LXPWL', '8903-WMRNW', '0096-BXERS', '1929-ZCBHE', '7821-DPRQE', '7622-FWGEW', '6711-FLDFB', '6214-EDAKZ', '0100-DUVFC', '5876-HZVZM', '0621-HJWXJ', '3096-GKWEB', '9512-UIBFX', '7521-AFHAB', '6685-GBWJZ', '8838-GPHZP', '9715-SBVSU', '0537-QYZZN', '8174-LNWMW', '7869-ZYDST', '9689-PTNPG', '5197-PYEPU', '7130-VTEWQ', '3638-VBZTA', '9090-SGQXL', '0568-ONFPC', '4304-XUMGI', '8397-MVTAZ', '6486-LHTMA', '4002-BQWPQ', '7408-OFWXJ', '2027-DNKIV', '0771-WLCLA', '0909-SELIE', '5868-CZJDR', '5651-CRHKQ', '2082-OJVTK', '6907-CQGPN', '9146-JRIOX', '0373-AIVNJ', '0488-GSLFR', '2296-DKZFP', '1548-ARAGG', '8626-PTQGE', '2680-XKKNJ', '3400-ESFUW', '7129-ACFOG', '7410-YTJIK', '9975-GPKZU', '6064-PUPMC', '2801-NISEI', '4291-HPAXL', '6563-VNPMN', '9850-OWRHQ', '9705-IOVQQ', '5382-SOYZL', '8979-CAMGB', '7860-KSUGX', '9717-QEBGU', '8709-KRDVL', '5433-KYGHE', '8659-IOOPU', '8818-DOPVL', '4534-WGCIR', '4234-XTNEA', '3694-GLTJM', '6839-ITVZJ', '2123-VSCOT', '7080-TNUWP', '1104-TNLZA', '6174-NRBTZ', '2898-MRKPI', '6641-XRPSU', '6734-GMPVK', '4836-WNFNO', '3428-XZMAZ', '9661-ACXBS', '4759-TRPLW', '1585-MQSSU', '2817-LVCPP', '3755-JBMNH', '9837-FWLCH', '4325-NFSKC', '4701-MLJPN', '8665-UTDHZ', '9102-OXKFY', '0023-HGHWL', '6509-TSGWN', '9350-VLHMB', '5850-BDWCY', '2277-BKJKN', '8404-VIOMB', '1941-HOSAM', '2129-ALKBS', '5562-YJQGT', '0807-ZABDG', '8884-ADFVN', '7426-RHZGU', '1907-YLNYW', '2558-BUOZZ', '3509-GWQGF', '5448-VWNAM', '2188-SXWVT', '0268-QKIWO', '6614-VBEGU', '9743-DQKQW', '9420-LOJKX', '0674-GCDXG', '7225-CBZPL', '3787-TRIAL', '6217-TOWGS', '4398-HSCJH', '5815-HGGHV', '0080-OROZO', '0983-TATYJ', '1996-DBMUS', '4342-HFXWS', '1236-WFCDV', '1591-NFNLQ', '3274-NSDWE', '4210-QFJMF', '7663-YJHSN', '6416-YJTTB', '8999-XXGNS', '2530-FMFXO', '5208-FVQKB', '8731-WBBMB', '6257-DTAYD', '0988-JRWWP', '8708-XPXHZ', '9776-CLUJA', '6215-NQCPY', '5339-PXDVH', '1400-MMYXY', '7252-NTGSS', '7672-VFMXZ', '0486-LGCCH', '8190-ZTQFB', '7619-PLRLP', '9586-JGQKH', '5307-UVGNB', '0750-EBAIU', '4890-VMUAV', '9725-SCPZG', '1383-EZRWL', '3179-GBRWV', '0536-ESJEP', '8053-WWDRO', '5146-CBVOE', '1143-NMNQJ', '8780-RSYYU', '0454-OKRCT', '9052-DHNKM', '3506-LCJDC', '5605-IYGFG', '9564-KCLHR', '7249-WBIYX', '5385-SUIRI', '7898-PDWQE', '1741-WTPON', '0233-FTHAV', '8819-WFGGJ', '9289-LBQVU', '0336-KXKFK', '5325-UWTWJ', '8654-DHAOW', '9103-CXVOK', '4418-LZMSV', '6505-OZNPG', '3655-SNQYZ', '4322-RCYMT', '2108-YKQTY', '4781-ZXYGU', '8544-JNBOX', '1401-FTHFQ', '9822-BIIGN', '0732-OCQOC', '8165-ZJRNM', '4716-HHKQH', '5993-BQHEA', '6100-FJZDG', '7016-BPGEU', '4581-SSPWD', '1409-PHXTF', '4692-NNQRU', '9391-EOYLI', '4456-RHSNB', '7024-OHCCK', '1304-SEGFY', '9122-UMROB', '4929-BSTRX', '1636-NTNCO', '4056-QHXHZ', '5515-AKOAJ', '9909-IDLEK', '9944-HKVVB', '4395-PZMSN', '7851-FLGGQ', '8204-YJCLA', '6963-KQYQB', '2990-HWIML', '5960-WPXQM', '5203-XEHAX', '3976-BWUCK', '6598-RFFVI', '3128-YOVTD', '8356-WUAOJ', '2982-IHMFT', '1024-VRZHF', '2150-OEGBV', '5281-BUZGT', '7120-RFMVS', '7593-JNWRU', '1219-NNDDO', '0257-ZESQC', '4328-VUFWD', '7625-XCQRH', '1814-DKOLC', '6394-MFYNG', '6734-PSBAW', '2034-CGRHZ', '8008-OTEZX', '8623-ULFNQ', '3489-VSFRD', '6016-NXBNJ', '7356-IWLFW', '4871-JTKJF', '4957-SREEC', '4657-FWVFY', '6918-UMQCG', '2150-WLKUW', '6463-MVYRY', '9415-DPEWS', '0018-NYROU', '7396-VJUZB', '5222-JCXZT', '8007-YYPWD', '0067-DKWBL', '4826-XTSOH', '3005-TYFRD', '9764-REAFF', '7929-SKFGK', '8087-LGYHQ', '5862-BRIXZ', '5921-NGYRH', '0575-CUQOV', '2190-PHBHR', '9040-KZVWO', '5647-FXOTP', '2400-XIWIO', '9079-YEXQJ', '2321-OMBXY', '1452-XRSJV', '7855-DIWPO', '3096-YXENJ', '2460-FPSYH', '7176-WIONM', '0620-DLSLK', '9770-KXGQU', '5730-DBDSI', '5110-CHOPY', '5701-SVCWR', '0580-PIQHM', '2673-CXQEU', '3401-URHDA', '4393-RYCRE', '3891-NLXJB', '1755-RMCXH', '5193-QLVZB', '7277-KAMWT', '2371-KFUOG', '8199-ZLLSA', '2346-CZYIL', '6633-SYEUS', '7594-RQHXR', '0060-FUALY', '2065-MMKGR', '4450-DLLMH', '8207-DMRVL', '1153-GNOLC', '9297-FVVDH', '5020-ZSTTY', '2439-QKJUL', '8590-YFFQO', '7228-OMTPN', '0420-TXVSG', '7644-OMVMY', '7729-XBTWX', '4349-GFQHK', '0871-URUWO', '1960-UOTYM', '6778-JFCMK', '4693-VWVBO', '7077-XJMET', '4713-LZDRV', '0661-KQHNK', '5519-NPHVG', '1971-DTCZB', '7605-SNLQG', '5143-WMWOG', '4909-JOUPP', '4625-LAMOB', '4393-GEADV', '9574-RKJIF', '8100-HZZLJ', '4830-FAXFM', '4903-UYAVB', '9445-ZUEQE', '4803-LBYPN', '2971-SGAFL', '4277-BWBML', '9602-WCXPI', '8016-NCFVO', '0727-BNRLG', '5019-GQVCR', '1328-EUZHC', '5052-PNLOS', '9548-ZMVTX', '1867-BDVFH', '9142-KZXOP', '9576-ANLXO', '6849-OYAMU', '6837-HAEVO', '5707-ORNDZ', '8775-CEBBJ', '0231-LXVAP', '3645-DEYGF', '2378-HTWFW', '7435-ZNUYY', '8229-TNIQA', '0599-XNYDO', '5600-PDUJF', '0181-RITDD', '5346-BZCHP', '1709-EJDOX', '4525-VZCZG', '4318-RAJVY', '3097-PYWXL', '8292-TYSPY', '4163-NCJAK', '5180-UCIIQ', '1568-LJSZU', '7601-WFVZV', '2775-SEFEE', '3230-IUALN', '3312-UUMZW', '0812-WUPTB', '6680-NENYN', '3845-JHAMY', '3045-XETSH', '0743-HRVFF', '5844-QVTAT', '4009-ALQFH', '9912-OMZDS', '3902-MIVLE', '8883-ANODQ', '6810-VCAEX', '3855-ONCAR', '3120-FAZKD', '5730-RIITO', '1455-UGQVH', '2215-ZAFGX', '8374-XGEJJ', '9306-CPCBC', '9402-CXWPL', '1942-OQFRW', '6967-QIQRV', '7622-NXQZR', '0840-DFEZH', '6968-MHOMU', '6693-FRIRW', '3415-TAILE', '1421-HCERK', '2720-WGKHP', '6265-FRMTQ', '1777-JYQPJ', '0757-WCUUZ', '1582-RAFML', '8046-DNVTL', '2831-EBWRN', '0388-EOPEX', '9885-MFVSU', '8258-GSTJK', '6979-ZNSFF', '7881-EVUAD', '4950-HKQTE', '9367-OIUXP', '4193-IBKSW', '3177-LASXD', '3097-IDVPU', '3813-DHBBB', '4323-ELYYB', '2379-ENZGV', '0864-FVJNJ', '5709-LVOEQ', '8571-ZCMCX', '9629-NHXFW', '0410-IPFTY', '2525-GVKQU', '5707-ZMDJP', '2225-ZRGSG', '5135-GRQJV', '8608-OZTLB', '9750-BOOHV', '4238-HFHSN', '3714-XPXBW', '1237-WIYYZ', '3842-QTGDL', '2710-WYVXG', '8010-EZLOU', '6546-OPBBH', '9348-ROUAI', '3496-LFSZU', '8433-WXGNA', '4250-FDVOU', '4598-XLKNJ', '4137-JOPHL', '8937-RDTHP', '0927-LCSMG', '6362-QHAFM', '8999-BOHSE', '1980-KXVPM', '8990-YOZLV', '6845-RGTYS', '3078-ZKNTS', '0247-SLUJI', '1982-FEBTD', '4581-LNWUM', '1195-OIYEJ', '9972-NKTFD', '5397-TUPSH', '8148-WOCMK', '4741-WWJQZ', '5924-SNGKP', '9036-CSKBW', '2266-FUBDZ', '3705-PSNGL', '2499-AJYUA', '5995-LFTLE', '0754-UKWQP', '0872-CASZJ', '7339-POGZN', '0871-OPBXW', '3845-FXCYS', '1376-HHBDV', '5766-ZJYBB', '9921-EZKBY', '9530-EHPOH', '3537-HPKQT', '1866-RZZQS', '3763-GCZHZ', '2466-NEJOJ', '1303-SRDOK', '3800-LYTRK', '2595-KIWPV', '3811-VBYBZ', '7971-HLVXI', '1139-WUOAH', '3178-CIFOT', '0902-XKXPN', '3422-GALYP', '2393-DIVAI', '9492-TOKRI', '5286-YHCVC', '9134-CEQMF', '0064-YIJGF', '4955-VCWBI', '1329-VHWNP', '6650-VJONK', '6188-UXBBR', '5161-UBZXI', '2324-AALNO', '4190-MFLUW', '4060-LDNLU', '2004-OCQXK', '7964-YESJC', '4273-MBHYA', '3146-MSEGF', '8676-TRMJS', '5402-HTOTQ', '4720-VSTSI', '9351-LZYGF', '5349-AZPEW', '2316-ESMLS', '8393-JMVMB', '2729-VNVAP', '3566-VVORZ', '9481-SFCQY', '3131-NWVFJ', '2692-PFYTJ', '1577-HKTFG', '1073-XXCZD', '6040-CGACY', '7246-ZGQDF', '6082-GLJIX', '8905-IAZPF', '8681-ICONS', '7580-UGXNC', '7472-EQOAV', '5336-UFNZP', '6156-UZDLF', '8690-UPCZI', '5095-ETBRJ', '9091-WTUUY', '8486-AYEQH', '5018-HEKFO', '6960-HVYXR', '5673-TIYIB', '5202-IVJNU', '6481-OGDOO', '8490-BXHEO', '1465-LNTLJ', '7025-WCBNE', '6933-FHBZC', '9239-GZHZE', '0264-CNITK', '9993-LHIEB', '0971-QIFJK', '9734-UYXQI', '4612-THJBS', '6549-YMFAW', '5299-RULOA', '5949-XIKAE', '9309-BZGNT', '4690-LLKUA', '1042-HFUCW', '7234-FECYN', '6987-XQSJT', '0795-XCCTE', '4160-AMJTL', '3279-DYZQM', '5242-UOWHD', '8750-QWZAJ', '1150-FTQGN', '9314-QDMDW', '4706-AXVKM', '7191-ADRGF', '9206-GVPEQ', '6772-WFQRD', '0947-IDHRQ', '4847-QNOKA', '0495-ZBNGW', '3424-NMNBO', '8559-WNQZS', '7839-NUIAA', '2235-ZGKPT', '7925-PNRGI', '0841-NULXI', '5219-YIPTK', '1125-SNVCK', '4566-QVRRW', '5440-VHLUL', '2085-JVGAD', '6434-TTGJP', '2320-JRSDE', '2810-FTLEM', '7173-TETGO', '9297-EONCV', '7343-EOBEU', '6710-HSJRD', '6128-CZOMY', '3724-UCSHY', '5063-IUOKK', '9809-IMGCQ', '3466-RITXD', '1091-SOZGA', '1768-ZAIFU', '3569-JFODW', '1335-MXCSE', '6341-AEVKX', '7621-VPNET', '7321-VGNKU', '2843-CQMEG', '1755-FZQEC', '0428-AXXLJ', '1725-IQNIY', '8398-TBIYD', '1047-NNCBF', '3870-SPZSI', '7325-ENZFI', '3671-SHRSP', '2403-BCASL', '0343-QLUZP', '1222-KJNZD', '3717-FDJFU', '5996-EBTKM', '6559-ILWKJ', '4081-DYXAV', '2511-ALLCS', '1932-UEDCX', '4323-SADQS', '8806-EAGWC', '9102-IAYHT', '8108-UXRQN', '6727-IOTLZ', '2782-JEEBU', '3898-BSJYF', '9236-NDUCW', '9025-AOMKI', '4140-WJAWW', '9223-UCPVT', '7945-PRBVF', '3657-COGMW', '8714-EUHJO', '6651-RLGGM', '7776-QWNFX', '5955-EPOAZ', '1682-VCOIO', '2845-HSJCY', '4631-OACRM', '4130-MZLCC', '7919-ZODZZ', '2452-SNHFZ', '3230-WYKIR', '5057-LCOUI', '3307-TLCUD', '2696-RZVZW', '7711-GQBZC', '6969-MVBAI', '2000-DHJUY', '9786-YWNHU', '5049-GLYVG', '6890-PFRQX', '0536-ACXIP', '6877-TJMBR', '4846-WHAFZ', '2961-VNFKL', '5091-HFAZW', '0334-GDDSO', '5729-KLZAR', '9046-DQMTP', '4338-EYCER', '6563-VRERX', '6139-ZZRBQ', '0032-PGELS', '2925-VDZHY', '4378-MYPGO', '3950-VPYJB', '6729-GDNGC', '5567-GZKQY', '4585-HETAI', '6233-HXJMX', '7529-ZDFXI', '8944-AILEF', '6591-QGOYB', '5986-WWXDV', '4946-EDSEW', '6874-SGLHU', '0432-CAJZV', '4939-KYYPY', '7892-POOKP', '3580-REOAC', '5935-FCCNB', '7206-PQBBZ', '7794-JASDG', '9070-BCKQP', '3001-CBHLQ', '5740-YHGTW', '4402-FTBXC', '3079-BCHLN', '4891-NLUBA', '4619-EVPHY', '5840-NVDCG', '0945-TSONX', '6993-YGFJV', '2242-MFOTG', '9518-IMLHK', '5685-IIXLY', '3585-ISXZP', '3211-AAPKX', '9700-ZCLOT', '0302-JOIVN', '0265-PSUAE', '5515-IDEJJ', '7548-SEPYI', '9987-LUTYD', '5995-OIGLP', '6305-YLBMM', '9881-VCZEP', '8450-LUGUK', '2027-OAQQC', '9298-WGMRW', '2530-ENDWQ', '4640-UHDOS', '1810-MVMAI', '2985-FMWYF', '5919-TMRGD', '7271-AJDTL', '9242-TKFSV', '2888-ADFAO', '7781-HVGMK', '7547-EKNFS', '7266-GSSJX', '8809-XKHMD', '4079-ULGFR', '5451-MHQOF', '6844-DZKRF', '8920-NAVAY', '6087-MVHJH', '4636-QRJKY', '1183-CANVH', '7649-SIJJF', '7729-JTEEC', '6897-UUBNU', '7929-DMBCV', '6982-SSHFK', '8035-PWSEV', '3871-IKPYH', '3834-XUIFC', '3194-ORPIK', '7537-RBWEA', '4827-USJHP', '1135-HIORI', '7839-QRKXN', '2309-OSFEU', '0612-RTZZA', '8174-TBVCF', '5561-NWEVX', '9975-SKRNR', '5294-IMHHT', '4603-JANFB', '1766-GKNMI', '8835-VSDSE', '1113-IUJYX', '2276-YDAVZ', '7159-NOKYQ', '6559-RAKOZ', '4075-WKNIU', '2404-JIBFC', '1038-RQOST', '5353-WILCI', '0362-ZBZWJ', '1135-LMECX', '8441-SHIPE', '5906-BFOZT', '2100-BDNSN', '2107-FBPTK', '7508-DQAKK', '1731-TVIUK', '9575-IWCAZ', '8898-KASCD', '8808-ELEHO', '0928-XUTSN', '0743-HNPFG', '6992-TKNYO', '5977-CKHON', '5339-TJFEK', '6166-YIPFO', '2205-LPVGL', '0137-UDEUO', '7605-BDWDC', '0969-RGKCU', '6996-KNSML', '6131-FOYAS', '1989-PRJHP', '3807-BPOMJ', '5781-BKHOP', '9867-XOBQA', '2486-WYVVE', '5519-TEEUH', '2272-QAGFO', '4361-JEIVL', '1202-KKGFU', '6732-VAILE', '3209-ZPKFI', '9774-NRNAU', '5196-SGOAK', '8963-MQVYN', '6933-VLYFX', '7722-VJRQD', '6407-UTSLV', '1444-VVSGW', '7924-GJZFI', '2626-URJFX', '7706-DZNKK', '8614-VGMMV', '5951-AOFIH', '3181-MIZBN', '1431-AIDJQ', '6729-FZWSY', '9588-YRFHY', '5315-CKEQK', '2070-FNEXE', '0928-JMXNP', '4976-LNFVV', '2037-SGXHH', '7825-GKXMW', '6786-OBWQR', '9003-CPATH', '0674-EYYZV', '6723-CEGQI', '8429-XIBUM', '7611-YKYTC', '3780-DDGSE', '1207-BLKSA', '0322-CHQRU', '5712-AHQNN', '0640-YJTPY', '1385-TQOZW', '8083-YTZES', '6861-XWTWQ', '6637-KYRCV', '4083-EUGRJ', '9605-WGJVW', '9927-DSWDF', '0556-FJEGU', '0011-IGKFF', '5125-CNDSP', '8929-KSWIH', '7979-CORPM', '9054-FOWNV', '5159-YFPKQ', '3858-XHYJO', '0392-BZIUW', '3071-MVJCD', '3129-AAQOU', '9462-MJUAW', '9256-JTBNZ', '1262-OPMFY', '6013-BHCAW', '9938-TKDGL', '1371-WEPDS', '9541-ZPSEA', '2999-AANRQ', '0813-TAXXS', '4544-RXFMG', '7826-VVKWT', '6598-KELSS', '9470-XCCEM', '4423-JWZJN', '3191-CSNMG', '4646-QZXTF', '5828-AVIPD', '2192-CKRLV', '9050-QLROH', '8591-TKMZH', '3627-FCRDW', '9367-WXLCH', '3301-LSLWQ', '3777-XROBG', '6692-UDPJC', '7495-OOKFY', '8975-SKGRX', '8417-FMLZI', '6689-VRRTK', '2969-WGHQO', '5327-CNLUQ', '6119-SPUDB', '1840-BIUOG', '7328-ZJAJO', '9290-SHCMB', '9793-WECQC', '0947-MUGVO', '4625-XMOYM', '2369-FEVNO', '3192-LNKRK', '2725-KXXWT', '9170-CCKOU', '4116-TZAQJ', '0621-JFHOL', '1085-LDWAM', '1541-ETJZO', '0314-TKOSI', '7901-IIDQV', '9465-RWMXL', '6121-TNHBO', '4576-CSAJH', '6425-JWTDV', '3635-JBPSG', '2930-UOTMB', '0829-XXPLX', '5214-CHIWJ', '5908-QMGOE', '3373-YZZYM', '9019-QVLZD', '1599-MMYRQ', '6620-JDYNW', '1791-PQHBB', '6865-JZNKO', '4583-PARNH', '9866-QEVEE', '3049-SOLAY', '0123-CRBRT', '8348-JLBUG', '0420-HLGXF', '0129-QMPDR', '9955-QOPOY', '8854-CCVSQ', '9600-UDOPK', '5756-OZRIO', '4445-ZJNMU', '6164-HAQTX', '3551-GAEGL', '9828-AOQLM', '9489-UTFKA', '9251-WNSOD', '5016-IBERQ', '7779-ORAEL', '0174-QRVVY', '9945-PSVIP', '3923-CSIHK', '2480-EJWYP', '0378-NHQXU', '8902-ZEOVF', '1963-SVUCV', '8096-LOIST', '8268-YDIXR', '5276-KQWHG', '2378-VTKDH', '5174-RNGBH', '3164-AALRN', '8372-JUXUI', '0680-DFNNY', '2040-OBMLJ', '6674-KVJHG', '7727-SHVZV', '3027-YNWZU', '3913-FCUUW', '1142-IHLOO', '0357-NVCRI', '4656-CAURT', '9693-XMUOB', '2091-MJTFX', '4967-WPNCF', '5366-OBVMR', '2990-OGYTD', '2675-OTVVJ', '8380-MQINP', '5304-EFJLP', '7527-QNRUS', '6432-TWQLB', '8232-UTFOZ', '1730-ZMAME', '3258-SYSWS', '2812-REYAT', '4612-SSVHJ', '9601-BRXPO', '3669-OYSJI', '5062-CJJKH', '6633-MPWBS', '1492-KGETH', '1891-QRQSA', '0303-WMMRN', '2077-DDHJK', '5312-UXESG', '3006-XIMLN', '9888-ZCUMM', '6968-GMKPR', '2790-XUYMV', '6859-RKMZJ', '6807-SIWJI', '5183-SNMJQ', '3170-GWYKC', '4903-CNOZC', '2719-BDAQO', '7623-HKYRK', '3143-JQEGI', '6311-UEUME', '3926-CUQZX', '7129-AZJDE', '2267-FPIMA', '4578-PHJYZ', '9277-JOOMO', '5223-UZAVK', '5792-JALQC', '8133-ANHHJ', '2758-RNWXS', '3748-FVMZZ', '3727-JEZTU', '5849-ASHZJ', '4801-JZAZL', '9481-WHGWY', '7721-JXEAW', '6047-SUHPR', '6901-GOGZG', '2186-QZEYA', '8364-TRMMK', '5334-JLAXU', '1915-OAKWD', '2603-HVKCG', '6576-FBXOJ', '9362-MWODR', '0322-YINQP', '9027-TMATR', '4116-IQRFR', '6621-NRZAK', '1686-STUHN', '6504-VBLFL', '4682-BLBUC', '9548-LERKT', '5372-FBKBN', '2778-OCLGR', '0137-OCGAB', '4102-HLENU', '2197-OMWGI', '4183-WCSEP', '6080-LNESI', '0495-RVCBF', '9722-UJOJR', '0929-HYQEW', '3446-QDSZF', '5684-FJVYR', '1099-BTKWT', '8696-JKZNU', '8313-NDOIA', '6689-TCZHQ', '7670-ZBPOQ', '1810-BOHSY', '7105-MXJLL', '6507-ZJSUR', '5294-DMSFH', '1680-VDCWW', '0979-PHULV', '6615-ZGEDR', '1309-BXVOQ', '0107-YHINA', '2585-KTFRE', '9967-ATRFS', '3178-FESZO', '2560-WBWXF', '6302-JGYRJ', '4895-TMWIR', '4933-IKULF', '6339-YPSAH', '3417-TSCIC', '2303-PJYHN', '0827-ITJPH', '9330-IJWIO', '7297-DVYGA', '6356-ELRKD', '1897-RCFUM', '9681-OXGVC', '6527-PZFPV', '5394-MEITZ', '1852-XEMDW', '8640-SDGKB', '8894-JVDCV', '5099-BAILX', '0324-BRPCJ', '6060-QBMGV', '2969-VAPYH', '2632-UCGVD', '8777-PVYGU', '7244-KXYZN', '6199-IPCAO', '8705-DWKTI', '2506-TNFCO', '0308-GIQJT', '6625-IUTTT', '8455-HIRAQ', '2362-IBOOY', '4508-OEBEY', '8746-BFOAJ', '4829-ZLJTK', '6051-PTVNS', '4626-OZDTJ', '6723-WSNTY', '7054-LGEQW', '1905-OEILC', '7005-CYUIL', '5899-OUVKV', '6244-BESBM', '1744-JHKYS', '3956-MGXOG', '9931-DCEZH', '4662-EKDPQ', '5343-SGUBI', '5485-WUYWF', '2990-IAJSV', '7028-DVOIQ', '6223-DHJGV', '5671-UUNXD', '0668-OGMHD', '1485-YDHMM', '9501-UKKNL', '3466-BYAVD', '9048-JVYVF', '1193-RTSLK', '9178-JHUVJ', '9348-YVOMK', '1513-XNPPH', '8058-INTPH', '3249-VHRIP', '4779-ZGICK', '5886-VLQVU', '6797-LNAQX', '5266-PFRQK', '5940-NFXKV', '6907-FLBER', '8450-UYIBU', '8414-MYSHR', '1685-VAYJF', '5423-BHIXO', '5453-AXEPF', '6828-HMKWP', '8631-WUXGY', '1015-OWJKI', '6490-FGZAT', '3967-KXAPS', '9874-QLCLH', '9820-RMCQV', '7623-TRNQN', '8559-CIZFV', '6518-KZXCB', '1936-UAFEH', '0326-VDYXE', '0549-CYCQN', '5213-TWWJU', '0423-UDIJQ', '9372-TXXPS', '5590-YRFJT', '5306-BVTKJ', '5494-WOZRZ', '5474-LAMUQ', '8739-XNIKG', '3518-FSTWG', '9565-FLVCG', '5382-TEMLV', '0623-EJQEG', '8755-OGKNA', '0774-IFUVM', '8715-KKTFG', '3387-VATUS', '3354-OADJP', '1769-GRUIK', '1172-VIYBP', '8550-XSXUQ', '9142-XMYJH', '4992-LTJNE', '0258-NOKBL', '5605-XNWEN', '3623-FQBOX', '4709-LKHYG', '2096-XOTMO', '9787-XVQIU', '4735-BJKOU', '4925-LMHOK', '7013-PSXHK', '5619-XZZKR', '4902-OHLSK', '5309-TAIKL', '8695-WDYEA', '5975-BAICR', '8111-SLLHI', '2049-BAFNW', '1309-XGFSN', '5565-FILXA', '9898-KZQDZ', '5816-JMLGY', '9701-CDXHR', '8003-EWNDZ', '7854-FOKSF', '3724-BSCVH', '2754-SDJRD', '5640-CAXOA', '2351-RRBUE', '2302-OUZXB', '6691-CCIHA', '2408-TZMJL', '8414-OOEEL', '3049-NDXFL', '5527-ACHSO', '0936-NQLJU', '2675-DHUTR', '4832-VRBMR', '8498-XXGWA', '1342-JPNKI', '1768-HNVGJ', '3410-YOQBQ', '0164-XAIRP', '4118-CEVPF', '1208-NBVFH', '0083-PIVIK', '3910-MRQOY', '2739-CACDQ', '2037-XJFUP', '8903-XEBGX', '7932-WPTDS', '6397-JNZZG', '5357-TZHPP', '0475-RIJEP', '8966-OIQHG', '3223-WZWJM', '3900-AQPHZ', '6234-RAAPL', '1084-MNSMJ', '1449-XQEMT', '8039-EQPIM', '0907-HQNTS', '6185-TASNN', '9853-JFZDU', '7780-OTDSO', '7966-YOTQW', '8229-BUJHX', '9938-EKRGF', '4524-QCSSM', '4510-HIMLV', '1928-BXYIV', '1981-INRFU', '2105-PHWON', '2480-JZOSN', '0921-OHLVP', '2642-DTVCO', '9210-IAHGH', '5055-BRMNE', '5073-RZGBK', '1763-WQFUK', '8160-HOWOX', '2164-SOQXL', '4647-XXZAM', '1222-LRYKO', '8699-ASUFO', '4109-CYRBD', '2027-WKXMW', '6614-YWYSC', '5575-TPIZQ', '0576-WNXXC', '7365-BVCJH', '1089-HDMKP', '6029-WTIPC', '6178-KFNHS', '3096-IZETN', '8461-EFQYM', '5469-NUJUR', '7310-EGVHZ', '3557-HTYWR', '2592-SEIFQ', '2211-RMNHO', '1060-ENTOF', '3544-FBCAS', '8224-KDLKN', '9361-YNQWJ', '2725-TTRIQ', '2716-GFZOR', '2314-TNDJQ', '2293-IJWPS', '0970-ETWGE', '0956-SYCWG', '4097-YODCF', '0396-YCHWO', '9121-PHQSR', '3370-HXOPH', '7596-IIWYC', '0306-JAELE', '2626-VEEWG', '5337-IIWKZ', '9896-UYMIE', '0390-DCFDQ', '8815-LMFLX', '9895-VFOXH', '1925-GMVBW', '3969-JQABI', '3308-DGHKL', '0114-RSRRW', '6137-NICCO', '0027-KWYKW', '2903-YYTBW', '7703-ZEKEF', '3594-UVONA', '5550-VFRLC', '7011-CVEUC', '0634-SZPQA', '8714-CTZJW', '4475-NVTLU', '3021-VLNRJ', '7530-HDYDS', '3009-JWMPU', '5930-GBIWP', '7951-VRDVK', '7240-FQLHE', '5965-GGPRW', '9798-OPFEM', '2144-BFDSO', '0426-TIRNE', '4381-MHQDC', '7595-EUIVN', '5727-MYATE', '8687-BAFGU', '4795-WRNVT', '5054-IEXZT', '5207-PLSTK', '6128-AQBMT', '9127-QRZMH', '2674-MIAHT', '9844-FELAJ', '0643-OKLRP', '2254-DLXRI', '9137-UIYPG', '8512-WIWYV', '5010-IPEAQ', '9391-YZEJW', '4897-QSUYC', '0017-IUDMW', '4822-YCXMX', '2227-JRSJX', '8143-ETQTI', '4137-BTIKL', '3126-WQMGH', '7841-FCRQD', '2560-QTSBS', '5778-BVOFB', '1970-KKFWL', '8413-YNHNV', '7301-ABVAD', '0811-GSDTP', '0436-TWFFZ', '8651-ENBZX', '5186-SAMNZ', '2202-CUYXZ', '1522-VVDMG', '5898-IGSLP', '9786-IJYDL', '8840-DQLGN', '8022-BECSI', '0702-PGIBZ', '1794-HBQTJ', '8049-WJCLQ', '2717-HVIZY', '0621-TWIEM', '2141-RRYGO', '5858-EAFCZ', '1660-HSOOQ', '0206-OYVOC', '7044-YAACC', '2368-GAKKQ', '1527-SXDPN', '5117-IFGPS', '3487-EARAT', '0187-QSXOE', '6353-BRMMA', '4458-KVRBJ', '2737-YNGYW', '5916-QEWPT', '1173-NOEYG', '0804-YGEQV', '5753-QQWPW', '7460-ITWWP', '2832-SCUCO', '7860-UXCRM', '1820-TQVEV', '0104-PPXDV', '2432-TFSMK', '9172-ANCRX', '6522-OIQSX', '6582-OIVSP', '7503-ZGUZJ', '0112-QAWRZ', '6204-IEUXJ', '9508-ILZDG', '3413-BMNZE', '8601-QACRS', '9057-MSWCO', '5923-GXUOC', '5356-RHIPP', '9755-JHNMN', '9681-KYGYB', '8584-KMVXD', '5406-KGRMX', '7812-FZHPE', '2243-FNMMI', '2636-SJDOU', '3316-UWXUY', '8318-LCNBW', '8180-AKMJV', '6608-QQLVK', '6260-ONULR', '7754-IXRMC', '3617-XLSGQ', '4065-JJAVA', '1223-UNPKS', '1450-GALXR', '4227-OJHAL', '6631-HMANX', '0682-USIXD', '9625-QNLUX', '8100-PNJMH', '0742-MOABM', '2538-OIMXF', '8161-QYMTT', '1310-QRITU', '7268-IGMFD', '0559-CKHUS', '1704-NRWYE', '2325-NBPZG', '1635-HDGFT', '8718-PTMEZ', '9796-MVYXX', '0420-BWTPW', '6103-QCKFX', '4686-UXDML', '1209-VFFOC', '4003-FUSHP', '0780-XNZFN', '7598-UAASY', '0323-XWWTN', '7711-YIJWC', '2833-SLKDQ', '6419-ZTTLE', '8738-JOKAR', '2927-CVULT', '0222-CNVPT', '8552-OBVRU', '4878-BUNFV', '3806-DXQOM', '7446-YPODE', '4115-UMJFQ', '3737-GCSPV', '1074-AMIOH', '9101-NTIXF', '3653-NCRDJ', '7742-MYPGI', '4277-PVRAN', '9710-NJERN', '1658-TJVOA', '0516-OOHAR', '6917-FIJHC', '3338-CVVEH', '5828-DWPIL', '8917-FAEMR', '9541-PWTWO', '9027-YFHQJ', '3318-ISQFQ', '1004-NOZNR', '4825-FUREZ', '8496-EJAUI', '4373-VVHQL', '7470-MCQTK', '2498-XLDZR', '4718-WXBGI', '1266-NZYUI', '7544-ZVIKX', '2800-VEQXM', '6974-DAFLI', '0867-MKZVY', '7504-UWHNB', '0068-FIGTF', '3629-ZNKXA', '4730-AWNAU', '6330-JKLPC', '4226-KKDON', '7815-PDTHL', '3654-ARMGP', '7274-RTAPZ', '4311-QTTAI', '8325-QRPZR', '9108-EQPNQ', '7789-HKSBS', '0212-ISBBF', '3810-DVDQQ', '8313-KTIHG', '8400-WZICQ', '1563-IWQEX', '8573-JGCZW', '9127-FHJBZ', '0022-TCJCI', '2239-CGBUZ', '1624-WOIWJ', '6870-ECSHE', '3410-MHHUM', '8473-VUVJN', '4021-RQSNY', '8485-GJCDN', '3865-YIOTT', '3030-YZADT', '5716-LIBJC', '8219-VYBVI', '8623-TMRBY', '3580-HYCSP', '8969-PRHFK', '3481-JHUZH', '2869-ADAWR', '9821-POOTN', '7315-WYOAW', '7801-KICAO', '1142-WACZW', '8637-XJIVR', '0853-TWRVK', '4256-ZWTZI', '5950-AAAGJ', '7733-UDMTP', '1557-EMYVT', '7228-PAQPD', '8908-NMQTX', '1247-QBVSH', '9191-MYQKX', '5743-KHMNA', '7277-OZCGZ', '7416-CKTEP', '4797-MIWUM', '2005-DWQZJ', '2294-DMMUS', '3642-BYHDO', '8076-FEZKJ', '8805-JNRAZ', '4654-GGUII', '0931-MHTEM', '0637-KVDLV', '9585-KKMFD', '0289-IVARM', '0318-QUUOB', '0193-ESZXP', '8992-JQYUN', '1965-DDBWU', '9614-RMGHA', '5442-PPTJY', '7609-NRNCA', '7964-VEXDG', '1302-UHBDD', '5321-NTRKC', '9610-WCESF', '1208-DNHLN', '6917-IAYHD', '4291-TPNFG', '5832-EXGTT', '8167-GJLRN', '1407-DIGZV', '0975-UYDTX', '8242-JSVBO', '2898-LSJGD', '7777-UNYHB', '2634-HCZGT', '7950-XWOVN', '5076-YVXCM', '2018-QKYGT', '3703-KBKZP', '3327-YBAKM', '0506-YLVKJ', '5686-CMAWK', '4430-YHXGG', '3932-CMDTD', '4062-HBMOS', '6773-LQTVT', '9972-EWRJS', '3563-SVYLG', '4472-LVYGI', '7905-NJMXS', '3161-ONRWK', '3426-NIYYL', '8313-AFGBW', '6956-SMUCM', '7541-YLXCL', '6518-LGAOV', '4459-BBGHE', '3806-YAZOV', '2024-BASKD', '7074-IEVOJ', '8208-EUMTE', '8149-AIQCG', '4006-HKYHO', '7139-JZFVG', '8999-EXMNO', '7395-IGJOS', '1260-TTRXI', '7317-GGVPB', '4012-ZTHBR', '0266-CLZKZ', '5313-FPXWG', '5889-JTMUL', '9488-HGMJH', '3709-OIJEA', '0581-BXBUB', '3486-NPGST', '5789-LDFXO', '0040-HALCW', '6322-PJJDJ', '3530-VWVGU', '5639-NTUPK', '2700-LUEVA', '3085-QUOZK', '3352-RICWQ', '7190-XHTWJ', '3776-EKTKM', '4312-KFRXN', '8734-FNWVH', '1724-IQWNM', '8922-LIEGH', '2260-USTRB', '5376-PCKNB', '2451-YMUXS', '7663-ZTEGJ', '2550-QHZGP', '9055-MOJJJ', '5702-KVQRD', '2955-BJZHG', '9831-BPFRI', '9150-KPBJQ', '1716-LSAMB', '5945-AZYHT', '5834-ASPWA', '2207-OBZNX', '2519-ERQOJ', '3161-GETRM', '4942-VZZOM', '9763-GRSKD', '5173-WXOQV', '3982-XWFZQ', '4360-PNRQB', '7055-HNEOJ', '5119-KEPFY', '1024-GUALD', '3370-GQEAL', '9392-XBGTD', '5278-PNYOX', '8445-DNBAE', '6959-GQEGV', '6300-BWMJX', '1972-XMUWV', '6158-DWPZT', '6847-KJLTS', '9578-VRMNM', '6797-UCJHZ', '7061-OVMIM', '9534-NSXEM', '2061-VVFST', '4283-IVYCI', '5447-VYTKW', '5821-MMEIL', '4633-MKHYU', '6437-UDQJM', '4086-YQSNZ', '2845-KDHVX', '5542-NKVRU', '1293-HHSHJ', '2609-IAICY', '1568-BEKZM', '4013-GUXND', '2858-MOFSQ', '3572-UUHRS', '2233-TXSIU', '9592-ERDKV', '6101-IMRMM', '7354-OIJLX', '2773-OVBPK', '2865-TCHJW', '8259-NFJTV', '2995-UPRYS', '7789-CRUVC', '0122-OAHPZ', '6682-VCIXC', '7602-MVRMB', '0384-RVBPI', '8593-WHYHV', '9244-ZVAPM', '8260-NGFNY', '7879-CGSFV', '7284-BUYEC', '1658-BYGOY', '2615-YVMYX', '8006-PYCSW', '2080-CAZNM', '0239-OXEXL', '2080-GKCWQ', '2192-OZITF', '7586-ZATGZ', '9415-ZNBSX', '5702-SKUOB', '8263-JQAIK', '7698-YFGEZ', '9365-SRSZE', '2361-UPSND', '3853-LYGAM', '5520-FVEWJ', '3795-GWTRD', '2612-RRIDN', '6218-KNUBD', '6766-HFKLA', '3243-ZHOHY', '7361-YPXFS', '4143-HHPMK', '3780-YVMFA', '0440-QEXBZ', '5697-GOMBF', '7450-NWRTR', '6007-TCTST', '0959-WHOKV', '0739-UUAJR', '1991-VOPLL', '3570-YUEKJ', '8917-SZTTJ', '5976-JCJRH', '4536-PLEQY', '6615-NGGZJ', '4504-YOULA', '1333-PBMXB', '7341-LXCAF', '0854-UYHZD', '2774-LVQUS', '5949-HGVJL', '9589-ABEPT', '8185-UPYBR', '4782-OSFXZ', '9651-GTSAQ', '0253-ZTEOB', '5982-FPVQN', '8421-WZOOW', '9261-WDCAF', '2230-XTUWL', '2712-SYWAY', '9891-NQDBD', '1061-PNTHC', '7096-ZNBZI', '8779-QRDMV', '2452-MRMZF', '0644-OQMDK', '7233-IOQNP', '0221-WMXNQ', '0463-TXOAK', '1268-ASBGA', '8063-GBATB', '9495-REDIY', '0722-TROQR', '6168-YBYNP', '5553-AOINX', '6253-GNHWH', '5108-ADXWO', '0520-FDVVT', '5502-RLUYV', '1399-OUPJN', '4558-CGYCZ', '9441-QHEVC', '3658-KIBGF', '0356-OBMAC', '7668-XCFYV', '0639-TSIQW', '9746-UGFAC', '5458-CQJTA', '4883-KCPZJ', '2533-TIBIX', '5095-AESKG', '6440-DKQGE', '5944-UGLLK', '4211-MMAZN', '1956-YIFGE', '3969-GYXEL', '6480-YAGIY', '9415-TPKRV', '6506-EYCNH', '3882-IYOIJ', '5201-CBWYG', '2382-BCKQJ', '7009-LGECI', '7743-EXURX', '3346-BRMIS', '7145-FEJWU', '4816-LXZYW', '7216-KAOID', '6862-CQUMB', '5498-IBWPI', '2245-ADZFJ', '5438-QMDDL', '5989-AXPUC', '3580-GICBM', '4818-DRBQT', '5889-LFOLL', '0471-LVHGK', '0118-JPNOY', '5751-USDBL', '8727-JQFHV', '5035-BVCXS', '3146-JTQHR', '8097-OMULG', '1750-CSKKM', '7526-BEZQB', '8060-HIWJJ', '3823-KYNQY', '5002-GCQFH', '9286-DOJGF', '2384-OVPSA', '0336-PIKEI', '4537-CIBHB', '1116-FRYVH', '7968-QUXNS', '1621-YNCJH', '2522-AHJXR', '0376-OIWME', '9339-FIIJL', '1352-VHKAJ', '0111-KLBQG', '1215-FIGMP', '0973-KYVNF', '9067-YGSCA', '3352-ALMCK', '0151-ONTOV', '2789-CZANW', '9224-VTYID', '3026-ATZYV', '2178-PMGCJ', '4877-EVATK', '2252-JHJGE', '9253-QXKBE', '7129-CAKJW', '4291-SHSBH', '6328-ZPBGN', '7765-LWVVH', '2274-XUATA', '5499-ECUTN', '7113-HIPFI', '0906-QVPMS', '7760-OYPDY', '8625-AZYZY', '6496-SLWHQ', '1871-MOWRM', '2458-EOMRE', '7993-PYKOF', '4154-AQUGT', '7853-OETYL', '9356-AXGMP', '4751-ERMAN', '7481-ATQQS', '6692-YQHXC', '7690-KPNCU', '2636-ALXXZ', '9272-LSVYH', '3016-KSVCP', '9475-NNDGC', '4896-CPRPF', '0570-BFQHT', '6278-FEPBZ', '3063-QFSZL', '2848-YXSMW', '2621-UDNLU', '9133-AYJZG', '9373-WSLOY', '9581-GVBXT', '4472-VESGY', '0623-IIHUG', '7722-CVFXN', '3213-VVOLG', '7242-QZLXF', '7156-MXBJE', '4695-WJZUE', '9128-CPXKI', '3345-JHUEO', '3520-FJGCV', '6410-LEFEN', '2988-GBIVW', '9173-IVZVP', '0595-ITUDF', '0404-SWRVG', '2692-AQCPF', '9365-CSLBQ', '4163-KIUHY', '3470-OBUET', '8263-OKETD', '3067-SVMTC', '9643-AVVWI', '8874-EJNSR', '9512-PHSMG', '4698-KVLLG', '7014-ZZXAW', '2568-BRGYX', '5348-CAGXB', '9650-VBUOG', '1028-FFNJK', '7336-RLLRH', '5917-HBSDW', '5897-ZYEKH', '3518-PZXZQ', '3750-YHRYO', '8695-ARGXZ', '1077-HUUJM', '6345-HOVES', '7446-SFAOA', '6344-SFJVH', '9667-TKTVZ', '7240-ETPTR', '5922-ABDVO', '5656-MJEFC', '4323-OHFOW', '6374-AFWOX', '4228-ZGYUW', '8292-ITGYJ', '0596-BQCEQ', '3427-GGZZI', '7608-RGIRO', '2359-QWQUL', '6202-DYYFX', '1730-VFMWO', '6288-LBEAR', '2821-WARNZ', '3841-CONLJ', '8388-DMKAE', '4647-MUZON', '6976-BWGLQ', '4667-QONEA', '3313-QKNKB', '0129-KPTWJ', '2933-FILNV', '7426-WEIJX', '0191-ZHSKZ', '3345-PBBFH', '4324-AHJKS', '0356-ERHVT', '5981-ITEMU', '8267-KFGYD', '7508-SMHXL', '1809-DMJHQ', '5985-TBABQ', '6695-AMZUF', '5590-BYNII', '1708-PBBOA', '1357-BIJKI', '2252-ISRNH', '3331-HQDTW', '9158-VCTQB', '1501-SGHBW', '6210-KBBPI', '4701-LKOZD', '7410-OIEDU', '5626-MGTUK', '6732-FZUGP', '7322-OCWHC', '0471-ARVMX', '7330-WZLNC', '0750-EKNGL', '7353-YOWFP', '1976-CFOCS', '0678-RLHVP', '1323-OOEPC', '0883-EIBTI', '8627-EHGIP', '9013-AQORL', '8871-JLMHM', '7753-USQYQ', '2683-JXWQQ', '4299-SIMNS', '0082-LDZUE', '9658-WYUFB', '6034-YMTOB', '0784-GTUUK', '6261-LHRTG', '2851-STERV', '1403-LKLIK', '3878-AVSOQ', '5693-PIPCS', '3489-HHPFY', '2439-LYPMQ', '0875-CABNR', '6942-LBFDP', '9705-ZJBCG', '6352-TWCAU', '4092-OFQZS', '7746-AWNQW', '4404-HIBDJ', '3549-ZTMNH', '6683-VLCTZ', '1448-PWKYE', '5699-BNCAS', '0674-DGMAQ', '2908-ZTPNF', '5119-NZPTV', '5149-QYTTU', '4183-MYFRB', '3696-XRIEN', '1031-IIDEO', '6568-POCUI', '9732-OUYRN', '3982-JGSFD', '9625-QSTYE', '8338-QIUNR', '7718-UPSKJ', '4704-ERYFC', '0608-JDVEC', '7407-SUJIZ', '8042-JVNFH', '4652-NNHNY', '1177-XZBJL', '4635-EJYPD', '1038-ZAGBI', '1960-UYCNN', '3030-YDNRM', '5651-YLPRD', '2236-HILPA', '3999-WRNGR', '5774-XZTQC', '9644-KVCNC', '6437-UKHMV', '3930-ZGWVE', '9860-LISIZ', '8107-KNCIM', '2082-CEFLT', '5307-DZCVC', '5457-COLHT', '7501-IWUNG', '3195-TQDZX', '0727-IWKVK', '4254-QPEDE', '1114-CENIM', '1430-SFQSA', '6103-BOCOU', '8561-NMTBD', '2522-WLNSF', '4307-KTUMW', '3027-ZTDHO', '3627-FHKBK', '1090-PYKCI', '4342-HENTK', '1699-UOTXU', '8259-DZLIZ', '0103-CSITQ', '7798-JVXYM', '5214-NLTIT', '1092-WPIVQ', '2694-CIUMO', '1875-QIVME', '5619-PTMIK', '6542-LWGXJ', '3372-CDXFJ', '1025-FALIX', '4039-PIMHX', '5959-BELXA', '9631-XEYKE', '1977-STDKI', '2001-MCUUW', '3567-PQTSO', '5515-RUGKN', '6394-HHHZM', '3797-FKOGQ', '5485-ITNPC', '8566-YPRGL', '2676-ISHSF', '7319-ZNRTR', '6603-YRDCJ', '4765-OXPPD', '7845-URHJN', '0825-CPPQH', '2495-TTHBQ', '7351-KYHQH', '4360-QRAVE', '3050-GBUSH', '9522-ZSINC', '9081-WWXKP', '1492-QGCLU', '5899-MQZZL', '5624-BQSSA', '0967-BMLBD', '9788-HNGUT', '2750-BJLSB', '1053-MXTTK', '2519-LBNQL', '5295-PCJOO', '3500-RMZLT', '2792-VPPET', '4020-KIUDI', '8262-COGGB', '4712-AUQZO', '5090-EMGTC', '1535-VTJOQ', '5025-GOOKI', '1536-YHDOE', '2889-FPWRM', '4559-UWIHT', '7421-ZLUPA', '3635-QQRQD', '6047-YHPVI', '3768-VHXQO', '0468-YRPXN', '5847-MXBEO', '8591-NXRCV', '2333-KWEWW', '9795-SHUHB', '6103-LIANB', '4597-ELFTS', '9028-LIHRP', '9940-RHLFB', '1813-JYWTO', '6000-UKLWI', '3402-XRIUO', '1322-AGOQM', '5614-DNZCE', '5236-PERKL', '4480-MBMLB', '7980-MHFLQ', '2904-GGUAZ', '0604-THJFP', '7404-JLKQG', '4737-HOBAX', '7219-TLZHO', '8958-JPTRR', '3272-VUHPV', '4317-VTEOA', '4355-HBJHH', '9231-ZJYAM', '1173-XZPYF', '8224-DWCKX', '5482-NUPNA', '8901-UPRHR', '1494-EJZDW', '0030-FNXPP', '2330-PQGDQ', '6726-NNFWD', '6583-SZVGP', '9885-CSMWE', '1689-MRZQR', '1338-CECEE', '1264-BYWMS', '3398-ZOUAA', '5275-PMFUT', '1761-AEZZR', '6569-KTMDU', '1306-RPWXZ', '5956-VKDTT', '2371-JUNGC', '1619-YWUBB', '7067-KSAZT', '9531-NSBMR', '0434-CSFON', '7993-NQLJE', '1097-FSPVW', '6873-UDNLD', '8111-BKVDS', '8191-XWSZG', '4189-NAKJS', '6077-BDPXA', '1431-CYWMH', '3680-CTHUH', '5067-WJEUN', '9928-BZVLZ', '2418-TPEUN', '1324-NLTJE', '2868-MZAGQ', '3396-DKDEL', '8802-UNOJF', '5482-VXSXJ', '4057-FKCZK', '8631-NBHFZ', '0374-AACSZ', '5939-XAIXZ', '6384-VMJHP', '5875-YPQFJ', '3756-VNWDH', '6663-JOCQO', '4789-KWMXN', '9154-QDGTH', '5044-LRQAQ', '8766-PAFNE', '8118-TJAFG', '4255-DDUOU', '6135-OZQVA', '3585-YNADK', '2332-TODQS', '2256-YLYLP', '9342-VNIMQ', '2725-IWWBA', '5380-WJKOV', '9489-DEDVP', '1845-ZLLIG', '4806-DXQCE', '7587-RZNME', '9715-WZCLW', '2709-UQGNP', '0236-HFWSV', '2386-LAHRK', '1921-KYSAY', '6120-RJKLU', '6184-DYUOB', '2926-JEJJC', '0942-KOWSM', '3167-SNQPL', '0621-TSSMU', '7131-ZQZNK', '7465-ZZRVX', '3474-BAFSJ', '4671-LXRDQ', '3831-YCPUO', '0244-LGNFY', '5322-TEUJK', '8988-ECPJR', '0013-SMEOE', '5178-LMXOP', '7606-BPHHN', '2657-ALMWY', '1216-BGTSP', '6248-BSHKG', '4929-XIHVW', '4482-FTFFX', '9933-QRGTX', '0761-AETCS', '4911-BANWH', '9496-IVVRP', '1010-DIAUQ', '3325-FUYCG', '5876-QMYLD', '9399-APLBT', '0354-WYROK', '6199-IWKGC', '3620-EHIMZ', '0823-HSCDJ', '7683-CBDKJ', '7008-LZVOZ', '5067-DGXLL', '7674-YTAFD', '3158-MOERK', '4495-LHSSK', '8148-NLEGT', '9767-FFLEM', '1271-UODNO', '4415-WNGVR', '7112-OPOTK', '1722-LDZJS', '7577-SWIFR', '7752-XUSCI', '3336-JORSO', '4086-ATNFV', '8914-RBTSB', '6418-PIQSP', '9209-NWPGU', '1448-CYWKC', '1304-BCCFO', '3507-GASNP', '2023-VQFDL', '0868-VJRDR', '4853-OITSN', '9488-FVZCC', '1194-SPVSP', '2397-BRLOM', '9819-FBNSV', '6725-TPKJO', '4547-FZJWE', '4191-XOVOM', '2834-JKOOW', '6464-KEXXH', '3237-AJGEH', '7576-OYWBN', '5153-LXKDT', '5543-QDCRY', '3961-SXAXY', '7693-LCKZL', '5393-HJZSM', '7392-YYPYJ', '8774-GSBUN', '4844-JJWUY', '8295-FHIVV', '6258-PVZWJ', '7610-TVOPG', '1814-WFGVS', '0305-SQECB', '1029-QFBEN', '3727-OWVYD', '8711-LOBKY', '6086-ESGRL', '1120-BMWUB', '7459-IMVYU', '9200-NLNPD', '0308-IVGOK', '9639-BUJXT', '7657-DYEPJ', '7602-DBTOU', '3374-PZLXD', '7503-MIOGA', '8106-GWQOK', '5846-NEQVZ', '5948-UJZLF', '7314-OXENN', '4795-UXVCJ', '9184-GALIL', '5909-ECHUI', '7892-QVYKW', '2876-GZYZC', '0895-UADGO', '9739-JLPQJ', '7402-PWYJJ', '7285-KLOTR', '9220-CXRSC', '5271-DBYSJ', '7203-OYKCT', '0484-FFVBJ', '4182-BGSIQ', '0722-SVSFK', '5676-CFLYY', '5236-XMZJY', '2740-TVLFN', '6686-YPGHK', '3190-XFANI', '7856-GANIL', '7785-RDVIG', '1347-KTTTA', '8085-MSNLK', '9842-EFSYY', '0531-ZZJWQ', '5716-EZXZN', '8670-MEFCP', '0345-XMMUG', '2027-FECZV', '8495-LJDFO', '4993-JCRGJ', '6421-SZVEM', '3704-IEAXF', '3070-FNFZQ', '2886-KEFUM', '2351-BKRZW', '6393-WRYZE', '8741-LQOBK', '9800-ONTFE', '1496-GGSUK', '9576-SYUHJ', '3996-ZNWYK', '0406-BPDVR', '8908-SLFCJ', '1163-VIPRI', '7850-THJMU', '9503-XJUME', '7359-PTSXY', '7594-LZNWR', '3938-YFPXD', '3890-RTCMS', '9961-JBNMK', '9057-SIHCH', '6016-LVTJQ', '3814-MLAXC', '7480-SPLEF', '0587-DMGBH', '1137-DGOWI', '3413-CSSTH', '2272-UOINI', '2580-ASVVY', '9699-UBQFS', '5955-ERIHD', '6297-NOOPG', '6718-BDGHG', '7854-EDSSA', '2097-YVPKN', '3902-FOIGH', '8294-UIMBA', '5364-EVNIB', '5692-FPTAH', '2739-CCZMB', '0402-CQAJN', '7055-JCGNI', '9828-QHFBK', '6537-OTKMY', '6848-HJTXY', '9571-EDEBV', '8547-NSBBO', '5442-XSDCW', '6619-RPLQZ', '0611-DFXKO', '5542-DHSXL', '0164-APGRB', '4767-HZZHQ', '6583-KQJLK', '7803-XOCCZ', '5760-IFJOZ', '6331-LWDTQ', '1624-NALOJ', '4822-LPTYJ', '4115-BNPJY', '7569-NMZYQ', '4188-FRABG', '3058-WQDRE', '5176-LMJXE', '9424-CMPOG', '7779-LGOVN', '6122-EFVKN', '4468-KAZHE', '5504-WSIUR', '1450-SKCVI', '1934-MKPXS', '9555-SAHUZ', '6961-MJKBO', '9795-VOWON', '8543-MSDMF', '2896-TBNBE', '8680-CGLTP', '6235-VDHOM', '3886-CERTZ', '0690-SRQID', '0248-IPDFW', '6521-YYTYI', '7603-USHJS', '3347-YJZZE', '3863-QSTYI', '3397-AVTKU', '6270-OMFIW', '0673-IGUQO', '3778-FOAQW', '3915-ODIYG', '3451-VAWLI', '5650-VDUDS', '5712-VBOXD', '2664-XJZNO', '7234-KMNRQ', '6365-MTGZX', '6479-SZPLM', '4086-WITJG', '8375-KVTHK', '2067-QYTCF', '4678-DVQEO', '4592-IWTJI', '2150-UWTFY', '0458-HEUZG', '0916-QOFDP', '5995-WWKKG', '8169-SAEJD', '5014-GSOUQ', '6295-OSINB', '5240-IJOQT', '9477-LGWQI', '3244-DCJWY', '3148-AOIQT', '9919-YLNNG', '4869-EPIUS', '6857-VWJDT', '4425-OWHWB', '2495-INZWQ', '0771-CHWSK', '9114-DPSIA', '1779-PWPMG', '4522-XRWWI', '3359-DSRKA', '3893-JRNFS', '6341-JVQGF', '4607-CHPCA', '2985-JUUBZ', '2408-PSJVE', '8565-HBFNN', '9867-JCZSP', '1775-KWJKQ', '9499-XPZXM', '4742-DRORA', '6000-APYLU', '4248-HCETZ', '8868-WOZGU', '7762-ONLJY', '4446-BZKHU', '5028-GZLDO', '4512-ZUIYL', '8990-ZXLSU', '2656-TABEH', '5453-YBTWV', '7538-GWHML', '7639-OPLNG', '0013-MHZWF', '7673-LPRNY', '2208-NQBCT', '8778-LMWTJ', '9866-OCCKE', '7168-HDQHG', '0203-HHYIJ', '1498-NHTLT', '9419-IPPBE', '0547-HURJB', '7422-WNBTY', '9026-RNUJS', '4632-PAOYU', '6892-XPFPU', '8229-MYEJZ', '3255-GRXMG', '0880-FVFWF', '0932-YIXYU', '0980-FEXWF', '8818-XYFCQ', '0617-AQNWT', '1543-LLLFT', '8910-ICHIU', '3308-JSGML', '0447-RXSGD', '2455-USLMV', '5006-MXVRN', '0297-RBCSG', '8280-MQRQN', '7647-GYYKX', '9835-ZIITK', '9450-TRJUU', '3407-QGWLG', '6296-DDOOR', '6234-PFPXL', '9647-ERGBE', '2080-SRCDE', '2984-MIIZL', '0584-BJQGZ', '3774-VBNXY', '8292-FRFZQ', '5171-EPLKN', '3891-PUQOD', '3530-CRZSB', '4083-BFNYK', '3733-UOCWF', '9073-ZZIAY', '6168-WFVVF', '6519-CFDBX', '4102-OQUPX', '8065-BVEPF', '1245-HARPS', '9408-SSNVZ', '9494-BDNNC', '1625-JAIIY', '0135-NMXAP', '3453-RTHJQ', '9000-PLFUZ', '7235-NXZCP', '2085-BOJKI', '9588-OZDMQ', '5370-IIVVL', '5035-PGZXH', '2800-QQUSO', '1785-BPHTP', '2011-TRQYE', '3694-DELSO', '7599-NTMDP', '5245-VDBUR', '6292-TOSSS', '7601-GNDYK', '0530-IJVDB', '2812-ENYMO', '4523-WXCEF', '4487-ZYJZK', '1116-DXXDF', '4690-PKDQG', '6840-RESVB', '6340-DACFT', '2025-JKFWI', '3186-AJIEK', '6345-ULYRW', '2740-JFBOK', '1439-LCGVL', '1373-ORVIZ', '1391-UBDAR', '9076-AXYIK', '9611-CTWIH', '0529-ONKER', '8016-ZMGMO', '4873-ILOLJ', '9537-JALFH', '4238-JSSWH', '1493-AMTIE', '7100-FQPRV', '2072-ZVJJX', '6833-JMZYP', '4274-DRSQT', '5989-OMNJE', '6010-DDPPW', '5570-PTWEH', '5624-RYAMH', '2002-MZHWP', '0052-DCKON', '8869-LIHMK', '1213-NGCUN', '1676-MQAOA', '0512-FLFDW', '0895-DQHEW', '7147-AYBAA', '9248-OJYKK', '7298-IZWLY', '1335-HQMKX', '5780-INQIK', '6656-JWRQX', '6815-ABQFQ', '2773-MADBQ', '5993-JSUWV', '0254-KCJGT', '6784-XYJAE', '9710-ZUSHQ', '6586-PSJOX', '8590-OHDIW', '4298-OYIFC', '9572-MTILT', '2815-CPTUL', '8148-BPLZQ', '3088-FVYWK', '8173-RXAYP', '1474-JUWSM', '3865-ZYKAD', '7409-KIUTL', '0742-NXBGR', '2798-NYLMZ', '7632-MNYOY', '6352-GIGGQ', '8388-FYNPZ', '9565-JSNFM', '9099-FTUHS', '5136-GFPMB', '3640-PHQXK', '2819-GWENI', '9800-OUIGR', '2665-NPTGL', '8069-YQQAJ', '3512-IZIKN', '3162-KKZXO', '3452-ABWRL', '9691-HKOVS', '7041-TXQJH', '7851-WZEKY', '5906-DVAPM', '8950-MTZNV', '1017-FBQMM', '8725-JEDFD', '2829-HYVZP', '8853-TZDGH', '8043-PNYSD', '6127-IYJOZ', '4455-BFSPD', '5644-PDMZC', '2659-VXMWZ', '2160-GPFXD', '0650-BWOZN', '1684-FLBGS', '4937-QPZPO', '3565-UNOCC', '0098-BOWSO', '4827-DPADN', '3847-BAERP', '2073-QBVBI', '1725-MIMXW', '4931-TRZWN', '1043-UXOVO', '3374-LXDEV', '6646-JPPHA', '1269-FOYWN', '8565-WUXZU', '8519-QJGJD', '6994-ORCWG', '5616-PRTNT', '6339-DKLMK', '0348-SDKOL', '5673-FSSMF', '0117-LFRMW', '6257-RJOHI', '1565-RHDJD', '0603-TPMIB', '9514-JDSKI', '2027-CWDNU', '5442-UTCVD', '2074-GKOWZ', '5022-KVDQT', '3605-JISKB', '3082-VQXNH', '0848-SOMKO', '1841-YSJGV', '2876-VBBBL', '5655-JSMZM', '2232-DMLXU', '2937-FTHUR', '1104-FEJAM', '3058-HJCUY', '6369-MCAKO', '3439-GVUSX', '3197-ARFOY', '2476-YGEFM', '5447-WZAFP', '2055-SIFSS', '4526-EXKKN', '0263-FJTQO', '7159-FVYPK', '0799-DDIHE', '8019-ENHXU', '8777-MBMTS', '2424-WVHPL', '3295-YVUSR', '1093-YSWCA', '4948-WBBKL', '1735-XMJVH', '0795-LAFGP', '7054-DMVAS', '8336-TAVKX', '9518-RWHZL', '1696-HXOWK', '4257-GAESD', '3039-MJSLN', '3173-WSSUE', '8659-HDIYE', '2446-PLQVO', '7075-BNDVQ', '7943-RQCHR', '6127-ISGTU', '9906-NHHVC', '9418-RUKPH', '4716-MRVEN', '5149-TGWDZ', '4192-GORJT', '7579-OOPEC', '3668-QPYBK', '1227-UDMZR', '6424-ELEYH', '3511-APPBJ', '6284-KMNUF', '6478-HRRCZ', '9577-WJVCQ', '7029-IJEJK', '9821-BESNZ', '8062-YBDOE', '8761-NSOBC', '8226-BXGES', '9848-JQJTX', '9498-FIMXL', '5172-MIGPM', '1666-JZPZT', '8395-ETZKQ', '9451-LPGOO', '9281-OFDMF', '7550-WIQVA', '2195-ZRVAX', '2883-ILGWO', '7691-XVTZH', '7427-AUFPY', '4824-GUCBY', '4573-JKNAE', '2495-KZNFB', '3662-FXJFO', '0968-GSIKN', '2996-XAUVF', '4958-GZWIY', '7717-BICXI', '9369-XFEHK', '9560-ARGQJ', '7636-XUHWW', '3957-LXOLK', '6908-VVYHM', '7831-QGOXH', '2519-TWKFS', '8146-QQKZH', '4439-YRNVD', '7073-QETQY', '5788-YPOEG', '7813-TKCVO', '2923-ARZLG', '5813-UECBU', '7734-DBOAI', '1545-ACTAS', '6015-VVHHE', '5443-SCMKX', '7693-QPEFS', '4795-KTRTH', '6741-EGCBI', '7808-DVWEP', '7721-DVEKZ', '9174-IHETN', '2882-WDTBA', '1169-SAOCL', '5928-QLDHB', '5056-FIMPT', '2135-RXIHG', '7181-BQYBV', '3275-RHRNE', '9968-FFVVH', '8017-LXHFA', '6898-MDLZW', '9060-HJJRW', '5167-ZFFMM', '1212-GLHMD', '2649-HWLYB', '5127-BZENZ', '5692-ICXLW', '0531-XBKMM', '2826-UWHIS', '0042-JVWOJ', '4729-XKASR', '4462-CYWMH', '8469-SNFFH', '5980-BDHPY', '2091-GPPIQ', '2507-QZPQS', '0481-SUMCB', '7205-BAIAD', '4389-UEFCZ', '3156-QLHBO', '0876-WDUUZ', '9626-VFRGG', '2101-RANCD', '7065-YUNRY', '8868-GAGIO', '0716-BQNDX', '5201-USSQZ', '5701-YVSVF', '4013-UBXWQ', '3913-RDSJZ', '6557-BZXLQ', '0831-JNISG', '9504-DSHWM', '8329-UTMVM', '4324-BZCKL', '4822-RVYBB', '4676-WLUHT', '3154-HMWUU', '5386-THSLQ', '3807-XHCJH', '2434-EEVDB', '9940-HPQPG', '7248-VZQLC', '8044-BGWPI', '7486-KSRVI', '0254-FNMCI', '6114-TCFID', '1304-NECVQ', '8329-GWVPJ', '3798-EPWRR', '8082-GHXOP', '0524-IAVZO', '1471-GIQKQ', '5472-CVMDX', '5449-FIBXJ', '2483-XSSMZ', '3523-QRQLL', '0337-CNPZE', '2954-PIBKO', '6133-OZILE', '1976-AZZPJ', '5696-QURRL', '8734-DKSTZ', '8070-AAWZP', '4385-ZKVNW', '8125-QPFJD', '2114-MGINA', '2612-PHGOX', '7663-CUXZB', '0430-IHCDJ', '3170-NMYVV', '6048-QBXKL', '5774-QPLTF', '2856-HYAPG', '1075-BGWOH', '8677-HDZEE', '0744-GKNGE', '1414-YADCW', '0818-OCPZO', '9618-LFJRU', '1090-ESELR', '0319-QZTCO', '3620-MWJNE', '7957-RYHQD', '2400-FEQME', '6654-QGBZZ', '2485-ITVKB', '9397-TZSHA', '9948-YPTDG', '9992-UJOEL', '5088-QZLRL', '8785-EPNCG', '6595-COKXZ', '7850-VWJUU', '1240-HCBOH', '6202-JVYEU', '6537-QLGEX', '8350-NYMVI', '4003-OCTMP', '1106-HRLKZ', '2272-WUSPA', '0234-TEVTT', '5793-YOLJN', '9282-IZGQK', '7143-BQIBA', '8749-CLJXC', '2805-EDJPQ', '1818-ESQMW', '3363-DTIVD', '2070-XYMFH', '7161-DFHUF', '6082-OQFBA', '2589-AYCRP', '0121-SNYRK', '9824-QCJPK', '4232-JGKIY', '3227-WLKLI', '0260-ZDLGK', '6689-KXGBO', '8215-NGSPE', '4505-EXZHB', '7994-UYIVZ', '0378-TOVMS', '9747-DDZOS', '2001-EWBQU', '1197-BVMVG', '8150-QUDFX', '6685-XSHHU', '0513-RBGPE', '3059-NGMXB', '8930-XOTDP', '4208-UFFGW', '5155-AZQPB', '8749-JMNKX', '9509-MPYOD', '1422-DGUBX', '6402-SSEJG', '6559-PDZLR', '5176-OLSKT', '4700-UBQMV', '8184-WMOFI', '6961-VCPMC', '7480-QNVZJ', '2587-YNLES', '5829-NVSQN', '2660-EMUBI', '9068-VPWQQ', '7032-LMBHI', '2894-QOJRX', '1307-ATKGB', '4178-EGMON', '5103-MHMHY', '3739-YBWAB', '4163-HFTUK', '0939-EREMR', '4369-NYSCF', '6543-JXSOO', '8466-PZBLH', '5649-ANRML', '0565-JUPYD', '0058-EVZWM', '0836-SEYLU', '2724-FJDYW', '2050-ONYDQ', '9108-EJFJP', '9074-KGVOX', '0895-LMRSF', '5835-BEQEU', '3057-VJJQE', '6377-WHAOX', '0999-QXNSA', '0134-XWXCE', '2320-TZRRH', '2228-BZDEE', '7876-DNYAP', '4077-HWUYD', '9766-HGEDE', '8454-AATJP', '4853-RULSV', '3716-UVSPD', '9777-IQHWP', '2669-OIDSD', '7184-LRUUR', '5649-RXQTV', '4012-YCFAI', '2516-VQRRV', '2146-EGVDT', '4724-WXVWF', '5149-CUZUJ', '7989-CHGTL', '5902-WBLSE', '0557-ASKVU', '7072-MBHEV', '9483-GCPWE', '9294-TDIPC', '7356-AYNJP', '0880-TKATG', '0885-HMGPY', '9300-RENDD', '8387-MOJJT', '8263-QMNTJ', '4872-JCVCA', '4707-MAXGU', '7426-GSWPO', '4821-WQOYN', '3308-MHOOC', '5808-TOTXO', '6898-RBTLU', '7908-QCBCA', '7641-TQFHN', '0742-LAFQK', '5206-XZZQI', '1697-NVVGY', '3186-BAXNB', '3160-TYXLT', '5047-LHVLY', '8309-PPCED', '5383-MMTWC', '5227-JSCFE', '9778-OGKQZ', '1480-IVEVR', '0133-BMFZO', '4707-YNOQA', '8630-QSGXK', '2706-QZIHY', '7562-UXTPG', '0991-BRRFB', '1926-QUZNN', '4059-IIEBK', '6479-VDGRK', '5668-MEISB', '8129-GMVGI', '0699-NDKJM', '9761-XUJWD', '6653-CBBOM', '6941-KXRRV', '8859-YSTWS', '1094-BKOSX', '4423-YLHDV', '5939-SXWHM', '9068-FHQHD', '8562-GHPPI', '8587-XYZSF', '0679-TDGAK', '1803-BGNBD', '5937-EORGB', '3223-DWFIO', '4598-ZADCK', '2226-ICFDO', '5356-KZCKT', '0178-SZBHO', '7663-RGWBC', '2335-GSODA', '1614-JBEBI', '1221-GHZEP', '5131-PONJI', '4482-EWFMI', '7016-NVRIC', '7762-URZQH', '5376-DEQCP', '0657-DOGUM', '2761-XECQW', '8000-REIQB', '6728-WYQBC', '0723-FDLAY', '3317-VLGQT', '5027-YOCXN', '3547-LQRIK', '0362-RAOQO', '4854-CIDCF', '9904-EHEVJ', '1539-LNKHM', '8029-XYPWT', '6701-YVNQG', '3462-BJQQA', '5536-SLHPM', '2121-JAFOM', '5222-IMUKT', '3733-ZEECP', '5156-UMKOW', '9700-ISPUP', '4726-DLWQN', '2951-QOQTK', '4568-TTZRT', '6164-HXUGH', '6986-IXNDM', '6388-TABGU', '8205-VSLRB', '1345-ZUKID', '8896-BQTTI', '5514-YQENT', '8775-ERLNB', '1231-YNDEK', '3486-KHMLI', '6821-JPCDC', '6322-HRPFA', '5956-YHHRX', '7351-MHQVU', '3068-OMWZA', '8544-GOQSH', '5277-ZLOOR', '4146-SVFUD', '7614-QVWQL', '1122-YJBCS', '9812-GHVRI', '6543-XRMYR', '9332-GYWLO', '7508-MYBOG', '9643-YBLUR', '1853-UDXBW', '1320-REHCS', '7531-GQHME', '7566-DSRLQ', '2599-CZABP', '7838-LAZFO', '3764-MNMOI', '3088-LHEFH', '9089-UOWJG', '8779-YIQQA', '5371-VYLSX', '6121-VZNQB', '7658-UYUQS', '9097-ZUBYC', '0929-PECLO', '9970-QBCDA', '1230-QAJDW', '5360-XGYAZ', '7369-TRPFD', '9943-VSZUV', '4986-MXSFP', '7524-VRLPL', '1703-MGIAB', '7036-TYDEC', '7047-FWEYA', '0909-SDHNU', '8028-PNXHQ', '6778-YSNIH', '4139-DETXS', '1023-BQXZE', '9367-TCUYN', '6366-ZGQGL', '4000-VGMQP', '1049-FYSYG', '9067-SQTNS', '4123-DVHPH', '2302-ANTDP', '5133-VRSAB', '3556-BVQGL', '1254-IZEYF', '6376-GAHQE', '0701-TJSEF', '5787-KXGIY', '3751-KTZEL', '4785-FCIFB', '7872-BAAZR', '4614-NUVZD', '6275-YDUVO', '2851-MMUTZ', '7056-IMHCC', '7153-CHRBV', '1845-CSBRZ', '8225-BTJAU', '8735-NBLWT', '0396-HUJBP', '2039-JONDJ', '5405-ZMYXQ', '3705-RHRFR', '2181-UAESM', '7296-PIXQY', '9897-KXHCM', '5377-NDTOU', '7820-ZYGNY', '6778-EICRF', '2842-JTCCU', '1099-GODLO', '6928-ONTRW', '3133-PZNSR', '8314-HTWVE', '7337-CINUD', '0295-PPHDO', '2143-LJULT', '4926-UMJZD', '2103-ZRXFN', '2155-AMQRX', '5777-ZPQNC', '8023-QHAIO', '0274-JKUJR', '9620-QJREV', '9479-HYNYL', '6032-KRXXO', '0843-WTBXE', '2115-BFTIW', '5039-LZRQT', '7182-OVLBJ', '5680-LQOGP', '9506-UXUSK', '5701-ZIKJE', '3545-CNWRG', '8277-RVRSV', '3740-RLMVT', '4641-FROLU', '3061-BCKYI', '1564-HJUVY', '1679-JRFBR', '6586-MYGKD', '0128-MKWSG', '8496-DMZUK', '2575-GFSOE', '2722-VOJQL', '4749-OJKQU', '7627-JKIAZ', '2454-RPBRZ', '7801-CEDNV', '6078-VESFR', '8097-VBQTZ', '6429-SHBCB', '0080-EMYVY', '5539-TMZLF', '2038-YSEZE', '7242-EDTYC', '1502-XFCVR', '7643-RCHXS', '3594-KADLU', '7382-DFJTU', '4548-SDBKE', '4471-KXAUH', '0311-UNPFF', '4159-NAAIX', '1334-FJSVR', '5066-GFJMM', '5384-ZTTWP', '3985-HOYPM', '3393-FMZPV', '3319-DWOEP', '1442-OKRJE', '9140-CZQZZ', '8305-VHZBZ', '9659-ZTWSM', '5724-BIDBU', '0048-LUMLS', '0815-MFZGM', '3043-TYBNO', '4412-YLTKF', '2957-JIRMN', '2604-IJPDU', '3934-HXCFZ', '0187-WZNAB', '1086-LXKFY', '4990-ALDGW', '2900-PHPLN', '1084-UQCHV', '4826-DXMUP', '3546-GHEAE', '5996-DAOQL', '6609-MXJHJ', '8132-YPVBX', '0464-WJTKO', '3541-ZNUHK', '9190-MFJLN', '4452-ROHMO', '3259-FDWOY', '1729-VLAZJ', '1937-OTUKY', '9432-VOFYX', '3945-GFWQL', '4913-EHYUI', '6075-SLNIL', '6005-OBZPH', '4547-LYTDD', '9958-MEKUC', '8984-HPEMB', '0463-ZSDNT', '9330-VOFSZ', '3758-CKOQL', '8467-WYNSR', '0363-QJVFX', '8819-IMISP', '6242-SGYTS', '1891-FZYSA', '8183-ONMXC', '9371-BITHB', '1352-HNSAW', '2233-FAGXV', '9885-AIBVB', '6670-MFRPK', '8444-WRIDW', '1985-MBRYP', '7103-IPXPJ', '5468-BPMMO', '2811-POVEX', '5285-MVEHD', '3258-SANFR', '7945-HLKEA', '1064-FBXNK', '9903-LYSAB', '0536-BGFMZ', '3205-MXZRA', '1561-BWHIN', '9318-NKNFC', '6899-PPEEA', '4121-AGSIN', '7109-MFBYV', '5567-WSELE', '5176-LDKUH', '6999-CHVCF', '0515-YPMCW', '7291-CDTMJ', '4818-QIUFN', '8198-RKSZG', '1101-SSWAG', '4905-JEFDW', '3838-OZURD', '4587-VVTOX', '3217-FZDMN', '4250-ZBWLV', '2672-OJQZP', '7609-YBPXG', '3219-JQRSL', '4851-BQDNX', '2636-OHFMN', '9667-EQRXU', '0867-LDTTC', '6981-TDRFT', '4828-FAZPK', '5268-DSMNQ', '7473-ZBDSN', '1569-TTNYJ', '7714-YXSMB', '3339-EAQNV', '3859-CVCET', '5129-JLPIS', '4868-AADLV', '2577-GVSIL', '7654-YWJUF', '5857-TYBCJ', '6549-BTYPG', '5642-MHDQT', '1699-HPSBG', '2344-JMOGN', '7758-UJWYS', '0562-FGDCR', '4983-CLMLV', '0206-TBWLC', '8276-MQBYC', '4112-LUEIZ', '3074-GQWYX', '1360-XFJMR', '8563-IIOXK', '3577-AMVUX', '7786-WBJYI', '4801-KFYKL', '7967-HYCDE', '8816-VXNZD', '3571-RFHAR', '1032-MAELW', '2682-KEVRP', '5949-EBSQK', '2732-ISEZX', '2606-RMDHZ', '4501-EQDRN', '5816-QVHRX', '0749-IRGQE', '0886-QGENL', '0310-VQXAM', '5999-LCXAO', '3317-HRTNN', '6728-CZFEI', '9257-AZMTZ', '2957-LOLHO', '5204-QZXPU', '8996-ZROXE', '4632-XJMEX', '0661-XEYAN', '5143-EGQFK', '7270-BDIOA', '9025-ZRPVR', '5387-ASZNZ', '0064-SUDOG', '4032-RMHCI', '2533-QVMSK', '1498-DQNRX', '6923-AQONU', '3199-XGZCY', '9947-OTFQU', '8980-WQFWL', '4648-YPBTM', '0866-QLSIR', '9135-MGVPY', '6736-DHUQI', '5549-ZGHFB', '9274-UARKJ', '0685-MLYYM', '8212-CRQXP', '2931-XIQBR', '3736-BLEPA', '1478-VPOAD', '8166-ORCHU', '5651-WYIPH', '8869-TORSS', '3324-OIRTO', '7318-EIVKO', '3334-CTHOL', '9547-ITEFG', '6172-FECYY', '8610-WFCJF', '7445-WMRBW', '6754-WKSHP', '9631-RXVJM', '3070-DVEYC', '1336-EZFZY', '0691-NIKRI', '9817-APLHW', '3066-RRJIO', '2828-SLQPF', '4710-NKCAW', '6900-RBKER', '0887-WBJVH', '6496-JDSSB', '2482-CZGBB', '5868-YTYKS', '9443-JUBUO', '9746-YKGXB', '6620-HVDUJ', '1813-JLKWR', '0654-PQKDW', '0298-XACET', '6595-YGXIT', '9522-BNTHX', '6522-YRBXD', '2696-NARTR', '6317-YPKDH', '8645-KWHJO', '7665-TOALD', '7572-KPVKK', '1596-OQSPS', '4906-ZHGPK', '4983-CCWMC', '9225-BZLNZ', '4176-RELJR', '4176-FXYBO', '3669-LVWZB', '2311-QYMUQ', '5154-VEKBL', '1763-KUAAW', '3411-WLRSQ', '6017-PPLPX', '4994-OBRSZ', '7502-BNYGS', '7037-MTYVW', '2122-SZZZD', '0899-LIIBW', '1930-WNXSB', '4248-QPAVC', '7710-JSYOA', '0787-LHDYT', '3249-ZPQRG', '3629-WEAAM', '1760-CAZHT', '3683-QKIUE', '9824-BEMCV', '2911-IJORQ', '6072-NUQCB', '5918-VUKWP', '5839-SUYVZ', '6035-RIIOM', '4529-CKBCL', '9919-FZDED', '9117-SHLZX', '5708-EVONK', '8205-OTCHB', '2878-RMWXY', '8849-PRIQJ', '2478-EEWWM', '8857-CUPFQ', '6402-ZFPPI', '4403-BWPAY', '1545-JFUML', '2453-SAFNS', '1707-HABPF', '4184-TJFAN', '0074-HDKDG', '8237-ULIXL', '8847-GEOOQ', '5760-FXFVO', '4753-PADAS', '7319-VENRZ', '0733-VUNUW', '0620-XEFWH', '1442-BQPVU', '8947-YRTDV', '6377-KSLXC', '7005-CCBKV', '9046-JBFWA', '4770-QAZXN', '1740-CSDJP', '8149-RSOUN', '4763-PGDPO', '8065-YKXKD', '4128-ETESU', '2348-KCJLT', '0960-HUWBM', '3588-WSTTJ', '7601-DHFWZ', '2722-JMONI', '4549-ZDQYY', '2277-DJJDL', '3926-YZVVX', '1984-GPTEH', '4999-IEZLT', '5148-HKFIR', '2867-UIMSS', '3889-VWBID', '8092-NLTGF', '1784-EZDKJ', '9646-NMHXE', '0114-IGABW', '1552-TKMXS', '9220-ZNKJI', '9659-QEQSY', '0404-AHASP', '8406-LNMHF', '4979-HPRFL', '7841-TZDMQ', '8851-RAGOV', '3011-WQKSZ', '7764-BDPEE', '6366-XIVKZ', '1355-KUSBG', '0480-BIXDE', '5968-XQIVE', '4962-CHQPW', '0254-WWRKD', '1384-RCUXW', '1596-BBVTG', '4452-QIIEB', '9644-UMGQA', '9350-ZXYJC', '3229-USWAR', '6791-YBNAK', '1958-RNRKS', '6728-VOIFY', '4489-SNOJF', '6435-SRWBJ', '4566-GOLUK', '1363-TXLSL', '1397-XKKWR', '4797-AXPXK', '6648-INWPS', '8168-UQWWF', '3721-WKIIL', '1927-QEWMY', '0869-PAPRP', '7493-TPUWZ', '4237-RLAQD', '9640-ZSLDC', '8807-ARQET', '5399-ZIMKF', '5393-RXQSZ', '6906-ANDWJ', '8782-NUUOL', '5843-TTHGI', '6635-MYYYZ', '5380-XPJNZ', '4351-QLCSU', '4194-WHFCB', '3192-NQECA', '0020-INWCK', '3001-UNBTL', '0237-YFUTL', '7995-ZHHNZ', '7293-LSCDV', '6484-LATFU', '0440-UEDAI', '2075-PUEPR', '7123-WQUHX', '9777-WJJPR', '2380-DAMQP', '1855-AGAWH', '0784-ZQJZX', '4129-LYCOI', '9360-OMDZZ', '9500-WBGRP', '0637-YLETY', '4589-IUAJB', '4079-VTGLK', '0484-JPBRU', '3387-PLKUI', '3422-WJOYD', '2205-YMZZJ', '8535-SFUTN', '1734-ZMNTZ', '4513-CXYIX', '5310-NOOVA', '1837-YQUCE', '4892-VLANZ', '3458-IDMFK', '5366-IJEQJ', '7399-QHBJS', '2880-FPNAE', '9530-GRMJG', '6339-RZCBJ', '3692-JHONH', '7874-ECPQJ', '3511-BFTJW', '0923-PNFUB', '7254-IQWOZ', '0106-UGRDO', '2523-EWWZL', '3727-OVPRY', '7401-RUBNK', '8931-GJJIQ', '7102-JJVTX', '8337-MSSXB', '6953-PBDIN', '1710-RCXUS', '8919-FYFQZ', '6982-UQZLY', '5622-UEJFI', '3640-JQGJG', '4860-YZGZM', '1241-EZFMJ', '9851-KIELU', '8035-BUYVG', '3538-WZPHD', '0853-NWIFK', '8735-SDUFN', '9168-INPSZ', '5199-FPUSP', '5275-SQEIZ', '1353-LJWEM', '9837-BMCLM', '1293-BSEUN', '1642-HMARX', '5287-QWLKY', '6261-RCVNS', '6794-HKIAJ', '0872-JCPIB', '4919-MOAVT', '1597-LHYNC', '9357-UJRUN', '9677-AVKED', '2908-WGAXL', '6100-QQHEB', '5084-OOVCJ', '0023-XUOPT', '1482-OXZSY', '3803-KMQFW', '6813-GZQCG', '8515-OCTJS', '8443-ZRDBZ', '3055-OYMSE', '8456-QDAVC', '1036-GUDCL', '9931-KGHOA', '2159-TURXX', '2645-QTLMB', '5641-DMBFJ', '5334-AFQJB', '3678-MNGZX', '1702-CCFNJ', '3604-WLABM', '5537-UXXVS', '6024-RUGGH', '7695-PKLCZ', '3688-FTHLT', '9505-SQFSW', '4829-AUOAX', '9742-XOKTS', '8780-IXSTS', '3154-CFSZG', '5197-YPYBZ', '4043-MKDTV', '5688-KZTSN', '9572-WUKSB', '1074-WVEVG', '0708-LGSMF', '4335-BSMJS', '1832-PEUTS', '2770-NSVDG', '6777-TGHTM', '1754-GKYPY', '4307-KWMXE', '2542-HYGIQ', '7853-WNZSY', '9675-ICXCT', '3407-JMJQQ', '5133-POWUA', '4391-LNRXK', '2962-XPMCQ', '4815-TUMEQ', '4521-YEEHE', '2650-GYRYL', '9621-OUPYD', '4774-HHGGS', '4391-RESHN', '3419-SNJJD', '2472-OVKUP', '6198-PNNSZ', '3633-CDBUW', '2040-LDIWQ', '2307-FYNNL', '1925-LFCZZ', '5188-HGMLP', '4195-SMMNX', '7508-KBIMB', '6762-QVYJO', '1534-OULXE', '6418-HNFED', '1732-VHUBQ', '9720-JJJOR', '1849-RJYIG', '7776-QGYJC', '6941-PMGEP', '4749-VFKVB', '9825-YCXWZ', '7878-RTCZG', '4804-NCPET', '5229-DTFYB', '6313-GIDIT', '4295-YURET', '3521-MNKLV', '5566-SOEZD', '2761-OCIAX', '2569-WGERO', '2519-FAKOD', '7636-OWBPG', '2169-RRLFW', '9129-UXERG', '8224-UAXBZ', '1915-IOFGU', '6147-CBCRA', '6993-YCOBK', '8086-OVPWV', '1965-AKTSX', '5117-ZSMHQ', '2012-NWRPA', '5568-DMXZS', '1640-PLFMP', '5947-SGKCL', '9355-NPPFS', '6110-OHIHY', '0567-XRHCU', '9840-EFJQB', '6195-MELTI', '9803-FTJCG'}\n",
      "\n",
      "************************ gender ************************\n",
      "\n",
      "{'Female', 'Male'}\n",
      "\n",
      "************************ SeniorCitizen ************************\n",
      "\n",
      "{0, 1}\n",
      "\n",
      "************************ Partner ************************\n",
      "\n",
      "{'Yes', 'No'}\n",
      "\n",
      "************************ Dependents ************************\n",
      "\n",
      "{'Yes', 'No'}\n",
      "\n",
      "************************ tenure ************************\n",
      "\n",
      "{0, 1, 2, 3, 4, 5, 6, 7, 8, 9, 10, 11, 12, 13, 14, 15, 16, 17, 18, 19, 20, 21, 22, 23, 24, 25, 26, 27, 28, 29, 30, 31, 32, 33, 34, 35, 36, 37, 38, 39, 40, 41, 42, 43, 44, 45, 46, 47, 48, 49, 50, 51, 52, 53, 54, 55, 56, 57, 58, 59, 60, 61, 62, 63, 64, 65, 66, 67, 68, 69, 70, 71, 72}\n",
      "\n",
      "************************ PhoneService ************************\n",
      "\n",
      "{'Yes', 'No'}\n",
      "\n",
      "************************ MultipleLines ************************\n",
      "\n",
      "{'Yes', 'No phone service', 'No'}\n",
      "\n",
      "************************ InternetService ************************\n",
      "\n",
      "{'Fiber optic', 'No', 'DSL'}\n",
      "\n",
      "************************ OnlineSecurity ************************\n",
      "\n",
      "{'Yes', 'No internet service', 'No'}\n",
      "\n",
      "************************ OnlineBackup ************************\n",
      "\n",
      "{'Yes', 'No internet service', 'No'}\n",
      "\n",
      "************************ DeviceProtection ************************\n",
      "\n",
      "{'Yes', 'No internet service', 'No'}\n",
      "\n",
      "************************ TechSupport ************************\n",
      "\n",
      "{'Yes', 'No internet service', 'No'}\n",
      "\n",
      "************************ StreamingTV ************************\n",
      "\n",
      "{'Yes', 'No internet service', 'No'}\n",
      "\n",
      "************************ StreamingMovies ************************\n",
      "\n",
      "{'Yes', 'No internet service', 'No'}\n",
      "\n",
      "************************ Contract ************************\n",
      "\n",
      "{'One year', 'Two year', 'Month-to-month'}\n",
      "\n",
      "************************ PaperlessBilling ************************\n",
      "\n",
      "{'Yes', 'No'}\n",
      "\n",
      "************************ PaymentMethod ************************\n",
      "\n",
      "{'Electronic check', 'Mailed check', 'Bank transfer (automatic)', 'Credit card (automatic)'}\n",
      "\n",
      "************************ MonthlyCharges ************************\n",
      "\n",
      "{18.95, 19.8, 20.65, 20.15, 20.2, 20.75, 24.95, 20.4, 24.25, 25.9, 19.95, 29.75, 29.85, 30.2, 24.3, 33.75, 30.15, 31.05, 35.45, 29.95, 30.4, 39.65, 35.9, 40.2, 42.3, 42.1, 44.35, 45.25, 45.55, 45.65, 45.3, 49.95, 49.55, 49.25, 49.05, 53.85, 54.4, 55.2, 56.95, 56.15, 55.3, 59.9, 59.6, 55.65, 54.65, 62.15, 64.7, 64.15, 66.15, 64.5, 66.85, 69.7, 70.7, 69.2, 69.5, 70.45, 74.8, 74.85, 76.2, 75.3, 78.9, 79.85, 80.65, 79.75, 79.2, 74.75, 84.5, 79.35, 82.05, 84.0, 85.2, 89.1, 90.05, 90.25, 89.9, 91.65, 94.4, 95.5, 96.35, 97.85, 95.45, 99.65, 100.35, 99.35, 102.45, 102.7, 103.8, 103.4, 104.15, 104.4, 104.6, 105.35, 108.0, 109.2, 103.7, 104.8, 105.5, 106.7, 108.45, 111.6, 110.5, 113.25, 111.05, 112.25, 24.75, 115.1, 115.05, 116.05, 25.25, 24.5, 25.75, 25.0, 25.5, 26.25, 26.0, 26.5, 28.5, 29.5, 29.25, 30.75, 30.5, 30.25, 31.0, 33.5, 34.25, 34.5, 34.0, 35.75, 35.5, 35.0, 35.25, 36.0, 36.25, 36.5, 38.5, 38.25, 39.0, 39.5, 40.25, 40.0, 40.75, 43.75, 43.25, 44.0, 44.75, 44.25, 44.5, 45.0, 45.75, 45.5, 46.0, 46.25, 48.75, 48.25, 49.5, 49.0, 49.75, 50.25, 50.0, 50.5, 50.75, 51.25, 51.0, 51.75, 51.5, 52.5, 52.0, 53.75, 53.5, 53.0, 54.75, 54.25, 54.0, 54.5, 55.0, 55.5, 55.25, 55.75, 56.0, 56.75, 56.25, 56.5, 57.75, 57.5, 58.75, 58.25, 58.5, 58.0, 59.75, 59.0, 59.5, 59.25, 60.0, 60.25, 60.5, 60.75, 61.5, 61.25, 61.75, 61.0, 62.25, 62.5, 63.25, 63.75, 64.25, 64.75, 64.0, 65.0, 65.5, 65.75, 65.25, 66.5, 66.25, 66.0, 66.75, 67.25, 67.5, 67.75, 68.75, 68.5, 68.25, 69.75, 69.0, 69.25, 70.0, 70.5, 70.75, 70.25, 71.5, 71.0, 71.25, 71.75, 72.75, 72.25, 72.0, 73.25, 73.5, 73.0, 73.75, 74.5, 74.25, 74.0, 75.0, 75.25, 75.5, 75.75, 76.5, 76.0, 76.75, 76.25, 77.75, 77.0, 77.5, 78.75, 78.0, 78.5, 78.25, 79.25, 79.5, 79.0, 80.0, 80.25, 80.5, 80.75, 81.0, 81.25, 81.5, 81.75, 82.5, 82.75, 82.0, 83.25, 83.75, 83.5, 83.0, 84.25, 84.75, 85.75, 85.5, 85.0, 85.25, 86.75, 86.0, 86.5, 86.25, 87.0, 87.25, 87.75, 88.0, 88.5, 88.75, 88.25, 89.25, 89.0, 89.75, 89.5, 90.0, 90.5, 90.75, 18.25, 18.75, 91.0, 91.5, 91.25, 91.75, 92.0, 92.5, 93.0, 93.5, 93.25, 93.75, 94.5, 94.25, 94.75, 94.0, 95.25, 95.0, 95.75, 19.5, 19.75, 19.25, 96.75, 96.5, 19.0, 96.0, 96.25, 97.0, 97.75, 97.25, 98.75, 98.25, 98.5, 98.0, 99.25, 99.0, 99.75, 99.5, 100.0, 100.75, 100.25, 20.25, 20.5, 101.75, 100.5, 20.0, 101.0, 101.5, 102.5, 102.0, 101.25, 102.25, 103.75, 103.25, 103.0, 103.5, 104.0, 104.5, 104.75, 104.25, 105.0, 105.25, 21.0, 21.25, 105.75, 106.0, 106.75, 106.5, 106.25, 107.5, 107.25, 107.0, 107.75, 108.5, 108.25, 108.75, 109.25, 109.5, 109.75, 109.0, 110.0, 110.75, 110.25, 111.25, 111.5, 111.75, 112.75, 113.0, 113.75, 114.5, 114.0, 114.75, 115.75, 115.0, 23.75, 115.5, 115.25, 116.25, 116.75, 116.0, 116.5, 23.5, 117.5, 118.75, 24.0, 18.4, 18.9, 19.4, 19.9, 19.65, 19.15, 20.9, 21.15, 23.65, 23.4, 23.9, 23.15, 24.9, 24.4, 24.15, 24.65, 25.15, 25.4, 25.65, 26.4, 26.9, 29.65, 29.9, 29.15, 29.4, 30.9, 31.65, 33.15, 33.65, 33.9, 34.65, 34.4, 35.4, 35.65, 35.15, 36.65, 36.15, 38.9, 39.9, 39.4, 39.15, 40.4, 40.65, 40.15, 40.9, 41.15, 41.9, 42.9, 42.4, 43.65, 43.9, 44.4, 44.65, 44.9, 44.15, 45.4, 45.15, 45.9, 46.4, 47.15, 47.4, 48.15, 48.9, 48.65, 48.4, 49.15, 49.9, 49.4, 49.65, 50.65, 50.15, 50.9, 50.4, 51.65, 51.4, 51.15, 52.15, 53.65, 53.9, 53.4, 53.15, 54.9, 54.15, 55.15, 55.9, 55.4, 56.4, 56.9, 56.65, 57.15, 57.65, 58.65, 58.9, 58.4, 59.4, 59.65, 59.15, 60.9, 60.15, 60.65, 60.4, 61.65, 61.9, 61.4, 61.15, 62.65, 63.15, 63.4, 63.9, 18.55, 64.9, 64.4, 64.65, 65.15, 65.65, 19.05, 65.4, 65.9, 66.4, 66.9, 66.65, 67.65, 67.4, 68.65, 68.4, 68.9, 68.15, 69.65, 69.9, 69.15, 69.4, 70.9, 70.15, 70.4, 70.65, 71.15, 71.9, 71.4, 71.65, 72.65, 72.9, 72.15, 73.9, 73.15, 73.65, 74.9, 74.4, 74.65, 74.15, 75.9, 75.15, 75.65, 75.4, 21.3, 76.9, 76.65, 76.4, 76.15, 77.4, 77.15, 77.9, 77.65, 78.4, 78.65, 78.15, 79.9, 79.15, 79.4, 79.65, 80.9, 80.4, 80.15, 81.15, 81.4, 81.65, 81.9, 82.4, 82.9, 82.65, 82.15, 83.4, 83.15, 83.9, 83.65, 84.15, 84.9, 84.4, 84.65, 85.4, 85.65, 85.15, 85.9, 23.05, 86.65, 86.15, 86.4, 86.9, 87.65, 87.9, 87.4, 87.15, 88.15, 88.9, 88.65, 88.4, 89.15, 89.65, 89.4, 75.05, 90.4, 90.15, 90.65, 90.9, 91.4, 91.15, 92.9, 92.65, 92.15, 92.4, 93.15, 93.4, 93.9, 93.65, 94.9, 94.65, 94.15, 76.55, 95.15, 95.4, 95.65, 95.9, 96.65, 96.15, 96.9, 96.4, 97.65, 97.9, 98.65, 98.9, 98.15, 98.4, 99.9, 99.4, 99.15, 77.8, 77.55, 100.9, 100.15, 100.65, 100.4, 101.9, 101.15, 101.4, 102.15, 102.65, 102.9, 102.4, 103.9, 103.15, 103.65, 104.65, 104.9, 105.65, 105.15, 105.9, 105.4, 106.9, 106.4, 106.65, 106.15, 107.15, 107.65, 107.9, 107.4, 108.15, 108.65, 108.4, 108.9, 109.9, 109.4, 109.15, 109.65, 110.65, 110.15, 110.9, 111.9, 111.65, 111.15, 111.4, 112.4, 112.9, 113.65, 113.4, 113.15, 114.65, 114.9, 115.65, 115.15, 29.3, 116.15, 116.4, 117.15, 118.65, 33.55, 34.55, 34.8, 34.05, 34.3, 35.8, 35.55, 35.05, 35.3, 36.05, 38.55, 38.8, 39.3, 39.55, 39.05, 40.05, 40.3, 40.55, 41.05, 43.8, 43.55, 43.3, 43.05, 44.8, 44.3, 44.05, 44.55, 45.05, 45.8, 46.3, 46.05, 47.8, 47.05, 48.55, 48.8, 49.3, 49.8, 50.55, 50.05, 50.3, 50.8, 51.8, 51.05, 51.55, 51.3, 52.55, 52.3, 53.8, 53.3, 53.55, 54.8, 54.3, 54.55, 54.05, 55.05, 55.8, 55.55, 56.8, 56.05, 56.3, 56.55, 57.8, 57.55, 58.55, 59.8, 59.3, 59.55, 59.05, 60.3, 60.05, 60.8, 60.55, 61.05, 61.8, 61.55, 61.3, 62.8, 62.05, 62.55, 62.3, 63.3, 63.55, 63.8, 63.05, 64.8, 64.05, 64.3, 64.55, 65.55, 65.8, 65.05, 65.3, 66.8, 66.05, 66.3, 67.8, 67.05, 68.55, 68.8, 68.05, 68.3, 18.8, 69.3, 69.55, 69.05, 69.8, 19.3, 70.8, 70.05, 19.55, 70.3, 20.3, 71.55, 20.55, 20.05, 20.8, 70.55, 72.8, 21.05, 71.05, 71.3, 71.8, 73.8, 73.55, 73.05, 73.3, 23.8, 74.3, 74.05, 23.3, 23.55, 24.55, 24.05, 74.55, 24.8, 75.55, 25.3, 75.8, 25.05, 76.05, 25.55, 26.8, 26.05, 26.3, 76.8, 25.8, 76.3, 78.05, 78.3, 78.55, 78.8, 77.3, 79.3, 79.05, 79.55, 79.8, 29.05, 80.55, 29.8, 80.05, 80.3, 30.3, 81.8, 81.3, 80.8, 81.05, 81.55, 82.3, 30.55, 30.05, 82.55, 83.3, 83.55, 83.8, 83.05, 84.55, 84.8, 84.3, 84.05, 85.8, 85.3, 85.05, 85.55, 86.8, 86.05, 86.3, 86.55, 87.05, 87.55, 87.8, 87.3, 88.55, 88.05, 88.8, 88.3, 89.05, 89.55, 89.8, 89.3, 90.3, 90.55, 90.8, 91.3, 91.55, 91.05, 91.8, 92.05, 92.55, 92.3, 93.05, 93.8, 93.55, 93.3, 94.05, 94.8, 94.3, 94.55, 95.05, 95.8, 95.3, 95.55, 96.05, 96.8, 96.55, 96.3, 97.55, 97.8, 97.05, 98.3, 98.8, 98.05, 98.55, 99.3, 99.8, 99.05, 99.55, 100.8, 100.55, 100.05, 100.3, 101.05, 101.55, 101.3, 101.8, 102.05, 102.55, 102.8, 103.05, 103.3, 104.3, 104.55, 104.05, 105.3, 105.55, 105.05, 105.8, 106.05, 106.8, 106.55, 106.3, 107.05, 107.55, 108.55, 108.05, 108.3, 108.8, 109.55, 109.8, 109.05, 109.3, 110.05, 110.3, 110.8, 110.55, 111.55, 111.8, 111.3, 112.55, 113.3, 113.05, 113.8, 114.05, 114.55, 114.3, 115.8, 115.55, 116.8, 116.3, 116.55, 117.8, 18.7, 19.2, 19.45, 19.7, 20.7, 20.45, 20.95, 21.2, 21.45, 22.95, 23.95, 23.45, 24.7, 24.45, 24.2, 25.7, 25.2, 25.45, 25.95, 26.2, 26.45, 28.45, 29.45, 29.2, 29.7, 30.45, 31.2, 33.45, 33.7, 34.7, 34.2, 34.95, 35.7, 35.2, 36.45, 37.7, 39.7, 39.2, 39.95, 39.45, 40.7, 40.45, 41.95, 43.95, 43.7, 43.45, 44.95, 44.45, 44.7, 44.2, 45.7, 45.95, 45.2, 45.45, 46.2, 47.95, 48.95, 48.7, 48.2, 48.45, 49.2, 49.45, 49.7, 50.2, 50.45, 50.95, 50.7, 51.2, 51.7, 51.45, 52.2, 52.7, 53.95, 53.45, 53.7, 54.7, 54.2, 54.45, 54.95, 55.45, 55.95, 55.7, 56.45, 56.7, 56.2, 57.95, 57.45, 57.2, 58.45, 58.95, 58.7, 58.2, 59.95, 59.45, 59.2, 59.7, 60.45, 60.2, 60.7, 60.95, 61.2, 61.95, 61.45, 62.7, 62.45, 63.95, 63.7, 64.95, 64.2, 64.45, 65.2, 65.7, 65.45, 66.7, 66.2, 67.45, 67.95, 67.2, 67.7, 68.95, 68.7, 68.45, 69.45, 69.95, 70.2, 70.95, 71.7, 71.45, 71.95, 72.95, 72.45, 72.2, 73.2, 73.45, 73.95, 73.7, 74.2, 74.7, 74.45, 74.95, 75.95, 75.45, 75.7, 75.2, 76.45, 76.95, 77.95, 77.2, 78.45, 78.95, 78.2, 78.7, 79.95, 79.45, 79.7, 80.95, 80.7, 80.45, 80.2, 81.95, 81.45, 81.7, 81.2, 82.95, 82.45, 82.7, 83.7, 83.2, 83.45, 83.95, 84.2, 84.95, 84.7, 84.45, 85.95, 85.45, 85.7, 86.2, 86.45, 86.95, 86.7, 87.95, 87.2, 87.45, 87.7, 88.95, 88.2, 88.45, 88.7, 89.7, 89.2, 89.45, 89.95, 90.95, 90.45, 90.7, 90.2, 91.7, 91.2, 91.45, 91.95, 92.2, 92.95, 92.45, 92.7, 93.95, 93.45, 93.2, 93.7, 94.45, 94.2, 94.7, 94.95, 95.2, 95.95, 95.7, 96.7, 96.2, 96.95, 97.45, 97.95, 97.2, 97.7, 98.7, 98.2, 98.45, 99.45, 99.7, 99.95, 99.2, 100.45, 100.7, 100.95, 100.2, 101.45, 101.95, 101.7, 102.95, 103.2, 103.45, 103.95, 104.95, 104.7, 104.45, 104.2, 105.45, 105.2, 105.95, 105.7, 106.45, 106.95, 106.2, 107.95, 107.45, 107.2, 107.7, 108.95, 108.2, 109.7, 109.95, 109.45, 110.45, 110.2, 110.7, 111.95, 111.2, 111.45, 112.95, 112.2, 113.2, 113.45, 113.95, 114.95, 114.7, 114.45, 114.2, 116.45, 116.95, 116.2, 117.2, 117.45, 118.2, 64.35, 64.85, 64.6, 64.1, 65.35, 65.85, 65.1, 65.6, 66.35, 66.1, 66.6, 67.85, 67.6, 68.85, 68.6, 68.35, 68.1, 69.35, 69.85, 69.1, 69.6, 70.35, 70.6, 70.85, 70.1, 71.1, 71.35, 71.6, 71.85, 72.1, 72.85, 72.35, 72.6, 73.6, 73.85, 73.35, 73.1, 74.35, 74.6, 74.1, 75.35, 75.6, 75.1, 75.85, 76.1, 76.85, 76.35, 76.6, 77.35, 77.85, 78.85, 78.1, 78.6, 78.35, 79.1, 79.6, 80.6, 80.35, 80.1, 80.85, 81.85, 81.35, 81.1, 81.6, 82.85, 82.1, 82.35, 83.35, 83.85, 83.6, 84.6, 84.85, 84.35, 84.1, 85.1, 85.35, 85.6, 85.85, 86.1, 86.6, 86.85, 86.35, 87.35, 87.1, 87.6, 88.1, 88.6, 88.85, 88.35, 89.85, 89.35, 89.6, 90.85, 90.35, 90.1, 90.6, 91.35, 91.1, 91.85, 91.6, 92.1, 92.35, 92.85, 92.6, 93.35, 93.85, 93.6, 94.35, 94.85, 94.1, 94.6, 95.6, 95.1, 95.35, 95.85, 96.1, 96.85, 96.6, 97.1, 97.35, 98.85, 98.6, 98.35, 98.1, 99.1, 99.85, 99.6, 100.6, 100.85, 100.1, 101.35, 101.1, 101.6, 101.85, 102.1, 102.85, 102.6, 102.35, 103.1, 103.85, 103.35, 103.6, 104.1, 104.85, 104.35, 105.1, 105.6, 105.85, 106.35, 106.6, 106.1, 106.85, 107.35, 107.6, 108.1, 108.85, 108.6, 108.35, 109.85, 109.6, 109.1, 110.85, 110.35, 110.1, 110.6, 111.35, 111.1, 112.6, 112.1, 112.35, 113.1, 113.6, 113.35, 114.35, 114.85, 114.1, 114.6, 115.6, 115.85, 116.1, 116.85, 116.6, 117.6, 117.35, 118.6, 118.35, 18.85, 19.6, 19.35, 19.85, 19.1, 20.85, 20.6, 20.1, 20.35, 21.1, 23.6, 23.85, 24.1, 24.85, 24.6, 24.35, 25.35, 25.6, 25.1, 25.85, 26.1, 26.35, 28.6, 29.6, 29.35, 29.1, 30.1, 30.85, 30.35, 30.6, 31.35, 31.1, 33.6, 34.6, 34.85, 35.6, 35.1, 35.35, 36.1, 36.85, 38.6, 38.1, 38.85, 39.6, 39.1, 39.85, 39.35, 40.6, 40.35, 40.1, 41.35, 41.1, 41.6, 42.6, 42.35, 43.85, 43.35, 43.6, 44.6, 44.85, 44.1, 45.6, 45.35, 45.85, 45.1, 46.35, 46.1, 46.6, 47.85, 47.6, 48.6, 48.85, 48.35, 49.85, 49.35, 49.1, 49.6, 50.6, 50.35, 50.1, 50.85, 51.6, 51.35, 51.1, 52.1, 52.85, 53.6, 53.1, 53.35, 54.1, 54.6, 54.85, 54.35, 55.1, 55.35, 55.85, 55.6, 56.6, 56.35, 56.1, 56.85, 57.6, 58.6, 58.35, 58.85, 59.85, 59.1, 60.85, 60.35, 60.6, 60.1, 61.6, 61.35, 61.1, 62.1, 62.85, 63.85, 63.35, 63.6, 63.1}\n",
      "\n",
      "************************ TotalCharges ************************\n",
      "\n",
      "{'141.6', '1958.45', '541.15', '81.05', '2313.8', '184.15', '554.05', '59.25', '3686.05', '4222.95', '1616.15', '169.45', '4830.25', '95.1', '4385.05', '3972.25', '1836.9', '5662.25', '2745.2', '1218.65', '717.5', '1498.2', '6707.15', '91.4', '900.9', '743.75', '291.45', '6118.95', '480.6', '146.9', '318.6', '255.25', '5810.9', '104.2', '417', '7634.8', '1573.7', '1064.65', '1339.8', '4108.15', '3266', '308.1', '605.45', '6470.1', '3597.5', '3478.75', '101.9', '6029', '2979.2', '5705.05', '7882.25', '7069.25', '1259.35', '897.75', '323.15', '195.3', '572.85', '5588.8', '7623.2', '154.85', '2823', '130.25', '39.3', '3023.85', '1597.25', '273.2', '6578.55', '5921.35', '681.4', '1254.7', '5780.7', '3190.65', '7009.5', '788.6', '5149.5', '2959.8', '4326.8', '8061.5', '872.65', '20.9', '2227.1', '802.35', '1337.5', '8670.1', '1899.65', '6465', '4758.8', '351.55', '1434.6', '475.25', '2754', '1524.85', '987.95', '79.95', '750.1', '2264.5', '3829.75', '71.25', '5013', '4107.25', '2033.05', '4178.65', '289.3', '1564.05', '73.45', '2224.5', '1073.3', '1943.2', '661.25', '164.5', '6152.4', '5219.65', '4453.3', '1278.8', '6929.4', '75.55', '150.85', '4507.15', '1025.05', '6441.85', '2283.3', '543', '921.55', '4479.2', '4233.95', '6838.6', '1663.5', '3171.6', '4054.2', '1348.5', '6352.4', '3377.8', '263.05', '4664.5', '1013.35', '1815.3', '4586.15', '2495.2', '602.55', '242.4', '1563.95', '331.35', '3475.55', '274.35', '1784.9', '4854.3', '6367.2', '5068.05', '4266.4', '5012.35', '1215.1', '284.3', '2110.15', '144.8', '877.35', '689', '106.85', '158.4', '6405', '3741.85', '3645.5', '321.9', '5526.75', '2535.55', '5436.45', '3851.45', '2001', '566.5', '1144.6', '592.75', '144', '3895.35', '470.95', '2627.2', '5082.8', '3616.25', '6056.9', '3959.35', '3365.85', '1657.4', '4135', '446.1', '593.05', '217.55', '1859.2', '1379.6', '179.35', '2215.45', '1654.7', '3969.4', '2766.4', '2626.15', '7220.35', '40.9', '223.9', '1712.9', '146.65', '6382.55', '1288.3', '8306.05', '146.6', '4914.9', '44.65', '1215.65', '3465.7', '2649.15', '2743.45', '38.25', '4959.15', '5222.3', '4631.7', '60.1', '2230.85', '97.1', '95', '2619.15', '255.55', '2042.05', '4858.7', '6567.9', '3107.3', '4783.5', '625.05', '5638.3', '348.8', '4003', '1520.1', '237.75', '19.7', '7213.75', '1718.2', '7751.7', '5116.6', '639.7', '4525.8', '4096.9', '7337.55', '1539.75', '830.7', '6052.25', '4925.35', '4408.45', '733.55', '5600.15', '70.85', '765.5', '1441.1', '4946.7', '4896.35', '360.55', '739.35', '438.4', '5647.95', '662.65', '365.55', '478.1', '6744.25', '5064.85', '408.25', '1167.8', '2462.55', '286.8', '821.6', '790', '2168.9', '3928.3', '61.45', '7332.4', '1381.2', '2390.45', '918.7', '1672.1', '1373', '2259.35', '2467.1', '3739.8', '2049.05', '70.15', '477.05', '1886.4', '73.5', '24.9', '2281.6', '608.5', '7002.95', '6376.55', '633.4', '7544.3', '992.7', '49.5', '6697.35', '2511.95', '89.9', '1024.65', '2934.3', '147.15', '539.85', '1062.1', '7962.2', '2793.55', '233.9', '878.35', '44.6', '159.35', '701.05', '5324.5', '3505.1', '2536.55', '1396', '174.75', '865.8', '239.75', '1457.25', '1887', '894.3', '245.15', '6342.7', '4065', '113.5', '1529.65', '160.05', '119.3', '7227.45', '2684.35', '7388.45', '4532.3', '3339.05', '3541.1', '7386.05', '3414.65', '8250', '162.15', '1113.95', '1058.25', '8317.95', '202.3', '76.65', '4124.65', '1416.2', '3116.15', '1992.55', '1810.55', '1934.45', '693.3', '1857.3', '964.9', '4760.3', '3474.45', '3532.25', '4378.35', '962.25', '1423.85', '3410', '1051.05', '1119.35', '3756.4', '1410.25', '3370.2', '93.4', '830.25', '1671.6', '153.05', '1653.45', '5893.9', '4779.45', '55.25', '833.55', '3090.65', '24.4', '6767.1', '1395.05', '3452.55', '322.5', '425.1', '3210.35', '131.65', '431', '6218.45', '1037.75', '7138.65', '730.1', '771.95', '1495.1', '3243.45', '5438.95', '1498.35', '939.8', '2877.95', '3580.95', '1932.75', '1442.65', '692.55', '4162.05', '765.45', '6487.2', '1813.1', '201.95', '257.05', '3510.3', '1380.4', '377.55', '5484.4', '4097.05', '5614.45', '1752.55', '2025.1', '1080.55', '803.3', '5832.65', '5711.05', '7493.05', '764.55', '1400.55', '824.85', '7317.1', '1733.15', '5150.55', '3503.5', '288.05', '2762.75', '5031.85', '283.75', '4542.35', '1043.8', '2541.25', '564.4', '8240.85', '5835.5', '4753.85', '179.25', '1470.05', '74.4', '2471.6', '299.2', '268.45', '3810.55', '6300.85', '82.15', '6000.1', '313.4', '1442', '6779.05', '2220.1', '4174.35', '8309.55', '53.5', '980.35', '1397.3', '154.55', '1211.65', '7711.45', '1355.1', '934.8', '6017.65', '735.9', '3001.2', '3021.6', '564.35', '7624.2', '5794.45', '677.05', '5168.1', '2467.75', '84.8', '3435.6', '712.25', '54.35', '329.8', '3082.1', '1519', '35.9', '4300.8', '1710.9', '3247.55', '350.35', '1400.3', '4822.85', '1850.65', '8100.25', '5968.4', '7922.75', '293.3', '3244.4', '110.05', '531.55', '381.2', '961.4', '1319.85', '1789.9', '5976.9', '362.6', '4973.4', '265.3', '4922.4', '321.7', '3985.35', '3880.05', '4399.5', '1140.05', '3268.05', '1596.6', '2193', '1724.15', '314.45', '140.95', '2813.05', '220.8', '7968.85', '1127.35', '4263.4', '272', '835.5', '1841.9', '189.95', '903.7', '1423.15', '2495.15', '6144.55', '102.5', '4738.3', '4707.85', '396.1', '21', '6529.25', '1778.7', '5229.8', '5728.55', '7279.35', '8425.3', '688.5', '8684.8', '368.85', '739.9', '280.4', '86.35', '435', '5224.95', '2716.3', '7853.7', '7719.5', '4818.8', '6055.55', '1130', '153.8', '1237.3', '305.55', '5585.4', '770.4', '7849.85', '804.25', '25.05', '6743.55', '1180.95', '7053.35', '2917.5', '6302.8', '5681.1', '2921.75', '108.65', '42.45', '7878.3', '49.9', '865.75', '1647', '742.95', '2763', '2181.55', '267.6', '1652.1', '3487.95', '44.75', '676.35', '1466.1', '5360.75', '1874.45', '104.3', '53.05', '7039.05', '1914.5', '5305.05', '1238.45', '4009.2', '447.75', '5623.7', '3942.45', '6643.5', '937.5', '305.95', '5059.75', '7953.25', '4688.65', '2177.45', '784.25', '157.55', '576.65', '262.3', '389.6', '3038.55', '3418.2', '605.25', '1292.6', '5743.05', '892.15', '2962', '1510.5', '272.2', '2391.8', '336.15', '716.1', '1742.45', '399.25', '270.2', '1240.8', '97', '5309.5', '61.05', '442.85', '56.35', '371.6', '829.3', '407.05', '312.7', '5940.85', '5154.5', '614.45', '266.6', '5785.65', '4042.2', '2006.1', '1574.45', '581.85', '3204.4', '8425.15', '5426.85', '5375.15', '68.95', '2310.2', '3260.1', '199.85', '4816.7', '6460.55', '1046.2', '5311.85', '4689.5', '1655.35', '6856.45', '1848.8', '1201.15', '1683.6', '611.45', '3769.7', '868.5', '2384.15', '1862.9', '306.6', '910.45', '90.55', '610.75', '48.35', '809.25', '871.4', '415.4', '1028.9', '5617.95', '4327.5', '1238.65', '89.05', '273', '889.9', '1267.05', '116.65', '923.85', '6067.4', '1292.65', '1923.85', '1166.7', '219.35', '2692.75', '156.35', '280.35', '2890.65', '2421.6', '544.55', '5637.85', '244.45', '8041.65', '538.5', '2781.85', '4113.7', '2560.1', '1292.2', '4350.1', '1105.4', '25', '229.55', '7432.05', '3488.15', '503.6', '4017.45', '6148.45', '50.8', '2032.3', '332.65', '1730.65', '4990.25', '60.65', '346.2', '2510.7', '176.3', '703.55', '1641.3', '775.3', '357.7', '866.45', '550.1', '274.7', '1959.5', '1087.45', '716.4', '5373.1', '1126.35', '1058.6', '151.8', '5589.45', '947.4', '8375.05', '461.3', '5538.35', '417.5', '6914.95', '3190.25', '5895.45', '5931', '669.85', '1978.65', '7998.8', '125.95', '173.15', '1387.35', '505.95', '6096.45', '3474.05', '657.5', '3545.1', '770.6', '6430.9', '8594.4', '3545.35', '8166.8', '7321.05', '165.35', '2168.15', '185.6', '1728.2', '6369.45', '1992.2', '260.8', '6590.8', '287.4', '390.85', '4089.45', '8164.1', '89.3', '1943.9', '631.85', '1460.85', '24.2', '3375.9', '7752.05', '1079.65', '1192.7', '1748.9', '8349.45', '1388.45', '57.5', '238.15', '6632.75', '71.55', '1171.3', '68.45', '772.4', '1335.2', '31.2', '1442.2', '321.65', '3067.2', '347.25', '989.05', '7362.9', '1156.35', '1729.35', '4134.85', '2345.2', '1972.35', '181.8', '1871.15', '8127.6', '1866.45', '219', '2029.05', '4145.25', '3678.3', '7845.8', '6910.3', '7629.85', '1125.2', '1266.1', '3211.9', '5581.05', '92.75', '1291.3', '863.1', '490.65', '1992.85', '4391.25', '1790.35', '74.1', '6770.85', '1052.4', '2416.55', '5475.9', '44.05', '789.2', '1516.6', '1249.25', '1103.25', '49.95', '755.6', '5860.7', '3204.65', '2610.65', '4323.45', '485.2', '5733.4', '1597.4', '7111.3', '2656.7', '2421.75', '1702.9', '1323.7', '2130.55', '1215.8', '5832', '55.4', '382.2', '4546', '5574.75', '438.25', '91.7', '74.95', '1375.6', '1898.1', '4361.55', '454.15', '1303.25', '328.95', '4282.4', '1672.35', '1277.75', '690.25', '114.1', '1029.35', '6786.1', '185.55', '1360.25', '697.65', '134.05', '181.65', '3540.65', '1646.45', '7149.35', '2568.55', '20.55', '2494.65', '4504.9', '350.3', '864.85', '3036.75', '1253.5', '2718.3', '3126.45', '947.75', '403.15', '763.1', '1288', '8332.15', '20.7', '47.7', '5508.35', '1010', '2198.3', '255.35', '259.8', '3168', '296.15', '327.45', '3632', '579.4', '886.4', '62', '501.35', '1222.25', '3419.3', '3263.6', '5265.5', '5685.8', '3094.05', '165.2', '332.45', '235.2', '19.05', '365.65', '6588.95', '275.7', '5200.8', '257', '235.5', '853.1', '4338.6', '1098.85', '4131.2', '54.3', '2196.15', '5916.45', '2614.1', '209.9', '259.65', '1426.45', '7689.95', '7133.25', '210.75', '4577.75', '760.05', '246.7', '25.8', '4904.2', '7987.6', '593.85', '3171.15', '3017.65', '5610.7', '39.25', '889', '5341.8', '2524.45', '2379.1', '4557.5', '920.5', '3822.45', '79.15', '82.3', '1225.65', '3579.15', '1290', '1514.85', '122', '465.05', '5730.15', '1478.85', '5125.5', '1194.3', '1244.5', '632.2', '929.3', '334.8', '1382.9', '2361.8', '679.85', '3442.15', '118.25', '2928.5', '931.9', '5265.55', '1286.05', '3011.65', '4060.9', '69.9', '1198.8', '1270.2', '1169.35', '6151.9', '435.25', '7365.3', '2184.35', '1074.65', '1230.25', '2274.1', '422.4', '137.1', '2405.05', '342.4', '709.5', '4166.35', '4309.55', '6333.8', '459.95', '294.9', '2215.4', '7532.15', '673.1', '846', '1820.9', '2169.8', '1563.9', '6605.55', '6014.85', '788.55', '678.45', '5769.75', '1036', '6373.1', '237.3', '4681.75', '2812.2', '296.1', '979.5', '6388.65', '2433.5', '4747.5', '145.15', '4959.6', '4322.85', '5564.85', '7101.5', '6333.4', '393.15', '653.15', '255.5', '2618.3', '314.6', '3848', '385.55', '7657.4', '143.65', '1077.95', '121.25', '1108.8', '730.4', '2674.15', '5386.5', '4627.8', '930.05', '469.8', '1350.15', '1020.75', '1713.1', '3263.9', '299.75', '196.4', '191.05', '1079.45', '2238.5', '335.95', '1129.75', '80.8', '5458.8', '1415.55', '3707.6', '4438.2', '3369.25', '1462.05', '6223.8', '3655.45', '3199', '3527', '3893.6', '808.95', '247', '1427.55', '1133.9', '4138.7', '3128.8', '679.8', '38.15', '926.25', '5969.3', '1597.05', '2254.2', '51.6', '469.25', '5025', '1761.45', '3646.8', '1856.4', '8424.9', '1070.15', '3759.05', '1855.65', '672.55', '791.75', '2386.85', '419.9', '3870.3', '1760.25', '3974.15', '1766.75', '113.55', '819.55', '2974.5', '1285.8', '664.4', '1082.75', '918.75', '155.35', '1329.15', '5071.9', '254.5', '2193.2', '225.75', '198.25', '417.65', '6668.05', '4259.3', '813.3', '6254.45', '5731.4', '6155.4', '2203.7', '246.6', '546.95', '355.2', '1940.85', '4445.3', '429.55', '4421.95', '330.05', '25.25', '367.95', '1185.95', '371.9', '1874.3', '324.3', '6033.1', '1412.4', '1612.2', '5776.45', '107.6', '396.3', '4764', '720.1', '1426.75', '420.2', '2985.25', '3871.85', '35.25', '6903.1', '62.8', '3442.8', '2862.55', '35.75', '5443.65', '1421.75', '1083.7', '1801.9', '3217.65', '432.25', '2635', '4392.5', '1373.05', '1517.5', '5567.55', '6110.75', '780.85', '153.3', '128.6', '537.35', '1189.4', '574.5', '70.5', '2596.15', '66.95', '4209.95', '356.1', '1022.95', '1096.6', '4055.5', '4913.3', '648.65', '75.5', '144.15', '44.2', '1763.55', '228.75', '25.85', '1149.65', '4615.25', '162.45', '7334.05', '89.35', '7348.8', '2298.9', '4156.8', '668.85', '552.1', '82.7', '55.45', '1567', '1830.05', '107.1', '2964', '7511.9', '4904.85', '1737.45', '2809.05', '1364.75', '27.55', '50.5', '1301.7', '6595.9', '442.6', '146.05', '4895.1', '350.1', '294.95', '95.45', '6703.5', '387.2', '3273.8', '1682.4', '166.3', '581.7', '4931.8', '25.15', '675.6', '1316.9', '20.6', '3019.25', '533.05', '393.45', '1230.9', '1907.85', '2007.85', '4807.35', '3825.85', '2799', '2453.3', '4036', '75.9', '4616.1', '1095.65', '1626.4', '3423.5', '7993.3', '46.3', '494.95', '52.2', '1537.9', '682.15', '302.75', '1414.2', '504.2', '603', '696.8', '5798.3', '408.5', '2970.3', '2085.45', '1212.1', '301.9', '1252.85', '5163', '3281.65', '3729.75', '331.6', '1242.2', '486.85', '604.7', '566.1', '1510.3', '6782.15', '265.35', '341.45', '1411.65', '5676', '1739.6', '74.25', '6479.4', '1857.25', '4307.1', '583.45', '1443.65', '941', '74.3', '4904.25', '1652.95', '1438.05', '5189.75', '140.1', '515.75', '25.1', '1522.65', '854.8', '462.8', '374.5', '8124.2', '3735.45', '6302.85', '2603.95', '795.65', '2908.2', '70.75', '775.6', '7039.45', '818.05', '1007.8', '525', '189.1', '19.95', '2484', '5424.25', '1123.65', '1623.4', '1071.6', '740', '4264.6', '713.6', '1115.15', '4754.3', '882.55', '108.05', '2180.55', '3395.8', '1367.75', '7261.25', '4122.9', '467.15', '3314.15', '1730.35', '5295.7', '2896.55', '3914.05', '2838.7', '3046.05', '2215.25', '2603.1', '40.1', '1144.5', '272.15', '164.3', '3708.4', '4652.4', '3994.05', '2839.65', '672.7', '3005.8', '354.05', '36.8', '5661.7', '3182.95', '4267.15', '1530.6', '1248.9', '1507', '333.55', '2157.5', '1551.6', '1677.85', '3088.75', '4025.5', '514', '249.95', '754', '8013.55', '2165.05', '2000.2', '797.25', '7567.2', '1112.3', '912', '973.35', '1794.8', '3473.4', '4534.9', '2724.6', '6301.7', '1715.15', '1715.1', '1307.8', '7318.2', '71.2', '1423.35', '1263.05', '2874.15', '3838.75', '7839.85', '194.2', '3770', '4599.15', '5869.4', '6083.1', '5680.9', '536.35', '300.8', '1297.35', '198.7', '7611.55', '3846.35', '1033.9', '4828.05', '412.55', '969.85', '5731.45', '538.2', '3348.1', '2907.55', '1145.35', '63.15', '5542.55', '688.2', '196.35', '1135.7', '134.5', '1424.4', '1013.2', '332.5', '3953.15', '4213.9', '4804.65', '1843.05', '3886.85', '2427.1', '281', '1270.25', '3545.05', '1672.15', '873.4', '375.25', '208', '2065.15', '1260.7', '4495.65', '1532.45', '3109.9', '20', '856.65', '4299.2', '2415.95', '4747.65', '5943.65', '2658.4', '1594.75', '2048.8', '4847.05', '261.25', '6859.05', '828.2', '4693.2', '145.4', '3886.05', '426.65', '2198.9', '7553.6', '70.25', '1985.15', '2757.85', '2854.95', '4297.95', '830.8', '713.75', '74.5', '1502.25', '4433.3', '5420.65', '2669.45', '7932.5', '471.35', '3282.75', '1815.65', '2277.65', '5333.35', '1305.95', '1201.65', '229.5', '5515.45', '1584.8', '3425.35', '2016.45', '54.75', '358.05', '1579.7', '919.4', '806.95', '33.7', '7422.1', '740.8', '6441.4', '4564.9', '1070.25', '438.05', '162.55', '2971.7', '810.2', '546.45', '4048.95', '67.55', '718.1', '6172', '92.5', '1358.85', '3551.65', '6081.4', '1698.55', '1723.95', '3465.05', '1046.1', '7723.7', '587.4', '5645.8', '2088.45', '346.4', '3833.95', '132.4', '879.8', '579', '165.4', '4735.2', '812.5', '2015.35', '5044.8', '6075.9', '4669.2', '827.7', '1458.1', '521.35', '4508.65', '1218.45', '2209.75', '1732.95', '1988.05', '2758.15', '1710.15', '5029.2', '2375.4', '7405.5', '795.15', '4461.85', '2156.25', '436.9', '129.2', '1237.65', '5498.2', '2398.4', '4059.85', '5538.8', '2656.5', '1678.05', '3958.85', '948.9', '298.7', '484.05', '3480', '505.9', '191.35', '1750.7', '80.35', '6474.45', '510.8', '5883.85', '7840.6', '999.45', '531.15', '343.95', '4946.05', '3580.3', '92.45', '2516.2', '2234.55', '1911.5', '4594.95', '2564.3', '72', '2575.45', '2964.8', '84.85', '5974.3', '445.85', '1790.65', '2874.45', '194.55', '93.85', '2337.45', '46.35', '2780.6', '1424.9', '278.85', '931.75', '3303.05', '1131.5', '1583.5', '5222.35', '6741.15', '1738.9', '294.2', '2515.3', '7842.3', '465.45', '5016.25', '270.6', '62.05', '1342.15', '1043.4', '5175.3', '788.05', '5264.3', '320.45', '472.25', '651.5', '2169.75', '1914.9', '1090.65', '143.35', '6300.15', '575.45', '363.15', '6669.05', '6287.25', '2511.3', '2258.25', '2200.25', '487.05', '20.8', '3409.1', '163.2', '659.65', '201.7', '6581.9', '2404.15', '3389.25', '123.05', '3877.95', '799', '19.9', '7576.7', '139.75', '5038.15', '7467.5', '2868.15', '6383.9', '7965.95', '492', '4254.85', '293.15', '174.3', '1173.35', '1275.7', '958.1', '1820.45', '2109.35', '4298.45', '1861.1', '3252', '2448.5', '3983.6', '654.55', '2341.5', '2997.45', '4464.8', '472.65', '7299.65', '418.3', '3527.6', '3517.9', '3692.85', '255.6', '171.45', '54.65', '540.95', '7099', '5088.4', '1561.5', '24.25', '1031.1', '1701.65', '494.9', '170.9', '330.15', '1531.4', '2188.5', '6385.95', '5329', '2275.1', '4140.1', '600.15', '50.55', '235.1', '102.45', '2274.35', '185.2', '1054.75', '4388.4', '874.8', '3250.45', '1401.15', '6045.9', '8058.55', '1356.3', '5919.35', '6561.25', '1558.65', '368.1', '1050.5', '3670.5', '786.3', '1806.35', '562.7', '45.05', '3233.6', '84.2', '1476.25', '3122.4', '2907.35', '551.3', '568.2', '2924.05', '607.7', '946.95', '3046.4', '184.05', '6049.5', '426.35', '2070.6', '6998.95', '2919.85', '521.3', '25.4', '3221.25', '1167.6', '75.7', '4543.15', '4820.15', '4400.75', '1620.45', '2967.35', '1431.65', '6697.2', '4086.3', '1017.35', '492.1', '1067.65', '964.35', '577.6', '805.1', '93.45', '54.7', '25.75', '3970.4', '1022.5', '1937.4', '3725.5', '1712.7', '4952.95', '854.45', '55.55', '19', '79.05', '198.5', '1818.9', '130.1', '1821.2', '3956.7', '304.6', '6273.4', '6614.9', '644.5', '2357.75', '3974.7', '649.65', '6536.5', '740.55', '1501.75', '720.05', '649.4', '264.55', '79.6', '5496.9', '2139.2', '340.25', '1821.95', '144.35', '1663.75', '163.55', '520', '284.35', '55.7', '1527.5', '4911.35', '70.1', '3778.85', '688', '1334', '6325.25', '533.9', '7308.95', '279.3', '2979.5', '1391.15', '5727.45', '1090.6', '1291.35', '6962.85', '5487', '3184.25', '7508.55', '3229.65', '7007.6', '3344.1', '951.55', '5763.15', '2342.2', '564.65', '455.3', '3097.2', '263.65', '50.1', '1785.65', '1303.5', '1233.25', '1588.7', '1237.85', '5817.7', '1304.85', '70.4', '42.9', '163.7', '1057.55', '2423.4', '1175.6', '1191.4', '349.65', '6944.5', '4154.8', '2696.55', '1127.2', '5831.2', '1183.8', '2433.9', '3181.8', '383.55', '1247.75', '635.6', '1265.65', '100.4', '5696.6', '893.2', '608.15', '1203.9', '5682.25', '940.35', '6350.5', '855.3', '384.25', '435.45', '4158.25', '973.55', '503.25', '287.85', '422.6', '1216.6', '476.8', '1375.15', '3623.95', '21.05', '1815', '260.9', '243.65', '602.9', '68.5', '5064.45', '196.75', '30.2', '318.1', '6638.35', '74.2', '385.9', '3009.5', '424.5', '6094.25', '3847.6', '5129.3', '939.7', '45.4', '3966.3', '1326.25', '2723.4', '5981.65', '888.75', '452.55', '7714.65', '5841.35', '2576.2', '70.45', '4069.9', '79.9', '5264.5', '6921.7', '338.9', '1538.6', '490.55', '4323.35', '3858.05', '261.3', '3509.4', '127.1', '8436.25', '2586', '1761.05', '2460.55', '1153.25', '4189.7', '7171.7', '5336.35', '74.9', '3640.45', '4194.85', '5980.55', '1620.2', '1277.5', '4138.9', '589.25', '2737.05', '5073.1', '839.4', '5621.85', '2966.95', '5244.45', '259.4', '2351.8', '43.3', '3590.2', '2553.35', '2288.7', '2317.1', '1199.4', '4534.45', '3557.7', '633.3', '4747.85', '474.9', '4016.3', '1734.2', '266.95', '326.8', '2633.4', '1067.15', '2265.25', '1802.55', '4900.65', '826.1', '5817.45', '450.8', '612.95', '914', '1212.25', '4919.7', '2401.05', '3902.45', '4230.25', '7475.85', '506.9', '2727.8', '1110.5', '1758.9', '7939.25', '5293.4', '7104.2', '1035.5', '477.6', '2684.85', '244.8', '56', '660.05', '475', '188.7', '439.75', '3527.3', '7040.85', '413', '452.7', '288.35', '4250.1', '74', '306.05', '1477.65', '4689.15', '4368.95', '7748.75', '7455.45', '7074.4', '1064.95', '804.85', '4891.5', '5017.7', '4888.7', '1847.55', '996.95', '764.95', '193.8', '4137.2', '5308.7', '3857.1', '105.6', '3320.6', '233.7', '155.65', '340.85', '6519.75', '3035.8', '160.8', '6225.4', '5986.55', '809.75', '6287.3', '1787.35', '3591.25', '899.8', '3549.25', '637.4', '4849.1', '388.6', '515.45', '134.6', '617.65', '198.6', '373.5', '141.7', '711.15', '346.45', '1250.1', '257.6', '1463.7', '1802.15', '4845.4', '130.75', '3091.75', '217.45', '291.4', '6721.6', '90.1', '68.2', '1143.8', '19.65', '1430.05', '149.55', '3973.2', '141.5', '1191.2', '477.7', '1011.05', '8129.3', '1448.6', '237.25', '6029.9', '5432.2', '4732.35', '5746.75', '1639.3', '2090.25', '2796.35', '1559.15', '2585.95', '653.25', '1810.85', '4520.15', '6751.35', '73.65', '2135.5', '1522.7', '2816.65', '1232.9', '1284.2', '4555.2', '3470.8', '5720.35', '187.45', '99.95', '260.7', '2661.1', '655.3', '5461.45', '154.8', '2911.3', '1691.9', '79.45', '205.05', '7076.35', '1240.15', '565.75', '1716.45', '3015.75', '5969.85', '3687.75', '170.85', '323.25', '3539.25', '4084.35', '3990.6', '4982.5', '917.45', '2802.3', '2391.15', '178.8', '51.15', '5618.3', '370.25', '732.5', '883.35', '6538.45', '2748.7', '7008.15', '141.45', '1422.1', '7222.75', '867.1', '6719.9', '3141.7', '5894.5', '958.45', '77.5', '215.2', '2292.75', '1444.65', '1567.55', '29.85', '1012.4', '3264.45', '422.5', '1157.05', '741.7', '1772.25', '4025.6', '8543.25', '8333.95', '29.95', '5243.05', '7049.5', '1156.55', '4729.75', '3088.25', '1391.65', '1611', '5186', '5812.6', '452.35', '1261.45', '23.45', '973.25', '1396.25', '1710.45', '2779.5', '1697.7', '587.1', '6895.5', '571.15', '2659.45', '3177.25', '3941.7', '1222.05', '2271.85', '5293.2', '5459.2', '373', '1497.05', '60', '273.75', '5935.1', '307', '3186.65', '7848.5', '467.7', '2568.15', '1718.35', '6056.15', '1182.55', '1327.85', '224.05', '3756.45', '365.35', '741.5', '1893.5', '4738.85', '3027.25', '3023.65', '1620.8', '30.5', '4824.45', '2479.25', '487.75', '7383.7', '80.5', '1905.4', '552.95', '3089.1', '2599.95', '154.3', '6416.7', '1183.05', '858.6', '5442.05', '8405', '1107.2', '3990.75', '7856', '3301.05', '7281.6', '811.65', '389.8', '1566.9', '44.3', '1982.1', '92.25', '237.65', '5070.4', '674.55', '1299.8', '7159.05', '50.7', '499.4', '734.6', '7880.25', '38.45', '7047.5', '53.55', '930.95', '1398.6', '1633', '1555.65', '411.25', '531.6', '1777.9', '743.5', '409.9', '8012.75', '938.95', '6602.9', '298.45', '3804.4', '195.05', '4042.3', '505.45', '40.2', '331.85', '512.45', '384.5', '54.5', '3008.15', '1607.2', '945.7', '2440.15', '71.1', '2308.6', '1267.2', '2979.3', '1326.35', '1011.5', '711.9', '930.9', '4921.2', '6841.4', '545.15', '6849.75', '1336.1', '5060.85', '3734.25', '3615.6', '5253.95', '178.1', '3886.45', '238.5', '6001.45', '71.35', '3472.05', '502.85', '402.6', '799.65', '1301.1', '239.45', '3694.7', '1078.9', '6674.65', '5656.75', '331.9', '2964.05', '1108', '3436.1', '2939.8', '7758.9', '6717.9', '4805.3', '3471.1', '1299.1', '3145.9', '6725.5', '4541.9', '6520.8', '1282.85', '51.2', '90.35', '134.35', '6871.9', '2117.25', '160.85', '5485.5', '19.2', '6975.25', '844.45', '5720.95', '4029.95', '1171.5', '498.25', '4362.05', '3363.8', '1121.05', '7261.75', '344.2', '329.95', '813.45', '3921.3', '7430.75', '3416.85', '8308.9', '2497.35', '929.45', '20.45', '303.7', '6444.05', '411.6', '7554.05', '916.75', '4154.55', '38', '77.6', '498.1', '900.5', '1755.35', '700.45', '5958.85', '717.95', '733.35', '201.1', '1651.95', '3482.85', '3213.75', '1875.25', '5437.75', '5980.75', '232.4', '3694.45', '2623.65', '25.3', '79.1', '3865.6', '6548.65', '50.65', '2854.55', '2345.55', '220.1', '7176.55', '5917.55', '3673.6', '7555', '4953.25', '1901.05', '1255.1', '593.3', '383.65', '1790.15', '826', '1445.3', '1345.55', '655.9', '2404.1', '321.75', '4138.05', '2291.2', '7349.35', '1727.5', '2595.85', '4285.8', '4299.75', '1901.25', '3674.95', '1131.3', '791.15', '672.2', '2075.1', '5215.25', '3887.25', '2419', '2181.75', '2217.15', '3766.2', '7303.05', '507.4', '5398.6', '470.6', '1347.15', '81.1', '890.6', '351.5', '3807.35', '1834.15', '48.55', '90.05', '81', '8529.5', '446.05', '1025.95', '1743.05', '2339.3', '2835.9', '5822.3', '405.6', '2187.15', '4526.85', '1066.15', '7679.65', '5688.05', '148.05', '31.55', '3824.2', '1430.25', '851.8', '651.4', '2250.65', '478.75', '4484.05', '420.45', '242', '406.95', '401.1', '4059.35', '583.3', '118.5', '3398.9', '7244.7', '4040.2', '1060.6', '3309.25', '695.05', '434.8', '186.05', '5589.3', '1673.8', '250.8', '943', '1208.15', '1115.6', '1386.9', '7565.35', '1637.4', '4698.05', '1604.5', '5899.85', '115.1', '1295.4', '278.4', '1743.5', '1387', '6019.35', '5012.1', '7031.3', '452.8', '485.9', '2773.9', '150', '33.2', '5753.25', '98.5', '208.85', '2447.45', '6953.4', '295.95', '3532', '1490.95', '4905.75', '126.05', '723.3', '4224.7', '3166.9', '4039', '400.3', '152.7', '2078.55', '6237.05', '2896.6', '6296.75', '4016.75', '708.8', '202.25', '810.85', '2030.3', '5568.35', '71.65', '997.65', '107.05', '309.25', '550.35', '3320.75', '4527.45', '4354.45', '5121.3', '457.1', '55.05', '715', '4874.8', '144.95', '1867.7', '956.65', '1235.55', '836.35', '1952.8', '5327.25', '69.85', '6547.7', '2184.6', '1505.35', '2208.75', '456.85', '777.3', '6129.65', '2603.3', '712.85', '83.3', '20.95', '1496.9', '94.4', '1574.5', '3706.95', '3292.3', '6841.3', '955.15', '4116.8', '5731.85', '415.9', '4116.9', '439.2', '6125.4', '1511.2', '1359', '1640', '527.9', '3242.5', '4378.9', '6316.2', '1955.4', '2107.15', '1061.6', '6440.25', '4859.1', '1714.95', '4144.8', '726.1', '7804.15', '6869.7', '4451.85', '624.15', '501.2', '75.8', '561.15', '1228.65', '291.9', '1588.75', '684.85', '84.5', '1637.3', '493.4', '4018.55', '2348.45', '2509.95', '249.4', '6423', '55', '3004.15', '181.5', '1523.4', '49.25', '6572.85', '5643.4', '20.65', '3364.55', '1500.25', '202.15', '4014', '2978.3', '2199.05', '78.65', '767.9', '742.9', '2552.9', '2499.3', '3684.95', '1156.1', '711.95', '5743.3', '4671.7', '563.05', '6312.9', '1681.6', '2018.1', '2203.1', '1246.4', '814.75', '2659.4', '1178.25', '1993.2', '41.2', '5464.65', '6205.5', '68.65', '762.25', '1801.1', '1059.55', '1286', '3541.4', '122.7', '1072', '6496.15', '117.95', '4144.9', '70.2', '1077.05', '6991.6', '2236.2', '7413.55', '4126.35', '1328.35', '1445.95', '2134.3', '5448.6', '5275.8', '1917.1', '6230.1', '6176.6', '697.7', '1990.5', '2276.95', '69.8', '1617.5', '2092.9', '2234.95', '3772.5', '2369.05', '4368.85', '5811.8', '5961.1', '1910.6', '100.8', '2848.45', '2188.45', '1667.25', '1582.75', '2730.85', '6640.7', '279.55', '251.75', '324.8', '2106.05', '424.15', '2067', '150.75', '4367.35', '5264.25', '1782.4', '1704.95', '3563.8', '5364.8', '2045.55', '1885.15', '1389.35', '290.55', '2278.75', '994.55', '1652.4', '830.85', '74.7', '2948.6', '4793.8', '3283.05', '474.8', '70.35', '1381.8', '1372.9', '2473.95', '7283.25', '2640.55', '100.25', '1028.75', '958.25', '779.25', '20.15', '1840.75', '4297.6', '4533.9', '6688.95', '7320.9', '3691.2', '800.3', '1414.8', '780.2', '8175.9', '345.9', '95.55', '597', '80.55', '2548.65', '297.35', '2566.5', '45.3', '2852.4', '3950.85', '2857.6', '3021.45', '39.85', '1648.45', '743.3', '80', '2130.45', '3772.65', '45.1', '5234.95', '3021.3', '519.15', '4908.25', '3624.3', '79.65', '7982.5', '757.1', '2322.85', '1054.6', '168.5', '2070.05', '1808.7', '896.75', '256.6', '419.35', '1130.85', '8337.45', '2624.25', '5102.35', '156.1', '7534.65', '1070.7', '7372.65', '880.2', '4786.1', '6733.15', '2976.95', '2111.45', '2263.45', '7459', '4510.8', '1797.75', '3161.6', '81.95', '5791.85', '3921.1', '6822.15', '580.8', '959.9', '7250.15', '1793.25', '20.85', '1219.85', '25.2', '3431.75', '2196.3', '5166.2', '1173.55', '2804.45', '52', '1927.3', '1725.4', '676.15', '1378.25', '6236.75', '5762.95', '556.35', '5897.4', '3919.15', '70.7', '6468.6', '2498.4', '6140.85', '740.3', '1493.2', '4186.3', '731.3', '1534.75', '4566.5', '2282.55', '475.7', '4968', '5034.05', '1706.45', '25.7', '146.4', '475.1', '2201.75', '6428.4', '374.8', '4060.55', '1242.45', '996.45', '1258.15', '6982.5', '45.75', '435.4', '119.75', '5551.15', '4549.45', '743.05', '2911.8', '1740.7', '4889.2', '5601.4', '1415.85', '2936.25', '1306.3', '7323.15', '710.05', '1665.2', '1416.5', '1813.35', '2038.7', '504.05', '4024.2', '6688.1', '3208.65', '4428.6', '6413.65', '1023.9', '2239.65', '1279', '5632.55', '4868.4', '1767.35', '2877.05', '5703.25', '4664.2', '1071.4', '78.25', '523.1', '419.4', '220.6', '469.65', '6954.15', '893.55', '1033', '5991.05', '8086.4', '509.3', '360.35', '6161.9', '792.15', '6858.9', '5396.25', '6339.3', '1460.65', '1539.8', '450.9', '76.2', '696.35', '1358.6', '2665', '3246.45', '2249.1', '2497.2', '1267', '1468.75', '38.8', '8075.35', '1029.75', '6506.15', '1505.05', '2020.9', '6671.7', '187.35', '874.2', '308.7', '3944.5', '1270.55', '5594', '573.75', '1234.8', '49.7', '463.6', '1719.15', '6637.9', '449.75', '5985.75', '2839.45', '69.6', '1192.3', '4310.35', '4920.55', '415.55', '780.1', '300.7', '665.45', '3656.25', '1185', '1816.75', '3566.7', '7966.9', '2929.75', '1440.75', '535.05', '2807.1', '4504.55', '4512.7', '58.15', '1036.75', '1096.25', '4903.15', '3635.15', '5294.6', '337.9', '6766.95', '718.55', '3027.65', '6431.05', '6710.5', '1902', '1900.25', '2789.7', '3662.25', '1389.2', '99.6', '2012.7', '1203.95', '293.85', '4663.4', '1024.7', '2203.65', '653.95', '837.5', '5377.8', '5886.85', '141.65', '7862.25', '35.05', '641.15', '5969.95', '6292.7', '4374.55', '7035.6', '5576.3', '5611.75', '1055.9', '5276.1', '1782.05', '75.1', '1796.55', '5290.45', '3777.15', '3930.6', '1193.55', '1682.05', '4273.45', '2723.75', '5445.95', '1378.75', '1253.9', '1031.4', '59.2', '19.85', '1187.05', '7397', '85.7', '793.55', '735.5', '2186.4', '99.45', '525.55', '6705.7', '3996.8', '183.75', '114.7', '2496.7', '2509.25', '3901.25', '6310.9', '550.6', '1845.9', '1994.3', '5278.15', '1272.05', '1390.85', '5040.2', '1611.15', '137.25', '45.55', '2095', '492.55', '2755.35', '670.35', '78.45', '548.9', '7346.2', '1540.05', '1344.5', '706.6', '7920.7', '3649.6', '5315.8', '2625.55', '1032', '117.05', '124.4', '4524.05', '5510.65', '1261', '923.5', '704.3', '553.4', '96.1', '3626.1', '6065.3', '6991.9', '157.75', '190.25', '845.6', '6010.05', '697.25', '5125.75', '1832.4', '6145.2', '1685.9', '172.85', '267', '4164.4', '3959.15', '2462.6', '5224.5', '75.35', '1007.9', '3050.15', '317.75', '902.25', '5563.65', '309.4', '1893.95', '8152.3', '467.85', '713.1', '3078.1', '530.05', '2460.35', '197.7', '3522.65', '5931.75', '907.05', '4254.1', '3846.75', '6283.3', '3682.45', '4013.8', '4242.35', '447.9', '567.45', '7181.25', '1383.6', '587.45', '244.65', '2007.25', '416.3', '3515.25', '7470.1', '5913.95', '4111.35', '1165.6', '849.9', '714.15', '5817', '5861.75', '5574.35', '1336.8', '454.05', '3058.3', '2145', '38.7', '401.85', '1301', '747.2', '7611.85', '761.95', '2570.2', '759.55', '754.65', '4882.8', '415.1', '3013.05', '369.05', '7806.5', '2044.75', '2686.05', '1022.6', '6404', '5629.55', '4378.8', '4263.45', '211.95', '5673.7', '755.5', '7108.2', '7245.9', '4052.4', '646.85', '1253.65', '7118.9', '2076.05', '143.9', '206.15', '834.2', '159.45', '1461.45', '76.45', '5031', '227.35', '321.05', '352.65', '147.5', '4627.65', '3618.7', '5289.05', '1851.45', '369.6', '78.3', '140.4', '2237.55', '3687.85', '593.2', '1152.7', '834.7', '357', '1374.2', '585.95', '4869.5', '85.1', '169.8', '1215.6', '2162.6', '861.85', '109.5', '7887.25', '1122.4', '571.05', '3875.4', '125', '252.75', '84.4', '819.95', '6654.1', '483.15', '136.75', '7556.9', '69.95', '5038.45', '6890', '628.65', '655.5', '5023', '1961.6', '4300.45', '5299.65', '934.1', '8046.85', '3439', '4308.25', '2882.25', '6306.5', '89.15', '238.1', '2053.05', '6770.5', '1147.85', '4159.45', '3827.9', '5042.75', '660.9', '3019.1', '3641.5', '985.05', '1083', '3975.7', '6786.4', '1423.65', '125.5', '7188.5', '1354.4', '4871.05', '6141.65', '213.35', '1625.65', '2653.65', '4176.7', '6109.65', '2983.8', '3862.55', '1181.75', '5016.65', '1090.1', '134.7', '2368.4', '228.4', '362.2', '2395.05', '84.65', '7028.5', '2768.65', '633.45', '18.8', '1123.15', '96.05', '535.55', '1859.5', '7726.35', '3912.9', '5409.75', '55.8', '4867.95', '3046.15', '927.65', '6126.1', '5971.25', '2638.1', '1938.9', '2431.95', '161.45', '1863.8', '1095.3', '1417.9', '35.55', '35.85', '50.45', '761.85', '654.85', '496.9', '438', '240.45', '302.6', '45', '2424.45', '5196.1', '2633.95', '44.35', '4068', '19.4', '91.3', '4200.25', '7990.05', '4539.35', '827.3', '150.35', '828.05', '89.75', '151.65', '3902.6', '2619.25', '3965.05', '4720', '638.95', '6164.7', '1500.95', '2122.45', '1794.65', '3432.9', '5625.55', '2598.95', '667.7', '1626.05', '3856.75', '994.8', '191.1', '1888.65', '7658.3', '132.2', '6253', '5265.2', '6823.4', '5330.2', '59.75', '1910.75', '7285.7', '80.85', '123.8', '1023.75', '5502.55', '2768.35', '389.1', '1337.45', '2066', '5885.4', '4630.2', '223.75', '1313.55', '1155.6', '225.55', '1198.05', '101.65', '110.15', '5746.15', '1643.25', '5071.05', '3801.3', '4853.75', '768.45', '2440.25', '1214.05', '6780.1', '1405.3', '6254.2', '6457.15', '324.6', '20.1', '3369.05', '3201.55', '48.6', '3605.2', '4600.95', '298.35', '854.9', '1348.95', '5229.45', '3321.35', '158.35', '7881.2', '3848.8', '3713.95', '2531.8', '196.95', '473.9', '1929', '1099.6', '183.15', '94.5', '6028.95', '5435.6', '810.7', '186.3', '1392.25', '3147.5', '2647.2', '601.25', '64.55', '5867', '533.6', '1451.1', '7869.05', '1233.65', '5036.3', '4016.85', '35.45', '5315.1', '245.2', '4109', '253.9', '1747.85', '1784.5', '5289.8', '4746.05', '4424.2', '3870', '19.6', '1939.35', '903.6', '242.95', '3581.6', '2080.1', '53.95', '813.85', '5727.15', '4370.25', '152.6', '2036.55', '3373.4', '5431.4', '465.85', '229.7', '736.8', '4191.45', '87.3', '4469.1', '982.95', '216.2', '2395.7', '81.7', '307.6', '4920.8', '853', '6130.85', '7616', '901.25', '4062.2', '5706.2', '2193.65', '2820.65', '244.75', '7774.05', '181.6', '5708.2', '1686.85', '1057', '785.75', '762.45', '4713.4', '3704.15', '1399.35', '1759.55', '668.4', '613.95', '908.55', '4872.35', '641.35', '226.95', '378.4', '2094.9', '129.6', '4676.7', '3994.45', '89.5', '132.25', '554.45', '49', '2257.75', '857.25', '233.55', '1975.85', '30.55', '20.75', '1207', '43.8', '1884.65', '4335.2', '790.7', '973.95', '221.35', '8244.3', '2429.1', '825.4', '1263.9', '322.9', '1636.95', '1529.2', '1304.8', '1049.6', '547.65', '856.5', '45.6', '453.75', '3035.35', '5017.9', '7291.75', '1782', '216.9', '19.1', '3366.05', '4860.85', '2021.35', '1120.95', '6912.7', '3665.55', '1101.85', '7251.7', '1463.45', '486.05', '2171.15', '210.3', '4304', '119.5', '232.55', '3161.2', '3168.75', '264.85', '1375.4', '688.65', '3581.4', '5826.65', '335.75', '1129.1', '8071.05', '7690.9', '4687.9', '4391.45', '6692.65', '659.35', '686.95', '6332.75', '174.45', '1930.9', '913.3', '587.7', '801.3', '630.6', '1271.8', '666.75', '4014.2', '2933.2', '137.6', '5430.35', '847.25', '2847.2', '212.4', '8476.5', '1789.25', '1078.75', '5552.05', '4113.15', '3554.6', '73.1', '188.1', '2710.25', '838.7', '2001.5', '1612.75', '1406.65', '3410.6', '1421.9', '7491.75', '3255.35', '98.35', '223.45', '8277.05', '69.35', '552.7', '2146.5', '369.25', '2774.55', '6480.9', '7550.3', '3723.65', '99.75', '2349.8', '1178.4', '1311.75', '246.25', '1362.85', '2438.6', '4730.6', '6425.65', '2083.1', '1387.45', '3626.35', '2455.05', '70.55', '1412.65', '2338.35', '4331.4', '91.45', '7517.7', '3205.6', '500.1', '3112.05', '422.3', '2595.25', '996.85', '5060.9', '930.4', '563.65', '6687.85', '978', '67.1', '1043.3', '7661.8', '2751', '2341.55', '927.15', '4914.8', '663.05', '1093.4', '303.15', '59.05', '93.55', '7752.3', '415.05', '936.85', '1054.8', '3882.3', '7609.75', '117.8', '1924.1', '4750.95', '2724.25', '69.5', '4741.45', '7015.9', '416.45', '54.9', '733.95', '1253.8', '2333.85', '3173.35', '113.35', '708.2', '4614.55', '2093.4', '1442.6', '2514.5', '4965.1', '5293.95', '4590.35', '493.65', '1859.1', '5509.3', '5893.95', '401.5', '5121.75', '75.75', '1446.8', '829.1', '2471.25', '535.35', '301.55', '5552.5', '5586.45', '4026.4', '324.2', '139.05', '5376.4', '2369.7', '639.65', '572.2', '2613.4', '1776', '370.5', '44.4', '4759.75', '2475.35', '5639.05', '8165.1', '4295.35', '695.75', '773.2', '3673.15', '109.25', '507.9', '43.85', '1614.05', '76.95', '1593.1', '5199.8', '79.25', '19.8', '5206.55', '757.95', '5357.75', '1493.1', '1441.65', '1849.95', '5844.65', '2301.15', '1474.75', '1334.45', '2142.8', '1006.9', '1250.85', '1124.2', '4473', '1301.9', '8547.15', '225.6', '4284.65', '3196', '705.45', '2211.8', '1097.15', '3131.8', '6510.45', '187.75', '3399.85', '1753', '436.2', '6362.35', '109.8', '2483.05', '386.5', '762.1', '1107.25', '523.15', '3460.95', '5742.9', '847.3', '7238.6', '2296.25', '600.25', '6844.5', '3958.25', '79.2', '5438.9', '2070.75', '389.25', '4131.95', '4045.65', '1003.05', '80.05', '29.9', '7262', '3645.75', '1281.25', '1346.9', '1422.05', '2244.95', '4744.35', '3162.65', '565.35', '580.1', '8443.7', '520.1', '314.55', '5890', '3053', '695.85', '1614.9', '2656.3', '4972.1', '237.95', '4976.15', '20.35', '219.65', '74.45', '48.75', '2658.8', '1258.6', '5809.75', '997.75', '7530.8', '3069.45', '1679.25', '237.2', '1700.9', '1816.2', '1506.4', '937.1', '1776.95', '2030.75', '3937.45', '5757.2', '2666.75', '3533.6', '5794.65', '911.6', '90.85', '1424.2', '6034.85', '218.55', '256.75', '1638.7', '1623.15', '2931', '3915.4', '4261.2', '2815.25', '4304.5', '2365.15', '2689.35', '179.85', '6885.75', '220.75', '3019.5', '365.4', '2688.45', '225.85', '3139.8', '528.35', '395.6', '632.95', '24.45', '1776.45', '5236.4', '1259', '2745.7', '547.8', '1013.6', '4801.1', '44.1', '4692.55', '7209', '7732.65', '7674.55', '2178.6', '553', '1889.5', '1189.9', '266.8', '661.55', '6392.85', '7379.8', '4414.3', '950.75', '2319.8', '2326.05', '1312.15', '19.3', '5283.95', '1759.4', '684.05', '717.3', '947.3', '1429.65', '158.95', '248.4', '1642.75', '2425.4', '5936.55', '324.25', '360.1', '319.85', '2088.05', '72.1', '4459.15', '831.75', '1021.55', '3119.9', '391.7', '1268.85', '4888.2', '377.85', '970.45', '1809.35', '1683.7', '1218.55', '2909.95', '1114.55', '6398.05', '308.05', '180.25', '6397.6', '55.3', '19.45', '226.45', '1401.4', '147.55', '43.15', '34.75', '6841.45', '155.8', '2424.05', '6613.65', '631.4', '5941.05', '2434.45', '1172.95', '3371', '7365.7', '3066.45', '573.15', '69.4', '563.5', '3361.05', '103.7', '1958.95', '7707.7', '217.5', '308.25', '1842.7', '1857.75', '957.1', '152.45', '1261.35', '1441.8', '3096.9', '235.65', '702.9', '1188.25', '931.55', '2790.65', '4620.4', '2878.55', '5127.95', '6994.8', '3160.55', '227.45', '914.4', '1521.2', '233.65', '399.6', '111.65', '235.05', '6668.35', '724.65', '2364', '1035.7', '2356.75', '7713.55', '6849.4', '7051.95', '196.15', '3923.8', '3251.85', '168.9', '4730.9', '161.95', '4641.1', '1188.2', '810.45', '1414.65', '842.25', '1462.6', '45.65', '1033.95', '80.95', '3894.4', '4997.5', '1483.25', '6411.25', '1215.45', '161.5', '5139.65', '8033.1', '5232.9', '70', '966.25', '251.25', '316.2', '4213.35', '3237.05', '419.7', '2868.05', '639.45', '847.8', '1502.65', '1669.4', '3334.9', '1546.3', '1178.75', '58.9', '1356.7', '4749.15', '840.1', '1654.75', '3254.35', '1118.8', '1497.9', '7132.15', '219.5', '3008.55', '1588.25', '273.25', '6816.95', '100.9', '1369.8', '2845.15', '5193.2', '76.35', '6851.65', '4039.5', '34.7', '6792.45', '341.6', '1553.2', '4811.6', '460.2', '1834.95', '218.5', '1886.25', '6239.05', '5749.8', '811.8', '756.4', '7930.55', '4126.2', '270.8', '7472.15', '57.4', '5985', '3474.2', '5999.85', '1411.2', '7689.8', '4442.75', '6989.45', '7521.95', '73.05', '7447.7', '494.05', '1093.2', '2651.2', '266.9', '4861.45', '85.45', '356.15', '84.75', '280.85', '7467.55', '2545.7', '3532.85', '93.7', '1688.9', '518.9', '3948.45', '21.1', '3132.75', '3946.9', '449.3', '1448.8', '2031.95', '1093', '399.45', '1725', '1846.65', '467.5', '94', '1269.1', '107.25', '1164.05', '574.35', '5124.55', '1654.85', '33.6', '1882.8', '220.45', '3608', '229.6', '2954.5', '41.85', '2731', '3047.15', '3157', '299.4', '7133.45', '4874.7', '387.9', '3808.2', '524.5', '1087.7', '4264.25', '673.2', '279.25', '20.5', '1056.95', '680.05', '313', '5437.1', '2460.15', '7210.85', '1505.45', '83.4', '4639.45', '147.8', '1686.15', '1758.6', '3715.65', '169.05', '1444.05', '174.7', '160.75', '2210.2', '406.05', '178.5', '6396.45', '540.05', '1322.55', '978.6', '8289.2', '77.15', '5924.4', '2239.4', '5481.25', '4303.65', '8035.95', '292.85', '199.45', '7061.65', '4690.65', '3454.6', '2754.45', '5450.7', '215.8', '1769.6', '47.95', '34.8', '818.45', '779.2', '1496.45', '689.75', '289.1', '37.2', '75.45', '6941.2', '1447.9', '5784.3', '19.25', '6951.15', '7746.7', '326.65', '928.4', '203.95', '4872.45', '80.3', '3175.85', '2572.95', '1396.9', '46.2', '8248.5', '3835.55', '5405.8', '4735.35', '58.85', '3180.5', '3437.45', '2227.8', '3217.55', '1482.3', '316.9', '4515.85', '865', '73.55', '6365.35', '6981.35', '4839.15', '5515.8', '1315', '3582.4', '6873.75', '163.6', '601.6', '855.1', '5979.7', '85.05', '555.4', '242.05', '315.3', '465.7', '3565.65', '1133.65', '370.4', '5440.9', '45.35', '692.1', '1493.75', '827.05', '3729.6', '1115.2', '3784', '3365.4', '4740', '4718.25', '851.75', '815.5', '73', '1111.2', '5549.4', '75.3', '3403.4', '101.45', '2570', '627.4', '2607.6', '78.05', '96.8', '1308.1', '4299.95', '488.65', '1315.35', '1311.3', '6683.4', '6725.3', '2952.85', '467.55', '573.3', '1783.6', '123.65', '31.9', '7984.15', '1837.7', '250.1', '938.65', '4798.4', '3058.65', '1687.95', '7240.65', '8078.1', '2139.1', '1982.6', '330.6', '1492.1', '635.9', '1993.25', '5686.4', '2289.9', '712.75', '6518.35', '190.5', '981.45', '1422.65', '7475.1', '552.65', '3548.3', '176.2', '857.8', '120.25', '1980.3', '44.9', '2413.05', '6689', '6424.7', '418.8', '5468.95', '1334.5', '49.65', '193.05', '268.35', '1411.35', '597.9', '334.65', '1394.55', '35.1', '3486.65', '655.85', '5595.3', '1341.5', '1205.5', '727.85', '4188.4', '1110.05', '7069.3', '1415', '4149.45', '2888.7', '4653.85', '1581.95', '165.5', '108.7', '1849.2', '512.25', '5555.3', '543.8', '2483.5', '1374.35', '414.1', '820.5', '673.25', '165', '1940.8', '536.4', '949.8', '5692.65', '4079.55', '3478.15', '1857.85', '1079.05', '1830.1', '7459.05', '6152.3', '7142.5', '235', '684.4', '94.6', '609.9', '295.65', '2878.75', '3600.65', '369.1', '345.5', '4456.65', '6179.35', '1117.55', '2010.55', '195.65', '1008.7', '1929.95', '4535.85', '1240.25', '5212.65', '5566.4', '461.7', '1195.95', '487.95', '29.15', '5744.35', '6880.85', '460.25', '489.45', '1177.05', '444.75', '475.2', '1689.45', '3483.45', '1570.7', '416.4', '1573.05', '4214.25', '1537.85', '3791.6', '3264.5', '7548.6', '610.2', '6341.45', '5231.3', '19.75', '1021.75', '302.35', '3297', '458.1', '265.45', '3930.55', '606.55', '921.3', '1882.55', '485.25', '5265.1', '2602.9', '611.65', '5174.35', '6555.2', '411.75', '1108.2', '1039.45', '309.35', '734.35', '683.25', '70.8', '1471.75', '1120.3', '167.5', '4915.15', '781.4', '5431.9', '309.1', '44.7', '109.3', '1952.25', '118.4', '177.4', '876.15', '3467', '49.3', '1077.5', '7288.4', '20.3', '5779.6', '2316.85', '1031.7', '2016.3', '8399.15', '3147.15', '2655.25', '35', '6713.2', '3721.9', '5769.6', '1715.65', '1680.25', '5435', '3003.55', '356.65', '999.8', '532.1', '954.9', '2679.7', '1329.2', '4594.65', '3720.35', '2917.65', '8312.75', '615.35', '3092.65', '5925.75', '4808.7', '758.6', '387.4', '805.2', '157.65', '2989.6', '794.25', '4872.2', '6937.95', '1614.2', '521.1', '7854.15', '3988.5', '3457.9', '131.05', '7789.6', '3958.2', '2479.05', '2024.1', '967.9', '5483.9', '3887.85', '4390.25', '3512.5', '436.6', '601.55', '4487.3', '7031.45', '542.4', '5514.95', '645.8', '531', '2119.5', '85.8', '1868.4', '5535.8', '586.05', '19.5', '1931.75', '1210.3', '554.25', '609.65', '4805.65', '31.35', '6563.4', '990.3', '314.95', '1359.7', '3906.7', '2062.15', '646.05', '1411.9', '5251.75', '4422.95', '1461.15', '78.9', '5560', '139.4', '926', '3778', '470', '451.55', '381.3', '471.55', '4917.75', '867.3', '1620.25', '529.8', '20.4', '217.1', '685.55', '1183.2', '6281.45', '6297.65', '1355.45', '3186.7', '3645.6', '5528.9', '1798.9', '679.55', '3355.65', '1549.75', '6435.25', '6936.85', '413.25', '3541.35', '210.65', '6185.8', '1783.75', '516.3', '3043.6', '214.75', '3384', '1042.65', '480.75', '63.75', '1322.85', '1221.55', '2212.55', '1376.5', '2627.35', '953.65', '3645.05', '206.6', '723.35', '196.9', '3229.4', '4513.65', '333.6', '3653.35', '8182.85', '4415.75', '80.25', '468.35', '3409.6', '7107', '1664.3', '849.1', '5730.7', '1509.8', '6503.2', '1799.3', '174.8', '2335.3', '1158.85', '2448.75', '6145.85', '4871.45', '3754.6', '7634.25', '216.75', '1233.15', '6448.05', '6339.45', '2023.55', '1734.65', '4884.85', '678.75', '2136.9', '6549.45', '3238.4', '428.7', '1573.95', '1269.6', '2088.75', '5032.25', '4863.85', '6700.05', '909.25', '5646.6', '340.4', '5231.2', '1110.35', '2044.95', '5453.4', '4398.15', '141.1', '111.05', '470.2', '8477.6', '2444.25', '825.7', '4107.3', '4245.55', '7382.25', '5500.6', '990.9', '1021.8', '1234.6', '3043.7', '4733.1', '261.65', '8456.75', '1177.95', '3638.25', '3084.9', '1790.6', '43.95', '1016.7', '1709.1', '896.9', '481.1', '666', '1901', '5610.15', '124.45', '7665.8', '3236.35', '6383.35', '3273.95', '683.75', '2192.9', '234.85', '154.65', '4932.5', '2723.15', '6557.75', '1388', '4039.3', '1026.35', '434.5', '8016.6', '19.15', '1357.1', '60.15', '329.75', '647.5', '151.75', '1558.7', '6925.9', '2606.35', '2459.8', '6735.05', '2010.95', '1336.35', '198.1', '6994.6', '933.3', '185.4', '440.2', '4179.2', '546.85', '852.7', '88.8', '2960.1', '19.55', '2077.95', '6841.05', '1565.7', '6042.7', '3815.4', '1233.4', '6096.9', '155.9', '294.5', '134.75', '2054.4', '5224.35', '2157.3', '5791.1', '4993.4', '4318.35', '3953.7', '5165.7', '7782.85', '609.1', '305.1', '7544', '3058.15', '1148.1', '3603.45', '226.8', '7030.65', '5617.75', '2628.6', '1699.15', '7082.5', '2807.65', '5025.8', '24.8', '524.35', '1498.85', '971.3', '168.15', '5683.6', '1001.5', '7711.25', '5878.9', '7875', ' ', '511.25', '7297.75', '916', '784.45', '2347.9', '74.35', '129.55', '80.2', '3529.95', '677.9', '1540.2', '394.1', '5914.4', '1587.55', '1414.45', '4941.8', '1459.35', '1465.75', '415.95', '3382.3', '1509.9', '3954.1', '5607.75', '3089.6', '96.85', '1058.1', '3629.2', '4949.1', '1489.3', '3952.65', '61.7', '2331.3', '265.75', '1752.45', '2841.55', '4890.5', '8192.6', '4859.25', '1345.85', '659.45', '1740.8', '4449.75', '1024', '7723.9', '4113.1', '5000.05', '7548.1', '1825.5', '82.85', '1346.2', '2995.45', '145', '929.2', '6418.9', '1490.4', '5135.35', '1313.25', '6876.05', '2416.1', '3512.9', '4448.8', '137.85', '1747.2', '2065.4', '149.05', '4819.75', '1879.25', '7843.55', '189.2', '2548.55', '662.95', '780.15', '930.45', '1221.65', '2566.3', '592.65', '576.95', '1068.15', '887.35', '113.1', '2719.2', '527.35', '387.7', '689.35', '44.45', '5084.65', '69.75', '2200.7', '239.05', '57.2', '777.35', '1790.8', '641.25', '7396.15', '4834', '63', '147.75', '5824.75', '173', '224.85', '4539.6', '3024.15', '1023.85', '7049.75', '1072.6', '3899.05', '88.35', '443.9', '3342.45', '1222.65', '7266.95', '3836.3', '5317.8', '6993.65', '5629.15', '521', '860.85', '70.9', '914.3', '1880.85', '7559.55', '209.1', '2830.45', '522.95', '2791.5', '6132.7', '1111.65', '4674.4', '3340.55', '1380.1', '39.8', '1745.5', '6223.3', '457.3', '2184.85', '1046.5', '139.35', '344.5', '294.45', '6526.65', '1151.05', '87.9', '40.25', '112.75', '1548.65', '810.3', '1252', '2901.8', '2861.45', '3810.8', '926.2', '450.65', '5233.25', '5356.45', '267.35', '2576.8', '5553.25', '880.05', '1287.85', '24', '6382', '6322.1', '1756.2', '1474.35', '3270.25', '1311.6', '5497.05', '1432.55', '846.8', '866.4', '1971.5', '79.35', '47.5', '1014.25', '3169.55', '6153.85', '1529.45', '136.05', '2554', '1094.5', '5427.05', '3165.6', '1423.05', '593.75', '6603', '5848.6', '562.6', '625.65', '5411.65', '738.2', '6668', '875.55', '49.05', '2111.3', '832.3', '374', '466.6', '2549.1', '45.25', '950.2', '5997.1', '272.35', '1379.8', '600', '7133.1', '264.8', '1778.5', '3183.4', '3834.4', '313.6', '3845.45', '279.5', '45.85', '1139.2', '654.5', '4855.35', '398.55', '3460.3', '189.45', '1340.1', '5043.2', '2961.4', '168.65', '1451.6', '5511.65', '1505.9', '1696.2', '2106.3', '168.6', '7767.25', '1138.8', '1901.65', '6157.6', '2688.85', '608.8', '845.25', '220.95', '1312.45', '6018.65', '6758.45', '5898.6', '1424.6', '3353.4', '5918.8', '768.05', '7110.75', '50.35', '3030.6', '8065.65', '4234.15', '6201.95', '5717.85', '49.8', '433.75', '275.4', '870.25', '130.15', '4284.2', '6860.6', '184.95', '3068.6', '2540.1', '5986.45', '3249.4', '4133.95', '902', '44.15', '943.1', '1275.85', '1165.55', '3913.3', '2011.4', '1425.45', '2898.95', '5347.95', '272.95', '106.8', '186.15', '95.05', '5839.3', '6017.9', '106.2', '252', '864.2', '3574.5', '2435.15', '2274.9', '76.4', '111.4', '892.7', '164.6', '1343.4', '4092.85', '70.3', '958.15', '828.85', '4265', '520.55', '4459.8', '330.25', '595.05', '3306.85', '886.7', '151.3', '1841.2', '571.45', '2383.6', '4386.2', '1152.8', '171.15', '970.85', '4759.55', '7082.45', '952.3', '1553.9', '3627.3', '2673.45', '116.85', '3219.75', '533.5', '321.4', '1732.6', '418.25', '221.7', '4747.2', '68.8', '1601.5', '713', '917.15', '339.9', '1938.05', '1838.15', '2564.95', '4187.75', '1011.8', '1867.6', '1160.45', '95.6', '6227.5', '167.2', '32.7', '502.6', '2351.45', '1267.95', '1048.85', '676.7', '45.8', '5610.25', '990.85', '1131.2', '5703', '6754.35', '5550.1', '50.15', '355.1', '85.55', '39.65', '3330.1', '890.35', '7942.15', '1008.55', '4674.55', '170.5', '815.55', '551.35', '228', '679.3', '3313.4', '3211.2', '216.45', '4786.15', '6215.35', '7129.45', '1273.3', '1205.05', '7446.9', '1742.75', '3042.25', '2545.75', '412.6', '1419.4', '477.55', '1275.65', '1595.5', '446.8', '599.25', '90.6', '202.9', '6219.6', '310.6', '50.75', '228.65', '51.25', '343.45', '3327.05', '1539.45', '365.8', '875.35', '1660', '129.15', '6856.95', '2911.5', '1505.85', '2763.35', '1327.15', '8058.85', '313.45', '184.1', '3753.2', '5388.15', '237.7', '2018.4', '5950.2', '6976.75', '773.65', '723.4', '3419.5', '7482.1', '425.9', '2427.35', '1125.6', '45.2', '2621.75', '7156.2', '2588.95', '2096.1', '95.85', '400', '214.4', '558.8', '4136.4', '518.3', '59.55', '1413', '1679.4', '4312.5', '4326.25', '270.95', '967.85', '3838.2', '2072.75', '1873.7', '851.2', '1081.45', '8312.4', '7112.15', '2282.95', '3808', '864.55', '551.95', '75.6', '1504.05', '29.7', '842.9', '50.9', '2303.35', '184.65', '1983.15', '663.55', '1397.65', '3124.5', '6058.95', '5669.5', '5067.45', '338.1', '4122.65', '2867.75', '222.65', '7325.1', '1821.8', '246.3', '1936.85', '6579.05', '445.95', '749.25', '7195.35', '1743.9', '317.25', '1345.75', '72.4', '2879.9', '1043.35', '707.5', '5301.1', '1023.95', '2510.2', '1654.45', '1377.7', '2034.25', '1406', '6875.35', '5963.95', '318.9', '1434.1', '4345', '418.4', '1390.6', '8182.75', '6733', '1864.65', '572.45', '834.15', '153.95', '4145.9', '898.35', '2530.4', '1912.15', '7904.25', '1137.05', '2708.2', '220.65', '3420.5', '6595', '1266.35', '251.6', '2409.9', '69.25', '1119.9', '412.1', '4995.35', '1264.2', '6871.7', '6130.95', '4748.7', '4456.35', '2965.75', '2122.05', '253', '893', '495.15', '1128.1', '2387.75', '990.45', '955.6', '892.65', '1363.45', '6521.9', '2406.1', '244.85', '452.2', '6311.2', '4939.25', '1224.05', '86.6', '78.95', '1416.75', '1454.15', '613.4', '4707.1', '7234.8', '3085.35', '857.2', '91.1', '4991.5', '108.95', '3019.7', '6293.2', '28.3', '4447.75', '791.7', '4063', '4509.5', '78.8', '1861.5', '370.65', '4428.45', '2221.55', '2597.6', '1245.6', '856.35', '3121.45', '2354.8', '2782.4', '1074.3', '180.7', '68.75', '1765.95', '169.65', '5270.6', '275.9', '2117.2', '3778.2', '824.75', '3346.8', '130.5', '3351.55', '3877.65', '1133.7', '1114.85', '5812', '2058.5', '5238.9', '1842.8', '2151.6', '4492.9', '827.45', '3207.55', '8196.4', '372.45', '1384.75', '1559.25', '3092', '3842.6', '797.1', '751.65', '8126.65', '5468.45', '5598.3', '1296.8', '1436.95', '2231.05', '1544.05', '1441.95', '1630.4', '2553.7', '3883.3', '6463.15', '193.6', '2647.1', '4458.15', '3521.7', '5348.65', '454', '83.75', '24.75', '770.5', '319.15', '2264.05', '2698.35', '146.3', '181.7', '434.1', '1263.85', '58.3', '3562.5', '197.4', '293.65', '4475.9', '789.55', '620.75', '545.2', '727.8', '927.35', '1082.8', '2414.55', '3233.85', '617.85', '2522.4', '6078.75', '451.1', '2006.95', '8331.95', '1020.2', '63.6', '96.45', '7085.5', '3650.35', '269.65', '1151.55', '2832.75', '1067.05', '6079', '169.75', '3462.1', '469.85', '1325.85', '622.9', '6716.45', '7943.45', '6069.25', '1208.6', '906.85', '693.45', '5825.5', '2172.05', '402.85', '1245.05', '5118.95', '4036.85', '2003.6', '1406.9', '6077.75', '6127.6', '162.3', '3273.55', '762.5', '7251.9', '1309', '5737.6', '1261.7', '463.05', '1288.75', '159.4', '402.5', '6565.85', '6819.45', '331.3', '61.35', '868.1', '629.55', '1498.65', '2657.55', '239', '79.8', '49.75', '998.1', '497.3', '6066.55', '4667', '1236.15', '573.05', '3415.25', '1378.45', '617.15', '1676.95', '1993.8', '250.05', '3055.5', '678.2', '178.85', '798.2', '5598', '832.05', '786.5', '865.85', '1217.25', '283.95', '6589.6', '3121.4', '653.9', '1621.35', '46.4', '1226.45', '1165.9', '3045.75', '746.75', '5956.85', '225.65', '6747.35', '18.9', '232.35', '159.15', '497.55', '3949.15', '541.5', '1244.8', '25.35', '56.25', '445.3', '6256.2', '115.95', '371.4', '5774.55', '50.05', '7542.25', '6471.85', '1673.4', '53.15', '1066.9', '943.85', '5083.55', '5750', '927.1', '4103.9', '422.7', '4085.75', '174.2', '3371.75', '1931.3', '670.65', '3751.15', '7919.8', '6840.95', '1536.75', '8003.8', '1093.1', '48.45', '4220.35', '2283.15', '292.8', '5706.3', '1451.9', '357.15', '7168.25', '325.45', '347.65', '85.5', '658.95', '442.2', '973.1', '118.3', '1372.45', '816.8', '1662.05', '1132.75', '5785.5', '522.35', '2835.5', '4517.25', '5480.25', '411.15', '1336.65', '414.95', '790.15', '527.5', '7412.25', '178.7', '79.5', '1433.8', '1129.35', '1096.65', '79.55', '3744.05', '4613.95', '772.85', '7677.4', '1614.7', '3007.25', '1875.55', '2722.2', '1742.95', '378.6', '5893.15', '1970.5', '1004.5', '7854.9', '1553.95', '6744.2', '8297.5', '5025.85', '516.15', '6631.85', '152.3', '788.8', '403.35', '1625', '94.15', '84.3', '199.75', '4917.9', '5036.9', '172.35', '358.5', '340.35', '1992.95', '433.5', '4146.05', '4375.8', '3275.15', '3653', '1222.8', '311.6', '1654.6', '432.5', '593.45', '2753.8', '905.55', '1175.85', '5760.65', '1336.9', '226.55', '2272.8', '2169.4', '130.55', '482.8', '4473.45', '1835.3', '471.85', '3326.2', '629.35', '5815.15', '2896.4', '2431.35', '1402.25', '607.3', '767.55', '84.6', '44.55', '270.7', '3794.5', '135', '644.35', '5029.05', '526.7', '501', '48.95', '995.35', '3029.1', '223.15', '6143.15', '1470.95', '86', '1319.95', '520.95', '702', '1051.9', '862.4', '1745.2', '45.15', '89.25', '2642.05', '1871.85', '4179.1', '1132.35', '521.8', '2320.8', '3782.4', '4346.4', '1258.35', '208.45', '1190.5', '341.35', '1266.4', '526.95', '44', '4018.05', '3349.1', '2208.05', '1363.25', '486.2', '8672.45', '908.75', '702.05', '1974.8', '4657.95', '241.3', '333.65', '3342', '3865.45', '4765', '6597.25', '3479.05', '529.5', '571.75', '1296.15', '405.7', '454.65', '174.65', '888.65', '1498.55', '7795.95', '514.75', '1600.95', '2884.9', '207.4', '1789.65', '4869.35', '4014.6', '5714.25', '249.55', '6859.5', '1533.8', '347.4', '1534.05', '6586.85', '44.8', '7082.85', '221.1', '2847.4', '61.15', '6093.3', '4981.15', '6126.15', '221.9', '8404.9', '2747.2', '1004.75', '7246.15', '2263.4', '3379.25', '190.05', '6886.25', '4807.45', '5329.55', '2538.2', '20.2', '3077', '970.55', '150.6', '2862.75', '1968.1', '1345.65', '2894.55', '606.25', '299.05', '754.5', '2248.05', '1592.35', '7882.5', '3566.6', '401.3', '1032.05', '701.3', '3134.7', '1070.5', '3775.85', '937.6', '857.75', '220.4', '1581.2', '1564.4', '3126.85', '4193.4', '7114.25', '6979.8', '1520.9', '8093.15', '76', '6511.25', '3512.15', '678.8', '6669.45', '2362.1', '285.2', '246.5', '788.35', '3090.05', '6293.45', '1964.6', '1088.25', '1424.5', '2470.1', '2633.3', '367.55', '1328.15', '6252.7', '746.5', '7322.5', '69.2', '224.5', '1454.25', '759.35', '3097', '4902.8', '2933.95', '2204.35', '8100.55', '1400.85', '231.8', '4237.5', '3767.4', '4264', '320.4', '270.15', '1888.25', '2249.95', '578.5', '235.8', '5153.5', '1092.35', '6109.75', '2983.65', '3251.3', '1209.25', '1643.55', '1916', '5129.45', '1111.85', '389.95', '832.35', '7113.75', '1049.05', '4543.95', '4541.2', '411.45', '4483.95', '6375.2', '208.25', '279.2', '5124.6', '6585.35', '1653.85', '1060.2', '2419.55', '2196.45', '122.9', '4916.95', '2683.2', '679', '394.85', '4577.9', '101.1', '113.85', '1147', '156.85', '560.6', '109.2', '4947.55', '1718.95', '1426.4', '5611.7', '92.05', '1424.95', '5069.65', '7159.7', '36.55', '1048.45', '89.55', '1554.9', '6989.7', '1359.5', '780.5', '253.8', '3634.8', '86.05', '2538.05', '3450.15', '5714.2', '4804.75', '7511.65', '8022.85', '1916.2', '401.95', '4554.85', '7895.15', '6393.65', '342.3', '392.65', '1348.9', '865.1', '4116.15', '973.65', '1615.1', '3105.55', '2344.5', '93.3', '6997.3', '6690.75', '1258.3', '2082.95', '5688.45', '2209.15', '1346.3', '3888.65', '4929.55', '1463.5', '168.2', '2333.05', '1208.35', '620.35', '3491.55', '4275.75', '1559.3', '392.5', '232.5', '521.9', '4443.45', '2970.8', '92.65', '1797.1', '903.8', '1269.55', '1453.1', '4226.7', '1170.5', '1004.35', '1600.25', '1776.55', '4447.55', '335.65', '46', '4211.55', '244.1', '152.95', '5930.05', '2680.15', '1336.15', '781.25', '741.4', '106.9', '590.35', '62.9', '105.5', '135.2', '116.95', '6046.1', '6137', '4370.75', '970.4', '1798.65', '5460.2', '2958.95', '6252.9', '3316.1', '140.7', '265.8', '95.65', '1162.85', '204.7', '4494.65', '3587.25', '6347.55', '116.6', '2715.3', '942.95', '2879.2', '4533.7', '4348.65', '4348.1', '324.15', '1888.45', '6185.15', '330.8', '8477.7', '4719.75', '2298.55', '5676.65', '1242.25', '7610.1', '71.15', '4551.5', '1309.15', '6293.75', '6652.45', '6511.8', '1781.35', '720.45', '167.3', '1752.65', '1908.35', '1764.75', '4228.55', '2033.85', '2447.95', '2108.35', '1540.35', '934.15', '6615.15', '69.1', '4284.8', '1493.55', '2664.3', '620.55', '5580.8', '109.6', '6585.2', '442.45', '58', '1679.65', '4860.35', '1709.15', '599.3', '6004.85', '706.85', '637.55', '582.5', '3762', '6825.65', '1298.7', '1439.35', '1086.75', '3876.2', '100.35', '24.7', '139.25', '819.4', '417.75', '20.25', '1147.45', '7382.85', '1836.25', '1045.25', '1957.1', '7511.3', '3457.45', '5163.3', '3688.6', '198', '215.25', '3198.6', '8310.55', '1047.7', '6328.7', '412.5', '1102.4', '6501.35', '1338.15', '2265', '36.45', '214.55', '6314.35', '6363.45', '609.05', '769.1', '161.15', '955.75', '1332.4', '4965', '5718.2', '1622.45', '2243.9', '3023.55', '70.6', '5567.45', '3874.1', '4903.2', '692.35', '1941.5', '7344.45', '71', '1274.45', '1327.4', '335.4', '390.4', '918.6', '3440.25', '1430.95', '559.2', '3765.05', '2937.65', '4549.05', '825.1', '7737.55', '4589.85', '284.9', '2076.2', '1087.25', '97.5', '1212.85', '2483.65', '135.75', '2728.6', '776.25', '404.35', '2799.75', '190.1', '6224.8', '2871.5', '4615.9', '3561.15', '1742.5', '369.3', '651.55', '4016.2', '2375.2', '137.95', '69.65', '5953', '488.25', '605.75', '1692.6', '355.9', '2441.7', '3343.15', '1005.7', '1170.55', '6171.2', '100.2', '1748.55', '108.15', '357.6', '2490.15', '2452.7', '8564.75', '371.65', '74.6', '2093.9', '780.25', '413.65', '1146.65', '20.05', '1275.6', '4238.45', '1547.35', '7806.6', '297.3', '1094.35', '4056.75', '4547.25', '2550.9', '2636.05', '669.45', '1580.1', '729.95', '1800.05', '2187.55', '2651.1', '4478.85', '7578.05', '1359.45', '5498.8', '349.8', '5011.15', '4684.3', '1525.35', '4236.6', '963.95', '4481', '2021.2', '42.7', '6110.2', '1928.7', '5846.65', '80.15', '2404.85', '1160.75', '2869.85', '5960.5', '159.2', '568.85', '232.1', '5764.7', '2019.8', '6891.4', '208.7', '1161.75', '3605.6', '4575.35', '595.5', '6038.55', '682.1', '1905.7', '207.35', '1193.05', '5194.05', '323.45', '2276.1', '1068.85', '1025.15', '4480.7', '1445.2', '223.6', '45.7', '4692.95', '359.4', '3801.7', '1374.9', '69.7', '5000.2', '6068.65', '2513.5', '1206.05', '1389.85', '1629.2', '1803.7', '1281', '514.6', '1195.25', '113.95', '1393.6', '1949.4', '424.45', '829.55', '1174.35', '6330.4', '5215.1', '4847.35', '6241.35', '459.6', '765.15', '2191.15', '7181.95', '4885.85', '4317.35', '2542.45', '2531.4', '3625.2', '2866.45', '4983.05', '7173.15', '5154.6', '999.9', '1229.1', '2028.8', '299.7', '3143.65', '966.55', '1556.85', '5948.7', '2697.4', '302.45', '3131.55', '4627.85', '2492.25', '3161.4', '8109.8', '4759.85', '55.2', '8349.7', '90.75', '2043.45', '1725.95', '638.55', '267.4', '834.1', '1929.35', '4862.5', '1734.5', '2287.25', '1973.75', '7852.4', '1293.8', '658.1', '3952.45', '908.15', '914.6', '1200.15', '1777.6', '1218.25', '1364.3', '1494.5', '1756.6', '6449.15', '2625.25', '624.6', '567.8', '6562.9', '1554', '4889.3', '18.85', '3861.45', '560.85', '204.55', '812.4', '4040.65', '1027.25', '4576.3', '4677.1', '24.05', '3975.9', '944.65', '1231.85', '953.45', '2078.95', '483.7', '5099.15', '6812.95', '638', '94.45', '528.45', '1294.6', '1779.95', '59.85', '4528', '3969.35', '3795.45', '382.8', '52.05', '1611.65', '4454.25', '112.3', '1912.85', '5401.9', '7589.8', '2555.05', '3437.5', '700.85', '229.4', '3187.65', '6590.5', '3617.1', '6375.8', '916.9', '144.55', '2407.3', '1308.4', '5522.7', '4964.7', '612.1', '6368.2', '2309.55', '4820.55', '5135.15', '2583.75', '869.9', '358.15', '6474.4', '2191.7', '3358.65', '8220.4', '6794.75', '5471.75', '4070.95', '156.25', '75.05', '161.65', '5138.1', '3121.1', '5655.45', '268.4', '45.95', '1389.6', '6448.85', '81.25', '3094.65', '993.15', '669', '1302.65', '336.7', '577.15', '3000.25', '2424.5', '3726.15', '778.1', '3771.5', '417.7', '8468.2', '2381.55', '2088.8', '1134.25', '2343.85', '248.95', '1872.2', '5237.4', '1057.85', '1403.1', '2537', '973.45', '4859.95', '6985.65', '5957.9', '2806.9', '1513.6', '4985.9', '307.4', '633.85', '318.5', '2302.35', '343.6', '5965.95', '251.65', '4664.15', '1641.8', '6827.5', '3027.4', '3231.05', '3413.25', '3593.8', '5916.95', '4685.55', '273.4', '2312.55', '3520.75', '2587.7', '923.1', '6139.5', '4523.25', '3444.85', '4984.85', '1253.15', '576.7', '2369.3', '94.55', '4119.4', '1126.75', '4519.5', '979.05', '1174.8', '989.45', '2727.3', '239.55', '300.4', '24.6', '89.1', '5763.3', '2245.4', '4653.25', '4217.8', '5755.8', '4916.4', '483.3', '1948.35', '3480.35', '534.7', '745.3', '164.85', '4018.35', '1370.35', '916.15', '1951', '5411.4', '5597.65', '1404.65', '3334.95', '49.85', '428.45', '2094.65', '1468.9', '4784.45', '1971.15', '962.9', '5037.55', '6889.8', '85', '44.95', '79.7', '4600.7', '212.3', '353.65', '222.3', '2511.55', '6603.8', '165.45', '1923.5', '114.15', '6194.1', '471.7', '262.05', '106.55', '68.35', '4680.05', '201', '1618.2', '2555.9', '3103.25', '1108.6', '1052.35', '1081.25', '5608.4', '1210.4', '4003.85', '552.9', '1009.25', '936.7', '7581.5', '3110.1', '1837.9', '2660.2', '1956.4', '6424.25', '605.9', '2893.4', '1388.75', '200.2', '455.5', '4155.95', '4671.65', '1601.2', '2068.55', '156.4', '1386.8', '5882.75', '102.75', '5624.85', '6263.8', '4364.1', '1001.2', '4287.2', '497.6', '2796.45', '1285.05', '617.35', '1714.55', '433.95', '1826.7', '180.3', '184.4', '1545.4', '276.5', '6033.3', '949.85', '1818.3', '3265.95', '3274.35', '4563', '876.75', '6891.45', '142.35', '2324.7', '838.5', '1385.85', '5873.75', '4616.05', '4911.05', '741', '4977.2', '523.5', '899.45', '73.6', '385', '1195.75', '3496.3', '2839.95', '3571.6', '242.8', '865.55', '1331.05', '364.55', '1775.8', '2215', '4134.7', '69.15', '295.55', '3789.2', '817.95', '1041.8', '49.55', '541.9', '2654.05', '690.5', '1164.3', '3152.5', '518.75', '3588.4', '548.8', '2149.05', '2838.55', '453.4', '1852.85', '1750.85', '835.15', '3778.1', '6843.15', '4729.3', '404.2', '1013.05', '299.3', '1559.45', '5903.15', '8496.7', '397', '865.05', '3357.9', '69.55', '1527.35', '2681.15', '138.85', '77.75', '935.9', '1145.7', '226.2', '2157.95', '357.75', '1184', '1864.2', '1146.05', '220.35', '493.95', '1029.8', '181.1', '3145.15', '3062.45', '348.15', '608', '1321.3', '4812.75', '3014.65', '2897.95', '5536.5', '1317.95', '438.9', '755.4', '616.9', '6129.2', '7537.5', '5430.65', '2998', '82.9', '424.75', '746.05', '6309.65', '5959.3', '7898.45', '583', '70.05', '4837.6', '1398.25', '1505.15', '2546.85', '50.6', '247.25', '2104.55', '837.95', '1500.5', '2347.85', '4619.55', '749.35', '369.15', '4192.15', '65.95', '921.4', '70.65', '256.25', '258.35', '482.25', '62.25', '3624.35', '1474.9', '171', '319.6', '6039.9', '1274.05', '5321.25', '7985.9', '301.4', '2293.6', '839.65', '450.4', '4634.35', '890.5', '6401.25', '280', '1216.35', '1608.15', '2015.8', '231.45', '85.15', '1515.1', '1566.75', '1297.8', '292.4', '2443.3', '5602.25'}\n",
      "\n",
      "************************ Churn ************************\n",
      "\n",
      "{0, 1}\n",
      "\n"
     ]
    }
   ],
   "source": [
    "for i in cust_churn.columns:\n",
    "    print('************************',i,'************************')\n",
    "    print()\n",
    "    print(set(cust_churn[i].tolist()))\n",
    "    print()"
   ]
  },
  {
   "cell_type": "code",
   "execution_count": 117,
   "id": "734f4f33-9bca-4366-a99f-5e6e59716de1",
   "metadata": {},
   "outputs": [],
   "source": [
    "cust_churn['TotalCharges']=cust_churn.TotalCharges.replace(' ',np.nan)"
   ]
  },
  {
   "cell_type": "code",
   "execution_count": 118,
   "id": "c22161d4-d43d-4c53-ab85-34349a687a8c",
   "metadata": {
    "scrolled": true
   },
   "outputs": [
    {
     "data": {
      "text/plain": [
       "11"
      ]
     },
     "execution_count": 118,
     "metadata": {},
     "output_type": "execute_result"
    }
   ],
   "source": [
    "cust_churn['TotalCharges'].isnull().sum()"
   ]
  },
  {
   "cell_type": "code",
   "execution_count": 119,
   "id": "3a0b7008-03a9-48f8-8a51-64171af554f2",
   "metadata": {},
   "outputs": [
    {
     "data": {
      "text/plain": [
       "'20.2'"
      ]
     },
     "execution_count": 119,
     "metadata": {},
     "output_type": "execute_result"
    }
   ],
   "source": [
    "cust_churn['TotalCharges'].mode()[0]"
   ]
  },
  {
   "cell_type": "code",
   "execution_count": 120,
   "id": "65fad9ba-1f59-4e97-ad44-b597ef030368",
   "metadata": {},
   "outputs": [],
   "source": [
    "cust_churn['TotalCharges']=cust_churn.TotalCharges.fillna('20.2')"
   ]
  },
  {
   "cell_type": "code",
   "execution_count": 121,
   "id": "8af0d353-ab50-4d6b-af02-c5dea508f0e1",
   "metadata": {},
   "outputs": [],
   "source": [
    "cust_churn['TotalCharges']=cust_churn['TotalCharges'].astype('float64')"
   ]
  },
  {
   "cell_type": "code",
   "execution_count": 122,
   "id": "9e97533d-40d8-4191-9a9e-4134dbfb1156",
   "metadata": {},
   "outputs": [
    {
     "name": "stdout",
     "output_type": "stream",
     "text": [
      "<class 'pandas.core.frame.DataFrame'>\n",
      "RangeIndex: 7043 entries, 0 to 7042\n",
      "Data columns (total 21 columns):\n",
      " #   Column            Non-Null Count  Dtype  \n",
      "---  ------            --------------  -----  \n",
      " 0   customerID        7043 non-null   object \n",
      " 1   gender            7043 non-null   object \n",
      " 2   SeniorCitizen     7043 non-null   int64  \n",
      " 3   Partner           7043 non-null   object \n",
      " 4   Dependents        7043 non-null   object \n",
      " 5   tenure            7043 non-null   int64  \n",
      " 6   PhoneService      7043 non-null   object \n",
      " 7   MultipleLines     7043 non-null   object \n",
      " 8   InternetService   7043 non-null   object \n",
      " 9   OnlineSecurity    7043 non-null   object \n",
      " 10  OnlineBackup      7043 non-null   object \n",
      " 11  DeviceProtection  7043 non-null   object \n",
      " 12  TechSupport       7043 non-null   object \n",
      " 13  StreamingTV       7043 non-null   object \n",
      " 14  StreamingMovies   7043 non-null   object \n",
      " 15  Contract          7043 non-null   object \n",
      " 16  PaperlessBilling  7043 non-null   object \n",
      " 17  PaymentMethod     7043 non-null   object \n",
      " 18  MonthlyCharges    7043 non-null   float64\n",
      " 19  TotalCharges      7043 non-null   float64\n",
      " 20  Churn             7043 non-null   int64  \n",
      "dtypes: float64(2), int64(3), object(16)\n",
      "memory usage: 1.1+ MB\n"
     ]
    }
   ],
   "source": [
    "cust_churn.info()"
   ]
  },
  {
   "cell_type": "code",
   "execution_count": 123,
   "id": "2246f5e5-2771-4ae4-84fc-40b99420aee8",
   "metadata": {},
   "outputs": [],
   "source": [
    "cust_churn.drop(columns=['customerID'],inplace=True)"
   ]
  },
  {
   "cell_type": "code",
   "execution_count": 124,
   "id": "d247fbcd-f7ea-4738-b2aa-cffd6f658cbe",
   "metadata": {},
   "outputs": [],
   "source": [
    "cust_churn=pd.get_dummies(cust_churn,\n",
    "                          columns=['gender','Partner','Dependents','PhoneService',\n",
    "                                  'MultipleLines', 'InternetService',\n",
    "       'OnlineSecurity', 'OnlineBackup', 'DeviceProtection', 'TechSupport',\n",
    "       'StreamingTV', 'StreamingMovies', 'Contract', 'PaperlessBilling',\n",
    "       'PaymentMethod'],\n",
    "                          drop_first=True,dtype='int64')"
   ]
  },
  {
   "cell_type": "code",
   "execution_count": 125,
   "id": "9c96dfc3-a729-4382-be51-0a365acfd4b5",
   "metadata": {},
   "outputs": [
    {
     "name": "stdout",
     "output_type": "stream",
     "text": [
      "<class 'pandas.core.frame.DataFrame'>\n",
      "RangeIndex: 7043 entries, 0 to 7042\n",
      "Data columns (total 31 columns):\n",
      " #   Column                                 Non-Null Count  Dtype  \n",
      "---  ------                                 --------------  -----  \n",
      " 0   SeniorCitizen                          7043 non-null   int64  \n",
      " 1   tenure                                 7043 non-null   int64  \n",
      " 2   MonthlyCharges                         7043 non-null   float64\n",
      " 3   TotalCharges                           7043 non-null   float64\n",
      " 4   Churn                                  7043 non-null   int64  \n",
      " 5   gender_Male                            7043 non-null   int64  \n",
      " 6   Partner_Yes                            7043 non-null   int64  \n",
      " 7   Dependents_Yes                         7043 non-null   int64  \n",
      " 8   PhoneService_Yes                       7043 non-null   int64  \n",
      " 9   MultipleLines_No phone service         7043 non-null   int64  \n",
      " 10  MultipleLines_Yes                      7043 non-null   int64  \n",
      " 11  InternetService_Fiber optic            7043 non-null   int64  \n",
      " 12  InternetService_No                     7043 non-null   int64  \n",
      " 13  OnlineSecurity_No internet service     7043 non-null   int64  \n",
      " 14  OnlineSecurity_Yes                     7043 non-null   int64  \n",
      " 15  OnlineBackup_No internet service       7043 non-null   int64  \n",
      " 16  OnlineBackup_Yes                       7043 non-null   int64  \n",
      " 17  DeviceProtection_No internet service   7043 non-null   int64  \n",
      " 18  DeviceProtection_Yes                   7043 non-null   int64  \n",
      " 19  TechSupport_No internet service        7043 non-null   int64  \n",
      " 20  TechSupport_Yes                        7043 non-null   int64  \n",
      " 21  StreamingTV_No internet service        7043 non-null   int64  \n",
      " 22  StreamingTV_Yes                        7043 non-null   int64  \n",
      " 23  StreamingMovies_No internet service    7043 non-null   int64  \n",
      " 24  StreamingMovies_Yes                    7043 non-null   int64  \n",
      " 25  Contract_One year                      7043 non-null   int64  \n",
      " 26  Contract_Two year                      7043 non-null   int64  \n",
      " 27  PaperlessBilling_Yes                   7043 non-null   int64  \n",
      " 28  PaymentMethod_Credit card (automatic)  7043 non-null   int64  \n",
      " 29  PaymentMethod_Electronic check         7043 non-null   int64  \n",
      " 30  PaymentMethod_Mailed check             7043 non-null   int64  \n",
      "dtypes: float64(2), int64(29)\n",
      "memory usage: 1.7 MB\n"
     ]
    }
   ],
   "source": [
    "cust_churn.info()"
   ]
  },
  {
   "cell_type": "code",
   "execution_count": 126,
   "id": "1a6a499c-815b-446a-8fe9-99964aa0c2f2",
   "metadata": {},
   "outputs": [
    {
     "data": {
      "text/html": [
       "<div>\n",
       "<style scoped>\n",
       "    .dataframe tbody tr th:only-of-type {\n",
       "        vertical-align: middle;\n",
       "    }\n",
       "\n",
       "    .dataframe tbody tr th {\n",
       "        vertical-align: top;\n",
       "    }\n",
       "\n",
       "    .dataframe thead th {\n",
       "        text-align: right;\n",
       "    }\n",
       "</style>\n",
       "<table border=\"1\" class=\"dataframe\">\n",
       "  <thead>\n",
       "    <tr style=\"text-align: right;\">\n",
       "      <th></th>\n",
       "      <th>SeniorCitizen</th>\n",
       "      <th>tenure</th>\n",
       "      <th>MonthlyCharges</th>\n",
       "      <th>TotalCharges</th>\n",
       "      <th>Churn</th>\n",
       "      <th>gender_Male</th>\n",
       "      <th>Partner_Yes</th>\n",
       "      <th>Dependents_Yes</th>\n",
       "      <th>PhoneService_Yes</th>\n",
       "      <th>MultipleLines_No phone service</th>\n",
       "      <th>...</th>\n",
       "      <th>StreamingTV_No internet service</th>\n",
       "      <th>StreamingTV_Yes</th>\n",
       "      <th>StreamingMovies_No internet service</th>\n",
       "      <th>StreamingMovies_Yes</th>\n",
       "      <th>Contract_One year</th>\n",
       "      <th>Contract_Two year</th>\n",
       "      <th>PaperlessBilling_Yes</th>\n",
       "      <th>PaymentMethod_Credit card (automatic)</th>\n",
       "      <th>PaymentMethod_Electronic check</th>\n",
       "      <th>PaymentMethod_Mailed check</th>\n",
       "    </tr>\n",
       "  </thead>\n",
       "  <tbody>\n",
       "    <tr>\n",
       "      <th>0</th>\n",
       "      <td>0</td>\n",
       "      <td>1</td>\n",
       "      <td>29.85</td>\n",
       "      <td>29.85</td>\n",
       "      <td>0</td>\n",
       "      <td>0</td>\n",
       "      <td>1</td>\n",
       "      <td>0</td>\n",
       "      <td>0</td>\n",
       "      <td>1</td>\n",
       "      <td>...</td>\n",
       "      <td>0</td>\n",
       "      <td>0</td>\n",
       "      <td>0</td>\n",
       "      <td>0</td>\n",
       "      <td>0</td>\n",
       "      <td>0</td>\n",
       "      <td>1</td>\n",
       "      <td>0</td>\n",
       "      <td>1</td>\n",
       "      <td>0</td>\n",
       "    </tr>\n",
       "    <tr>\n",
       "      <th>1</th>\n",
       "      <td>0</td>\n",
       "      <td>34</td>\n",
       "      <td>56.95</td>\n",
       "      <td>1889.50</td>\n",
       "      <td>0</td>\n",
       "      <td>1</td>\n",
       "      <td>0</td>\n",
       "      <td>0</td>\n",
       "      <td>1</td>\n",
       "      <td>0</td>\n",
       "      <td>...</td>\n",
       "      <td>0</td>\n",
       "      <td>0</td>\n",
       "      <td>0</td>\n",
       "      <td>0</td>\n",
       "      <td>1</td>\n",
       "      <td>0</td>\n",
       "      <td>0</td>\n",
       "      <td>0</td>\n",
       "      <td>0</td>\n",
       "      <td>1</td>\n",
       "    </tr>\n",
       "    <tr>\n",
       "      <th>2</th>\n",
       "      <td>0</td>\n",
       "      <td>2</td>\n",
       "      <td>53.85</td>\n",
       "      <td>108.15</td>\n",
       "      <td>1</td>\n",
       "      <td>1</td>\n",
       "      <td>0</td>\n",
       "      <td>0</td>\n",
       "      <td>1</td>\n",
       "      <td>0</td>\n",
       "      <td>...</td>\n",
       "      <td>0</td>\n",
       "      <td>0</td>\n",
       "      <td>0</td>\n",
       "      <td>0</td>\n",
       "      <td>0</td>\n",
       "      <td>0</td>\n",
       "      <td>1</td>\n",
       "      <td>0</td>\n",
       "      <td>0</td>\n",
       "      <td>1</td>\n",
       "    </tr>\n",
       "    <tr>\n",
       "      <th>3</th>\n",
       "      <td>0</td>\n",
       "      <td>45</td>\n",
       "      <td>42.30</td>\n",
       "      <td>1840.75</td>\n",
       "      <td>0</td>\n",
       "      <td>1</td>\n",
       "      <td>0</td>\n",
       "      <td>0</td>\n",
       "      <td>0</td>\n",
       "      <td>1</td>\n",
       "      <td>...</td>\n",
       "      <td>0</td>\n",
       "      <td>0</td>\n",
       "      <td>0</td>\n",
       "      <td>0</td>\n",
       "      <td>1</td>\n",
       "      <td>0</td>\n",
       "      <td>0</td>\n",
       "      <td>0</td>\n",
       "      <td>0</td>\n",
       "      <td>0</td>\n",
       "    </tr>\n",
       "    <tr>\n",
       "      <th>4</th>\n",
       "      <td>0</td>\n",
       "      <td>2</td>\n",
       "      <td>70.70</td>\n",
       "      <td>151.65</td>\n",
       "      <td>1</td>\n",
       "      <td>0</td>\n",
       "      <td>0</td>\n",
       "      <td>0</td>\n",
       "      <td>1</td>\n",
       "      <td>0</td>\n",
       "      <td>...</td>\n",
       "      <td>0</td>\n",
       "      <td>0</td>\n",
       "      <td>0</td>\n",
       "      <td>0</td>\n",
       "      <td>0</td>\n",
       "      <td>0</td>\n",
       "      <td>1</td>\n",
       "      <td>0</td>\n",
       "      <td>1</td>\n",
       "      <td>0</td>\n",
       "    </tr>\n",
       "  </tbody>\n",
       "</table>\n",
       "<p>5 rows × 31 columns</p>\n",
       "</div>"
      ],
      "text/plain": [
       "   SeniorCitizen  tenure  MonthlyCharges  TotalCharges  Churn  gender_Male  \\\n",
       "0              0       1           29.85         29.85      0            0   \n",
       "1              0      34           56.95       1889.50      0            1   \n",
       "2              0       2           53.85        108.15      1            1   \n",
       "3              0      45           42.30       1840.75      0            1   \n",
       "4              0       2           70.70        151.65      1            0   \n",
       "\n",
       "   Partner_Yes  Dependents_Yes  PhoneService_Yes  \\\n",
       "0            1               0                 0   \n",
       "1            0               0                 1   \n",
       "2            0               0                 1   \n",
       "3            0               0                 0   \n",
       "4            0               0                 1   \n",
       "\n",
       "   MultipleLines_No phone service  ...  StreamingTV_No internet service  \\\n",
       "0                               1  ...                                0   \n",
       "1                               0  ...                                0   \n",
       "2                               0  ...                                0   \n",
       "3                               1  ...                                0   \n",
       "4                               0  ...                                0   \n",
       "\n",
       "   StreamingTV_Yes  StreamingMovies_No internet service  StreamingMovies_Yes  \\\n",
       "0                0                                    0                    0   \n",
       "1                0                                    0                    0   \n",
       "2                0                                    0                    0   \n",
       "3                0                                    0                    0   \n",
       "4                0                                    0                    0   \n",
       "\n",
       "   Contract_One year  Contract_Two year  PaperlessBilling_Yes  \\\n",
       "0                  0                  0                     1   \n",
       "1                  1                  0                     0   \n",
       "2                  0                  0                     1   \n",
       "3                  1                  0                     0   \n",
       "4                  0                  0                     1   \n",
       "\n",
       "   PaymentMethod_Credit card (automatic)  PaymentMethod_Electronic check  \\\n",
       "0                                      0                               1   \n",
       "1                                      0                               0   \n",
       "2                                      0                               0   \n",
       "3                                      0                               0   \n",
       "4                                      0                               1   \n",
       "\n",
       "   PaymentMethod_Mailed check  \n",
       "0                           0  \n",
       "1                           1  \n",
       "2                           1  \n",
       "3                           0  \n",
       "4                           0  \n",
       "\n",
       "[5 rows x 31 columns]"
      ]
     },
     "execution_count": 126,
     "metadata": {},
     "output_type": "execute_result"
    }
   ],
   "source": [
    "cust_churn.head()"
   ]
  },
  {
   "cell_type": "code",
   "execution_count": 164,
   "id": "bf2c4357-8709-42e4-9b7d-2cc884380f46",
   "metadata": {},
   "outputs": [],
   "source": [
    "# df=cust_churn.applymap(lambda x:int(x) if isinstance(x,bool) else x)"
   ]
  },
  {
   "cell_type": "code",
   "execution_count": 168,
   "id": "eb78edba-f98b-4a5a-9d2e-74741e7dfa4e",
   "metadata": {},
   "outputs": [],
   "source": [
    "# split the data into x and y\n",
    "x=cust_churn.drop(['Churn'],axis=1)\n",
    "y=cust_churn['Churn']"
   ]
  },
  {
   "cell_type": "code",
   "execution_count": 170,
   "id": "93bf08da-3fe0-426d-80be-8a0c434b493c",
   "metadata": {},
   "outputs": [],
   "source": [
    "# Feature scaling required\n",
    "from sklearn.preprocessing import StandardScaler\n",
    "ss=StandardScaler()\n",
    "ss_col=['tenure','MonthlyCharges','TotalCharges']\n",
    "x[ss_col]=ss.fit_transform(x[ss_col])"
   ]
  },
  {
   "cell_type": "code",
   "execution_count": 176,
   "id": "3e43c2e6-0600-4aad-954d-51807cbfefcd",
   "metadata": {},
   "outputs": [
    {
     "name": "stdout",
     "output_type": "stream",
     "text": [
      "Churn\n",
      "0    5174\n",
      "1    1869\n",
      "Name: count, dtype: int64\n",
      "\n",
      "Churn\n",
      "0    5174\n",
      "1    5174\n",
      "Name: count, dtype: int64\n"
     ]
    }
   ],
   "source": [
    "# Handling imbalanced dataset by using smote techniques\n",
    "import imblearn\n",
    "from imblearn.over_sampling import SMOTE\n",
    "smote=SMOTE()\n",
    "x_smote,y_smote=smote.fit_resample(x,y)\n",
    "print(y.value_counts())\n",
    "print()\n",
    "print(y_smote.value_counts())"
   ]
  },
  {
   "cell_type": "code",
   "execution_count": 178,
   "id": "321d1d6d-d198-40fb-bdfa-884b62c1be6a",
   "metadata": {},
   "outputs": [],
   "source": [
    "# Splitting the data into train and test\n",
    "from sklearn.model_selection import train_test_split\n",
    "x_train,x_test,y_train,y_test=train_test_split(x_smote,y_smote,test_size=0.3,random_state=101)\n",
    "# Stratified not required because not imbalanced"
   ]
  },
  {
   "cell_type": "code",
   "execution_count": 184,
   "id": "18e0e29f-93fb-47e8-b7d3-b876b6ab76b7",
   "metadata": {},
   "outputs": [
    {
     "name": "stdout",
     "output_type": "stream",
     "text": [
      "Collecting pandas_profiling\n",
      "  Downloading pandas_profiling-3.2.0-py2.py3-none-any.whl.metadata (21 kB)\n",
      "Collecting joblib~=1.1.0 (from pandas_profiling)\n",
      "  Downloading joblib-1.1.1-py2.py3-none-any.whl.metadata (5.2 kB)\n",
      "Requirement already satisfied: scipy>=1.4.1 in /opt/anaconda3/lib/python3.11/site-packages (from pandas_profiling) (1.11.4)\n",
      "Requirement already satisfied: pandas!=1.0.0,!=1.0.1,!=1.0.2,!=1.1.0,>=0.25.3 in /opt/anaconda3/lib/python3.11/site-packages (from pandas_profiling) (2.1.4)\n",
      "Requirement already satisfied: matplotlib>=3.2.0 in /opt/anaconda3/lib/python3.11/site-packages (from pandas_profiling) (3.8.0)\n",
      "Requirement already satisfied: pydantic>=1.8.1 in /opt/anaconda3/lib/python3.11/site-packages (from pandas_profiling) (1.10.12)\n",
      "Requirement already satisfied: PyYAML>=5.0.0 in /opt/anaconda3/lib/python3.11/site-packages (from pandas_profiling) (6.0.1)\n",
      "Requirement already satisfied: jinja2>=2.11.1 in /opt/anaconda3/lib/python3.11/site-packages (from pandas_profiling) (3.1.3)\n",
      "Requirement already satisfied: markupsafe~=2.1.1 in /opt/anaconda3/lib/python3.11/site-packages (from pandas_profiling) (2.1.3)\n",
      "Collecting visions==0.7.4 (from visions[type_image_path]==0.7.4->pandas_profiling)\n",
      "  Downloading visions-0.7.4-py3-none-any.whl.metadata (5.9 kB)\n",
      "Requirement already satisfied: numpy>=1.16.0 in /opt/anaconda3/lib/python3.11/site-packages (from pandas_profiling) (1.26.4)\n",
      "Collecting htmlmin>=0.1.12 (from pandas_profiling)\n",
      "  Downloading htmlmin-0.1.12.tar.gz (19 kB)\n",
      "  Preparing metadata (setup.py) ... \u001b[?25ldone\n",
      "\u001b[?25hRequirement already satisfied: missingno>=0.4.2 in /opt/anaconda3/lib/python3.11/site-packages (from pandas_profiling) (0.5.2)\n",
      "Collecting phik>=0.11.1 (from pandas_profiling)\n",
      "  Downloading phik-0.12.4-cp311-cp311-macosx_11_0_arm64.whl.metadata (5.6 kB)\n",
      "Collecting tangled-up-in-unicode==0.2.0 (from pandas_profiling)\n",
      "  Downloading tangled_up_in_unicode-0.2.0-py3-none-any.whl.metadata (4.8 kB)\n",
      "Requirement already satisfied: requests>=2.24.0 in /opt/anaconda3/lib/python3.11/site-packages (from pandas_profiling) (2.31.0)\n",
      "Requirement already satisfied: tqdm>=4.48.2 in /opt/anaconda3/lib/python3.11/site-packages (from pandas_profiling) (4.65.0)\n",
      "Requirement already satisfied: seaborn>=0.10.1 in /opt/anaconda3/lib/python3.11/site-packages (from pandas_profiling) (0.12.2)\n",
      "Collecting multimethod>=1.4 (from pandas_profiling)\n",
      "  Downloading multimethod-2.0-py3-none-any.whl.metadata (9.2 kB)\n",
      "Requirement already satisfied: attrs>=19.3.0 in /opt/anaconda3/lib/python3.11/site-packages (from visions==0.7.4->visions[type_image_path]==0.7.4->pandas_profiling) (23.1.0)\n",
      "Requirement already satisfied: networkx>=2.4 in /opt/anaconda3/lib/python3.11/site-packages (from visions==0.7.4->visions[type_image_path]==0.7.4->pandas_profiling) (3.1)\n",
      "Collecting imagehash (from visions[type_image_path]==0.7.4->pandas_profiling)\n",
      "  Downloading ImageHash-4.3.2-py2.py3-none-any.whl.metadata (8.4 kB)\n",
      "Requirement already satisfied: Pillow in /opt/anaconda3/lib/python3.11/site-packages (from visions[type_image_path]==0.7.4->pandas_profiling) (10.2.0)\n",
      "Requirement already satisfied: contourpy>=1.0.1 in /opt/anaconda3/lib/python3.11/site-packages (from matplotlib>=3.2.0->pandas_profiling) (1.2.0)\n",
      "Requirement already satisfied: cycler>=0.10 in /opt/anaconda3/lib/python3.11/site-packages (from matplotlib>=3.2.0->pandas_profiling) (0.11.0)\n",
      "Requirement already satisfied: fonttools>=4.22.0 in /opt/anaconda3/lib/python3.11/site-packages (from matplotlib>=3.2.0->pandas_profiling) (4.25.0)\n",
      "Requirement already satisfied: kiwisolver>=1.0.1 in /opt/anaconda3/lib/python3.11/site-packages (from matplotlib>=3.2.0->pandas_profiling) (1.4.4)\n",
      "Requirement already satisfied: packaging>=20.0 in /opt/anaconda3/lib/python3.11/site-packages (from matplotlib>=3.2.0->pandas_profiling) (23.1)\n",
      "Requirement already satisfied: pyparsing>=2.3.1 in /opt/anaconda3/lib/python3.11/site-packages (from matplotlib>=3.2.0->pandas_profiling) (3.0.9)\n",
      "Requirement already satisfied: python-dateutil>=2.7 in /opt/anaconda3/lib/python3.11/site-packages (from matplotlib>=3.2.0->pandas_profiling) (2.8.2)\n",
      "Requirement already satisfied: pytz>=2020.1 in /opt/anaconda3/lib/python3.11/site-packages (from pandas!=1.0.0,!=1.0.1,!=1.0.2,!=1.1.0,>=0.25.3->pandas_profiling) (2023.3.post1)\n",
      "Requirement already satisfied: tzdata>=2022.1 in /opt/anaconda3/lib/python3.11/site-packages (from pandas!=1.0.0,!=1.0.1,!=1.0.2,!=1.1.0,>=0.25.3->pandas_profiling) (2023.3)\n",
      "Requirement already satisfied: typing-extensions>=4.2.0 in /opt/anaconda3/lib/python3.11/site-packages (from pydantic>=1.8.1->pandas_profiling) (4.9.0)\n",
      "Requirement already satisfied: charset-normalizer<4,>=2 in /opt/anaconda3/lib/python3.11/site-packages (from requests>=2.24.0->pandas_profiling) (2.0.4)\n",
      "Requirement already satisfied: idna<4,>=2.5 in /opt/anaconda3/lib/python3.11/site-packages (from requests>=2.24.0->pandas_profiling) (3.4)\n",
      "Requirement already satisfied: urllib3<3,>=1.21.1 in /opt/anaconda3/lib/python3.11/site-packages (from requests>=2.24.0->pandas_profiling) (2.0.7)\n",
      "Requirement already satisfied: certifi>=2017.4.17 in /opt/anaconda3/lib/python3.11/site-packages (from requests>=2.24.0->pandas_profiling) (2024.8.30)\n",
      "Requirement already satisfied: six>=1.5 in /opt/anaconda3/lib/python3.11/site-packages (from python-dateutil>=2.7->matplotlib>=3.2.0->pandas_profiling) (1.16.0)\n",
      "Requirement already satisfied: PyWavelets in /opt/anaconda3/lib/python3.11/site-packages (from imagehash->visions[type_image_path]==0.7.4->pandas_profiling) (1.5.0)\n",
      "Downloading pandas_profiling-3.2.0-py2.py3-none-any.whl (262 kB)\n",
      "\u001b[2K   \u001b[90m━━━━━━━━━━━━━━━━━━━━━━━━━━━━━━━━━━━━━━━━\u001b[0m \u001b[32m262.6/262.6 kB\u001b[0m \u001b[31m8.9 MB/s\u001b[0m eta \u001b[36m0:00:00\u001b[0m\n",
      "\u001b[?25hDownloading tangled_up_in_unicode-0.2.0-py3-none-any.whl (4.7 MB)\n",
      "\u001b[2K   \u001b[90m━━━━━━━━━━━━━━━━━━━━━━━━━━━━━━━━━━━━━━━━\u001b[0m \u001b[32m4.7/4.7 MB\u001b[0m \u001b[31m11.8 MB/s\u001b[0m eta \u001b[36m0:00:00\u001b[0ma \u001b[36m0:00:01\u001b[0m\n",
      "\u001b[?25hDownloading visions-0.7.4-py3-none-any.whl (102 kB)\n",
      "\u001b[2K   \u001b[90m━━━━━━━━━━━━━━━━━━━━━━━━━━━━━━━━━━━━━━━━\u001b[0m \u001b[32m102.4/102.4 kB\u001b[0m \u001b[31m10.2 MB/s\u001b[0m eta \u001b[36m0:00:00\u001b[0m\n",
      "\u001b[?25hDownloading joblib-1.1.1-py2.py3-none-any.whl (309 kB)\n",
      "\u001b[2K   \u001b[90m━━━━━━━━━━━━━━━━━━━━━━━━━━━━━━━━━━━━━━━━\u001b[0m \u001b[32m309.8/309.8 kB\u001b[0m \u001b[31m9.9 MB/s\u001b[0m eta \u001b[36m0:00:00\u001b[0m\n",
      "\u001b[?25hDownloading multimethod-2.0-py3-none-any.whl (9.8 kB)\n",
      "Downloading phik-0.12.4-cp311-cp311-macosx_11_0_arm64.whl (657 kB)\n",
      "\u001b[2K   \u001b[90m━━━━━━━━━━━━━━━━━━━━━━━━━━━━━━━━━━━━━━━━\u001b[0m \u001b[32m657.3/657.3 kB\u001b[0m \u001b[31m13.1 MB/s\u001b[0m eta \u001b[36m0:00:00\u001b[0ma \u001b[36m0:00:01\u001b[0m\n",
      "\u001b[?25hDownloading ImageHash-4.3.2-py2.py3-none-any.whl (296 kB)\n",
      "\u001b[2K   \u001b[90m━━━━━━━━━━━━━━━━━━━━━━━━━━━━━━━━━━━━━━━━\u001b[0m \u001b[32m296.7/296.7 kB\u001b[0m \u001b[31m12.8 MB/s\u001b[0m eta \u001b[36m0:00:00\u001b[0m\n",
      "\u001b[?25hBuilding wheels for collected packages: htmlmin\n",
      "  Building wheel for htmlmin (setup.py) ... \u001b[?25ldone\n",
      "\u001b[?25h  Created wheel for htmlmin: filename=htmlmin-0.1.12-py3-none-any.whl size=27081 sha256=977bc9eb1de60f78526de6321e15c3bc9d0ef7807abc705b8d2c67b35583d0de\n",
      "  Stored in directory: /Users/drishtisinha/Library/Caches/pip/wheels/8d/55/1a/19cd535375ed1ede0c996405ebffe34b196d78e2d9545723a2\n",
      "Successfully built htmlmin\n",
      "Installing collected packages: htmlmin, tangled-up-in-unicode, multimethod, joblib, imagehash, visions, phik, pandas_profiling\n",
      "  Attempting uninstall: joblib\n",
      "    Found existing installation: joblib 1.2.0\n",
      "    Uninstalling joblib-1.2.0:\n",
      "      Successfully uninstalled joblib-1.2.0\n",
      "Successfully installed htmlmin-0.1.12 imagehash-4.3.2 joblib-1.1.1 multimethod-2.0 pandas_profiling-3.2.0 phik-0.12.4 tangled-up-in-unicode-0.2.0 visions-0.7.4\n"
     ]
    }
   ],
   "source": [
    "#!pip install pandas_profiling"
   ]
  },
  {
   "cell_type": "code",
   "execution_count": 189,
   "id": "2eb3deb2-1a05-452e-bf24-93a0850b0913",
   "metadata": {},
   "outputs": [],
   "source": [
    "# # pandas profiling (EDA part)\n",
    "# from pandas_profiling import ProfileReport\n",
    "# reports=ProfileReport(cust_churn)\n",
    "# reports.to_file(out_file='output.html')"
   ]
  },
  {
   "cell_type": "code",
   "execution_count": 191,
   "id": "2019532e-4a62-47e3-8694-1901a9cbed72",
   "metadata": {},
   "outputs": [
    {
     "data": {
      "text/html": [
       "<style>#sk-container-id-1 {color: black;background-color: white;}#sk-container-id-1 pre{padding: 0;}#sk-container-id-1 div.sk-toggleable {background-color: white;}#sk-container-id-1 label.sk-toggleable__label {cursor: pointer;display: block;width: 100%;margin-bottom: 0;padding: 0.3em;box-sizing: border-box;text-align: center;}#sk-container-id-1 label.sk-toggleable__label-arrow:before {content: \"▸\";float: left;margin-right: 0.25em;color: #696969;}#sk-container-id-1 label.sk-toggleable__label-arrow:hover:before {color: black;}#sk-container-id-1 div.sk-estimator:hover label.sk-toggleable__label-arrow:before {color: black;}#sk-container-id-1 div.sk-toggleable__content {max-height: 0;max-width: 0;overflow: hidden;text-align: left;background-color: #f0f8ff;}#sk-container-id-1 div.sk-toggleable__content pre {margin: 0.2em;color: black;border-radius: 0.25em;background-color: #f0f8ff;}#sk-container-id-1 input.sk-toggleable__control:checked~div.sk-toggleable__content {max-height: 200px;max-width: 100%;overflow: auto;}#sk-container-id-1 input.sk-toggleable__control:checked~label.sk-toggleable__label-arrow:before {content: \"▾\";}#sk-container-id-1 div.sk-estimator input.sk-toggleable__control:checked~label.sk-toggleable__label {background-color: #d4ebff;}#sk-container-id-1 div.sk-label input.sk-toggleable__control:checked~label.sk-toggleable__label {background-color: #d4ebff;}#sk-container-id-1 input.sk-hidden--visually {border: 0;clip: rect(1px 1px 1px 1px);clip: rect(1px, 1px, 1px, 1px);height: 1px;margin: -1px;overflow: hidden;padding: 0;position: absolute;width: 1px;}#sk-container-id-1 div.sk-estimator {font-family: monospace;background-color: #f0f8ff;border: 1px dotted black;border-radius: 0.25em;box-sizing: border-box;margin-bottom: 0.5em;}#sk-container-id-1 div.sk-estimator:hover {background-color: #d4ebff;}#sk-container-id-1 div.sk-parallel-item::after {content: \"\";width: 100%;border-bottom: 1px solid gray;flex-grow: 1;}#sk-container-id-1 div.sk-label:hover label.sk-toggleable__label {background-color: #d4ebff;}#sk-container-id-1 div.sk-serial::before {content: \"\";position: absolute;border-left: 1px solid gray;box-sizing: border-box;top: 0;bottom: 0;left: 50%;z-index: 0;}#sk-container-id-1 div.sk-serial {display: flex;flex-direction: column;align-items: center;background-color: white;padding-right: 0.2em;padding-left: 0.2em;position: relative;}#sk-container-id-1 div.sk-item {position: relative;z-index: 1;}#sk-container-id-1 div.sk-parallel {display: flex;align-items: stretch;justify-content: center;background-color: white;position: relative;}#sk-container-id-1 div.sk-item::before, #sk-container-id-1 div.sk-parallel-item::before {content: \"\";position: absolute;border-left: 1px solid gray;box-sizing: border-box;top: 0;bottom: 0;left: 50%;z-index: -1;}#sk-container-id-1 div.sk-parallel-item {display: flex;flex-direction: column;z-index: 1;position: relative;background-color: white;}#sk-container-id-1 div.sk-parallel-item:first-child::after {align-self: flex-end;width: 50%;}#sk-container-id-1 div.sk-parallel-item:last-child::after {align-self: flex-start;width: 50%;}#sk-container-id-1 div.sk-parallel-item:only-child::after {width: 0;}#sk-container-id-1 div.sk-dashed-wrapped {border: 1px dashed gray;margin: 0 0.4em 0.5em 0.4em;box-sizing: border-box;padding-bottom: 0.4em;background-color: white;}#sk-container-id-1 div.sk-label label {font-family: monospace;font-weight: bold;display: inline-block;line-height: 1.2em;}#sk-container-id-1 div.sk-label-container {text-align: center;}#sk-container-id-1 div.sk-container {/* jupyter's `normalize.less` sets `[hidden] { display: none; }` but bootstrap.min.css set `[hidden] { display: none !important; }` so we also need the `!important` here to be able to override the default hidden behavior on the sphinx rendered scikit-learn.org. See: https://github.com/scikit-learn/scikit-learn/issues/21755 */display: inline-block !important;position: relative;}#sk-container-id-1 div.sk-text-repr-fallback {display: none;}</style><div id=\"sk-container-id-1\" class=\"sk-top-container\"><div class=\"sk-text-repr-fallback\"><pre>LogisticRegression()</pre><b>In a Jupyter environment, please rerun this cell to show the HTML representation or trust the notebook. <br />On GitHub, the HTML representation is unable to render, please try loading this page with nbviewer.org.</b></div><div class=\"sk-container\" hidden><div class=\"sk-item\"><div class=\"sk-estimator sk-toggleable\"><input class=\"sk-toggleable__control sk-hidden--visually\" id=\"sk-estimator-id-1\" type=\"checkbox\" checked><label for=\"sk-estimator-id-1\" class=\"sk-toggleable__label sk-toggleable__label-arrow\">LogisticRegression</label><div class=\"sk-toggleable__content\"><pre>LogisticRegression()</pre></div></div></div></div></div>"
      ],
      "text/plain": [
       "LogisticRegression()"
      ]
     },
     "execution_count": 191,
     "metadata": {},
     "output_type": "execute_result"
    }
   ],
   "source": [
    "# Logistic Regression\n",
    "from sklearn.linear_model import LogisticRegression\n",
    "logit=LogisticRegression()\n",
    "logit.fit(x_train,y_train)"
   ]
  },
  {
   "cell_type": "code",
   "execution_count": 193,
   "id": "3f0c6440-6608-478c-aa8e-f17e2f73d7c1",
   "metadata": {},
   "outputs": [],
   "source": [
    "# prediction\n",
    "y_pred_train=logit.predict(x_train)\n",
    "y_pred_test=logit.predict(x_test)"
   ]
  },
  {
   "cell_type": "code",
   "execution_count": 195,
   "id": "852f8bfd-c585-4caf-83bb-c8408bf62992",
   "metadata": {},
   "outputs": [],
   "source": [
    "# Evaluation metrics\n",
    "from sklearn.metrics import classification_report, accuracy_score"
   ]
  },
  {
   "cell_type": "code",
   "execution_count": 197,
   "id": "af134417-a4fe-4ffb-aeef-2343fff43b02",
   "metadata": {
    "scrolled": true
   },
   "outputs": [
    {
     "name": "stdout",
     "output_type": "stream",
     "text": [
      "              precision    recall  f1-score   support\n",
      "\n",
      "           0       0.83      0.76      0.79      3614\n",
      "           1       0.78      0.84      0.81      3629\n",
      "\n",
      "    accuracy                           0.80      7243\n",
      "   macro avg       0.80      0.80      0.80      7243\n",
      "weighted avg       0.80      0.80      0.80      7243\n",
      "\n",
      "\n",
      "              precision    recall  f1-score   support\n",
      "\n",
      "           0       0.83      0.78      0.80      1560\n",
      "           1       0.79      0.84      0.82      1545\n",
      "\n",
      "    accuracy                           0.81      3105\n",
      "   macro avg       0.81      0.81      0.81      3105\n",
      "weighted avg       0.81      0.81      0.81      3105\n",
      "\n"
     ]
    }
   ],
   "source": [
    "print(classification_report(y_train,y_pred_train))\n",
    "print()\n",
    "print(classification_report(y_test,y_pred_test))\n"
   ]
  },
  {
   "cell_type": "code",
   "execution_count": 199,
   "id": "060f74b6-6500-4640-a16d-ed68ffdc8c13",
   "metadata": {},
   "outputs": [
    {
     "name": "stdout",
     "output_type": "stream",
     "text": [
      "0.7993925169128814\n",
      "\n",
      "0.8093397745571659\n"
     ]
    }
   ],
   "source": [
    "print(accuracy_score(y_train,y_pred_train))\n",
    "print()\n",
    "print(accuracy_score(y_test,y_pred_test))"
   ]
  },
  {
   "cell_type": "code",
   "execution_count": 201,
   "id": "44946a61-83a3-45c8-bef0-a1d564ccf609",
   "metadata": {},
   "outputs": [],
   "source": [
    "# If training accuracy is less than 70 % - high bias problem (Boosting method to prevent)\n",
    "# If training accuracy is higher(very large difference) - high variance (Bagging method to prevent)"
   ]
  },
  {
   "cell_type": "code",
   "execution_count": null,
   "id": "275da9d5-9f95-427e-918e-fb10054c45b8",
   "metadata": {},
   "outputs": [],
   "source": []
  }
 ],
 "metadata": {
  "kernelspec": {
   "display_name": "Python 3 (ipykernel)",
   "language": "python",
   "name": "python3"
  },
  "language_info": {
   "codemirror_mode": {
    "name": "ipython",
    "version": 3
   },
   "file_extension": ".py",
   "mimetype": "text/x-python",
   "name": "python",
   "nbconvert_exporter": "python",
   "pygments_lexer": "ipython3",
   "version": "3.11.7"
  }
 },
 "nbformat": 4,
 "nbformat_minor": 5
}
